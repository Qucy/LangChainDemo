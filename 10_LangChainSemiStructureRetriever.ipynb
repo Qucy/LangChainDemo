{
 "cells": [
  {
   "cell_type": "markdown",
   "id": "c7df3c37-51f1-43db-b0c4-99384ca0c715",
   "metadata": {},
   "source": [
    "### Data Loading\n",
    "Partition PDF tables, text, and images"
   ]
  },
  {
   "cell_type": "code",
   "execution_count": 1,
   "id": "8c5ab912-6b86-4905-8a50-1dd0a973eabd",
   "metadata": {},
   "outputs": [],
   "source": [
    "from lxml import html\n",
    "from pydantic import BaseModel\n",
    "from typing import Any, Optional\n",
    "from unstructured.partition.pdf import partition_pdf\n",
    "\n",
    "\n",
    "target_file = './data/investment-monthly-sep23.pdf'\n",
    "image_output_dir_path = './output_image/'"
   ]
  },
  {
   "cell_type": "code",
   "execution_count": 4,
   "id": "ba51e42f-8ab1-4595-ab41-b6317242eca4",
   "metadata": {},
   "outputs": [],
   "source": [
    "# Get elements\n",
    "# raw_pdf_elements = partition_pdf(filename=target_file,\n",
    "#                                  # Using pdf format to find embedded image blocks\n",
    "#                                  extract_images_in_pdf=True,\n",
    "#                                  # Use layout model (YOLOX) to get bounding boxes (for tables) and find titles\n",
    "#                                  # Titles are any sub-section of the document \n",
    "#                                  infer_table_structure=True, \n",
    "#                                  # Post processing to aggregate text once we have the title \n",
    "#                                  chunking_strategy=\"by_title\",\n",
    "#                                  # Chunking params to aggregate text blocks\n",
    "#                                  # Attempt to create a new chunk 3800 chars\n",
    "#                                  # Attempt to keep chunks > 2000 chars \n",
    "#                                  # Hard max on chunks\n",
    "#                                  max_characters=4000, \n",
    "#                                  new_after_n_chars=3800, \n",
    "#                                  combine_text_under_n_chars=2000,\n",
    "#                                  image_output_dir_path=image_output_dir_path)"
   ]
  },
  {
   "cell_type": "code",
   "execution_count": null,
   "id": "2e864c49-d2aa-40e1-97bd-4996fa9ceac2",
   "metadata": {},
   "outputs": [],
   "source": [
    "# Create a dictionary to store counts of each type\n",
    "category_counts = {}\n",
    "\n",
    "for element in raw_pdf_elements:\n",
    "    category = str(type(element))\n",
    "    if category in category_counts:\n",
    "        category_counts[category] += 1\n",
    "    else:\n",
    "        category_counts[category] = 1\n",
    "\n",
    "# Unique_categories will have unique elements\n",
    "unique_categories = set(category_counts.keys())\n",
    "category_counts"
   ]
  },
  {
   "cell_type": "code",
   "execution_count": null,
   "id": "da78a807-a2ca-4064-9218-525b34fa6e92",
   "metadata": {},
   "outputs": [],
   "source": [
    "class Element(BaseModel):\n",
    "    type: str\n",
    "    text: Any\n",
    "\n",
    "# Categorize by type\n",
    "categorized_elements = []\n",
    "for element in raw_pdf_elements:\n",
    "    if \"unstructured.documents.elements.Table\" in str(type(element)):\n",
    "        categorized_elements.append(Element(type=\"table\", text=str(element)))\n",
    "    elif \"unstructured.documents.elements.CompositeElement\" in str(type(element)):\n",
    "        categorized_elements.append(Element(type=\"text\", text=str(element)))\n",
    "\n",
    "# Tables\n",
    "table_elements = [e for e in categorized_elements if e.type == \"table\"]\n",
    "print(len(table_elements))\n",
    "\n",
    "# Text\n",
    "text_elements = [e for e in categorized_elements if e.type == \"text\"]\n",
    "print(len(text_elements))"
   ]
  },
  {
   "cell_type": "markdown",
   "id": "db35322c-ef4b-49f8-bcc7-21e60a142cc5",
   "metadata": {},
   "source": [
    "### Multi-vector retriever\n",
    "Use multi-vector-retriever.\n",
    "\n",
    "Summaries are used to retrieve raw tables and / or raw chunks of text.\n",
    "\n",
    "Text and Table summaries"
   ]
  },
  {
   "cell_type": "code",
   "execution_count": null,
   "id": "a9101579-c415-4e94-a348-2486e05f6f24",
   "metadata": {},
   "outputs": [],
   "source": [
    "from langchain.chat_models import AzureChatOpenAI\n",
    "from langchain.prompts import ChatPromptTemplate\n",
    "from langchain.schema.output_parser import StrOutputParser\n",
    "\n",
    "\n",
    "# Prompt \n",
    "prompt_text=\"\"\"You are an assistant tasked with summarizing tables and text. \\ \n",
    "Give a concise summary of the table or text. Table or text chunk: {element} \"\"\"\n",
    "prompt = ChatPromptTemplate.from_template(prompt_text) \n",
    "\n",
    "# Summary chain \n",
    "model = ChatOpenAI(temperature=0, model=\"gpt-4\")\n",
    "summarize_chain = {\"element\": lambda x:x} | prompt | model | StrOutputParser()"
   ]
  },
  {
   "cell_type": "code",
   "execution_count": null,
   "id": "7a63ecbd-d9a9-4193-895d-3ea5d5dbb03e",
   "metadata": {},
   "outputs": [],
   "source": [
    "# Apply to text\n",
    "texts = [i.text for i in text_elements]\n",
    "text_summaries = summarize_chain.batch(texts, {\"max_concurrency\": 5})"
   ]
  },
  {
   "cell_type": "code",
   "execution_count": null,
   "id": "6c1afc25-097d-4622-8d72-7eb6856a5f6d",
   "metadata": {},
   "outputs": [],
   "source": [
    "# Apply to tables\n",
    "tables = [i.text for i in table_elements]\n",
    "table_summaries = summarize_chain.batch(tables, {\"max_concurrency\": 5})"
   ]
  },
  {
   "cell_type": "code",
   "execution_count": null,
   "id": "b0558fa1-999b-4eba-8701-0ca47f92acf9",
   "metadata": {},
   "outputs": [],
   "source": []
  },
  {
   "cell_type": "code",
   "execution_count": null,
   "id": "0cc8529d-826f-4699-96ba-0ea8d1e0a7d4",
   "metadata": {},
   "outputs": [],
   "source": []
  }
 ],
 "metadata": {
  "kernelspec": {
   "display_name": "Python 3 (ipykernel)",
   "language": "python",
   "name": "python3"
  },
  "language_info": {
   "codemirror_mode": {
    "name": "ipython",
    "version": 3
   },
   "file_extension": ".py",
   "mimetype": "text/x-python",
   "name": "python",
   "nbconvert_exporter": "python",
   "pygments_lexer": "ipython3",
   "version": "3.9.18"
  }
 },
 "nbformat": 4,
 "nbformat_minor": 5
}
