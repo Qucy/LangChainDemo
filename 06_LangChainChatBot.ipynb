{
 "cells": [
  {
   "cell_type": "markdown",
   "id": "8e5c7d2f-4371-47b0-a7a4-5573faa3d168",
   "metadata": {},
   "source": [
    "### This is a notebook to explore build a chatbot via LangChain Liberary\n",
    "\n",
    "- Use AzureOpenAI's API\n",
    "- Create prompt template to set the role for AI\n",
    "- Use memory component to remember the chat context\n",
    "- Include an agent to support local knowledge QA"
   ]
  },
  {
   "cell_type": "markdown",
   "id": "b80b28fd-c20f-44c8-b4db-db921160c775",
   "metadata": {},
   "source": [
    "### 1 - Create LLM Chat model"
   ]
  },
  {
   "cell_type": "code",
   "execution_count": 36,
   "id": "50169adb-6211-4630-adee-9ebb99cc1237",
   "metadata": {},
   "outputs": [],
   "source": [
    "import os\n",
    "from langchain.chat_models import AzureChatOpenAI\n",
    "from langchain.llms import AzureOpenAI \n",
    "from langchain.prompts import PromptTemplate\n",
    "\n",
    "# setup the configuration for LLM\n",
    "os.environ['OPENAI_API_KEY'] = os.getenv('OPENAI_API_KEY')\n",
    "os.environ[\"OPENAI_API_BASE\"] = \"https://qucy-openai-test.openai.azure.com/\"\n",
    "os.environ[\"OPENAI_API_TYPE\"] = \"azure\"\n",
    "os.environ[\"OPENAI_API_VERSION\"] = \"2023-03-15-preview\"\n"
   ]
  },
  {
   "cell_type": "code",
   "execution_count": 38,
   "id": "5834aa83-3aa1-47cb-af88-05d132193fe6",
   "metadata": {},
   "outputs": [
    {
     "data": {
      "text/plain": [
       "(AzureChatOpenAI(verbose=False, callbacks=None, callback_manager=None, client=<class 'openai.api_resources.chat_completion.ChatCompletion'>, model_name='gpt-35-turbo', temperature=0.7, model_kwargs={}, openai_api_key='', openai_api_base='', openai_organization='', openai_proxy='', request_timeout=None, max_retries=6, streaming=False, n=1, max_tokens=None, deployment_name='chatGPTAzure', openai_api_type='azure', openai_api_version=''),\n",
       " AzureOpenAI(cache=None, verbose=False, callbacks=None, callback_manager=None, client=<class 'openai.api_resources.completion.Completion'>, model_name='gpt-35-turbo', temperature=0.7, max_tokens=256, top_p=1, frequency_penalty=0, presence_penalty=0, n=1, best_of=1, model_kwargs={}, openai_api_key=None, openai_api_base=None, openai_organization=None, openai_proxy=None, batch_size=20, request_timeout=None, logit_bias={}, max_retries=6, streaming=False, allowed_special=set(), disallowed_special='all', deployment_name='chatGPTAzure'))"
      ]
     },
     "execution_count": 38,
     "metadata": {},
     "output_type": "execute_result"
    }
   ],
   "source": [
    "# create LLM chat model\n",
    "llm_normal = AzureOpenAI(deployment_name='chatGPTAzure', model='gpt-35-turbo')\n",
    "llm_chat = AzureChatOpenAI(deployment_name='chatGPTAzure', model='gpt-35-turbo')\n",
    "\n",
    "\n",
    "llm_chat, llm_normal"
   ]
  },
  {
   "cell_type": "markdown",
   "id": "de3288ec-ac7b-45e0-9fe1-0e186de4e311",
   "metadata": {},
   "source": [
    "### 2 - Create prompt"
   ]
  },
  {
   "cell_type": "code",
   "execution_count": 3,
   "id": "e6240f01-a139-4e89-b7e4-a34ab5623ac1",
   "metadata": {},
   "outputs": [],
   "source": [
    "from langchain.prompts import (\n",
    "    ChatPromptTemplate,\n",
    "    PromptTemplate,\n",
    "    SystemMessagePromptTemplate,\n",
    "    AIMessagePromptTemplate,\n",
    "    HumanMessagePromptTemplate,\n",
    ")\n",
    "from langchain.schema import (\n",
    "    AIMessage,\n",
    "    HumanMessage,\n",
    "    SystemMessage\n",
    ")"
   ]
  },
  {
   "cell_type": "code",
   "execution_count": 4,
   "id": "7de652d7-6fa9-48ec-a9bc-063e045424a1",
   "metadata": {},
   "outputs": [],
   "source": [
    "knowledge = \"\"\"\n",
    "  <knowledge start>\n",
    "  Things to know\n",
    "  If the customer wants to open an account, you can offer:\n",
    "  - Apply via HSBC HK App\n",
    "  - Book an appointment at the branch online in advance\n",
    "  - Arrange a call back with International Banking Centre\n",
    "\n",
    "  Need to open a bank account with HSBC HK? You can apply with us if you:\n",
    "  - are at least 18 years old\n",
    "  - meet additional criteria depending on where you live\n",
    "  - have proof of ID, proof of address\n",
    "\n",
    "  If customer wants to apply online via mobile app:\n",
    "  - They need to download the HSBC HK App to open an account online.\n",
    "  - holding an eligible Hong Kong ID or an overseas passport\n",
    "  - new to HSBC\n",
    "\n",
    "  Exchange service:\n",
    "  Send like a local experience for your global payments\n",
    "  Our mobile app has enriched the digital experience to cater your global payment needs, with just a few taps on the HSBC HK Mobile Banking App.\n",
    "\n",
    "  How will it work?\n",
    "  How to enjoy the fee-free and faster payment experience?\n",
    "  </knowledge end>\n",
    "\"\"\""
   ]
  },
  {
   "cell_type": "code",
   "execution_count": 5,
   "id": "969a9ad1-2c55-4792-9d96-e01316cb7c46",
   "metadata": {},
   "outputs": [],
   "source": [
    "prompt_template = \"\"\"\n",
    "You are a customer service for HSBC in Hong kong. You are always brief and concise in your answers.\n",
    "Customers come to you mostly with questions about account opening procedures but also other HSBC related questions.\n",
    "You will be proivde some bank knowledge to help you answer questions about HSBC.If they ask non-HSBC related questions, gently remind them you only can provide HSBC HK related knowledge\n",
    "\n",
    "\n",
    "The following is bank knowledge which you can refer to if it's relevant to the question:\n",
    "{bank_knowledge}\n",
    "\n",
    "Chat history only to give you context and don't use any prefix like AI or AI response in the answer:\n",
    "{chat_history}\n",
    "\n",
    "Customer Question:\n",
    "{customer_input}\n",
    "\"\"\"\n",
    "\n",
    "chat_prompt = PromptTemplate(\n",
    "    input_variables=[\"chat_history\", \"customer_input\", \"bank_knowledge\"], \n",
    "    template=prompt_template\n",
    ")"
   ]
  },
  {
   "cell_type": "code",
   "execution_count": 6,
   "id": "1e0692c4-b840-492a-9853-b9e904866b13",
   "metadata": {},
   "outputs": [
    {
     "data": {
      "text/plain": [
       "StringPromptValue(text=\"\\nYou are a customer service for HSBC in Hong kong. You are always brief and concise in your answers.\\nCustomers come to you mostly with questions about account opening procedures but also other HSBC related questions.\\nYou will be proivde some bank knowledge to help you answer questions about HSBC.If they ask non-HSBC related questions, gently remind them you only can provide HSBC HK related knowledge\\n\\n\\nThe following is bank knowledge which you can refer to if it's relevant to the question:\\n\\n  <knowledge start>\\n  Things to know\\n  If the customer wants to open an account, you can offer:\\n  - Apply via HSBC HK App\\n  - Book an appointment at the branch online in advance\\n  - Arrange a call back with International Banking Centre\\n\\n  Need to open a bank account with HSBC HK? You can apply with us if you:\\n  - are at least 18 years old\\n  - meet additional criteria depending on where you live\\n  - have proof of ID, proof of address\\n\\n  If customer wants to apply online via mobile app:\\n  - They need to download the HSBC HK App to open an account online.\\n  - holding an eligible Hong Kong ID or an overseas passport\\n  - new to HSBC\\n\\n  Exchange service:\\n  Send like a local experience for your global payments\\n  Our mobile app has enriched the digital experience to cater your global payment needs, with just a few taps on the HSBC HK Mobile Banking App.\\n\\n  How will it work?\\n  How to enjoy the fee-free and faster payment experience?\\n  </knowledge end>\\n\\n\\nChat history only to give you context and don't use any prefix like AI or AI response in the answer:\\n\\n\\nCustomer Question:\\nHow can I open account in HK ?\\n\")"
      ]
     },
     "execution_count": 6,
     "metadata": {},
     "output_type": "execute_result"
    }
   ],
   "source": [
    "# get a chat completion from the formatted messages\n",
    "chat_prompt.format_prompt(bank_knowledge=knowledge, chat_history=\"\", customer_input=\"How can I open account in HK ?\")"
   ]
  },
  {
   "cell_type": "markdown",
   "id": "59e48bb4-0e40-41b6-8a9b-5f29c081fcf0",
   "metadata": {},
   "source": [
    "### 3 - Create memory component"
   ]
  },
  {
   "cell_type": "code",
   "execution_count": 7,
   "id": "61e2dc31-267a-43cd-987a-75f13355217c",
   "metadata": {},
   "outputs": [],
   "source": [
    "from langchain.memory import ConversationBufferWindowMemory\n",
    "from langchain.memory import ConversationSummaryBufferMemory # call LLM to do summarization for the chat histroy\n",
    "\n",
    "# create window memory - window size = 10 and return messages\n",
    "memory = ConversationBufferWindowMemory(k=10, memory_key=\"chat_history\", input_key=\"customer_input\")"
   ]
  },
  {
   "cell_type": "code",
   "execution_count": 8,
   "id": "5b55dc5b-4fb0-4b32-9027-eb56d8cdbf7e",
   "metadata": {},
   "outputs": [
    {
     "data": {
      "text/plain": [
       "ConversationBufferWindowMemory(chat_memory=ChatMessageHistory(messages=[]), output_key=None, input_key='customer_input', return_messages=False, human_prefix='Human', ai_prefix='AI', memory_key='chat_history', k=10)"
      ]
     },
     "execution_count": 8,
     "metadata": {},
     "output_type": "execute_result"
    }
   ],
   "source": [
    "memory"
   ]
  },
  {
   "cell_type": "markdown",
   "id": "44c7aca9-aa99-4c98-9fa8-e067e3d85239",
   "metadata": {},
   "source": [
    "### 4 - Chain the LLM chat model and prompt"
   ]
  },
  {
   "cell_type": "code",
   "execution_count": 9,
   "id": "a65121db-e213-44fa-9c8e-d2f8ca9c5751",
   "metadata": {},
   "outputs": [],
   "source": [
    "from langchain import LLMChain\n",
    "\n",
    "chain = LLMChain(llm=llm_chat, prompt=chat_prompt, memory=memory, verbose=True)"
   ]
  },
  {
   "cell_type": "code",
   "execution_count": 10,
   "id": "66752613-51d7-4f2a-9f03-0034cc07e88e",
   "metadata": {},
   "outputs": [
    {
     "name": "stdout",
     "output_type": "stream",
     "text": [
      "\n",
      "\n",
      "\u001b[1m> Entering new LLMChain chain...\u001b[0m\n",
      "Prompt after formatting:\n",
      "\u001b[32;1m\u001b[1;3m\n",
      "You are a customer service for HSBC in Hong kong. You are always brief and concise in your answers.\n",
      "Customers come to you mostly with questions about account opening procedures but also other HSBC related questions.\n",
      "You will be proivde some bank knowledge to help you answer questions about HSBC.If they ask non-HSBC related questions, gently remind them you only can provide HSBC HK related knowledge\n",
      "\n",
      "\n",
      "The following is bank knowledge which you can refer to if it's relevant to the question:\n",
      "\n",
      "  <knowledge start>\n",
      "  Things to know\n",
      "  If the customer wants to open an account, you can offer:\n",
      "  - Apply via HSBC HK App\n",
      "  - Book an appointment at the branch online in advance\n",
      "  - Arrange a call back with International Banking Centre\n",
      "\n",
      "  Need to open a bank account with HSBC HK? You can apply with us if you:\n",
      "  - are at least 18 years old\n",
      "  - meet additional criteria depending on where you live\n",
      "  - have proof of ID, proof of address\n",
      "\n",
      "  If customer wants to apply online via mobile app:\n",
      "  - They need to download the HSBC HK App to open an account online.\n",
      "  - holding an eligible Hong Kong ID or an overseas passport\n",
      "  - new to HSBC\n",
      "\n",
      "  Exchange service:\n",
      "  Send like a local experience for your global payments\n",
      "  Our mobile app has enriched the digital experience to cater your global payment needs, with just a few taps on the HSBC HK Mobile Banking App.\n",
      "\n",
      "  How will it work?\n",
      "  How to enjoy the fee-free and faster payment experience?\n",
      "  </knowledge end>\n",
      "\n",
      "\n",
      "Chat history only to give you context and don't use any prefix like AI or AI response in the answer:\n",
      "\n",
      "\n",
      "Customer Question:\n",
      "How can I open an account in HK ?\n",
      "\u001b[0m\n",
      "\n",
      "\u001b[1m> Finished chain.\u001b[0m\n",
      "HSBC Response:\n",
      "Apply via HSBC HK App, book an appointment at the branch online in advance, or arrange a call back with International Banking Centre. You need to be at least 18 years old, meet additional criteria depending on where you live, and have proof of ID and proof of address.\n"
     ]
    }
   ],
   "source": [
    "# run\n",
    "customer_input = \"How can I open an account in HK ?\"\n",
    "\n",
    "response = chain.run(customer_input=customer_input, bank_knowledge=knowledge)\n",
    "\n",
    "print(response)"
   ]
  },
  {
   "cell_type": "code",
   "execution_count": 11,
   "id": "c9ab9773-c4f0-49df-9b05-5a45cdb9fd63",
   "metadata": {
    "editable": true,
    "slideshow": {
     "slide_type": ""
    },
    "tags": []
   },
   "outputs": [
    {
     "name": "stdout",
     "output_type": "stream",
     "text": [
      "\n",
      "\n",
      "\u001b[1m> Entering new LLMChain chain...\u001b[0m\n",
      "Prompt after formatting:\n",
      "\u001b[32;1m\u001b[1;3m\n",
      "You are a customer service for HSBC in Hong kong. You are always brief and concise in your answers.\n",
      "Customers come to you mostly with questions about account opening procedures but also other HSBC related questions.\n",
      "You will be proivde some bank knowledge to help you answer questions about HSBC.If they ask non-HSBC related questions, gently remind them you only can provide HSBC HK related knowledge\n",
      "\n",
      "\n",
      "The following is bank knowledge which you can refer to if it's relevant to the question:\n",
      "\n",
      "  <knowledge start>\n",
      "  Things to know\n",
      "  If the customer wants to open an account, you can offer:\n",
      "  - Apply via HSBC HK App\n",
      "  - Book an appointment at the branch online in advance\n",
      "  - Arrange a call back with International Banking Centre\n",
      "\n",
      "  Need to open a bank account with HSBC HK? You can apply with us if you:\n",
      "  - are at least 18 years old\n",
      "  - meet additional criteria depending on where you live\n",
      "  - have proof of ID, proof of address\n",
      "\n",
      "  If customer wants to apply online via mobile app:\n",
      "  - They need to download the HSBC HK App to open an account online.\n",
      "  - holding an eligible Hong Kong ID or an overseas passport\n",
      "  - new to HSBC\n",
      "\n",
      "  Exchange service:\n",
      "  Send like a local experience for your global payments\n",
      "  Our mobile app has enriched the digital experience to cater your global payment needs, with just a few taps on the HSBC HK Mobile Banking App.\n",
      "\n",
      "  How will it work?\n",
      "  How to enjoy the fee-free and faster payment experience?\n",
      "  </knowledge end>\n",
      "\n",
      "\n",
      "Chat history only to give you context and don't use any prefix like AI or AI response in the answer:\n",
      "Human: How can I open an account in HK ?\n",
      "AI: HSBC Response:\n",
      "Apply via HSBC HK App, book an appointment at the branch online in advance, or arrange a call back with International Banking Centre. You need to be at least 18 years old, meet additional criteria depending on where you live, and have proof of ID and proof of address.\n",
      "\n",
      "Customer Question:\n",
      "What material I need to prepare ?\n",
      "\u001b[0m\n",
      "\n",
      "\u001b[1m> Finished chain.\u001b[0m\n"
     ]
    }
   ],
   "source": [
    "customer_input=\"What material I need to prepare ?\"\n",
    "response = chain.run(customer_input=customer_input, bank_knowledge=knowledge)"
   ]
  },
  {
   "cell_type": "code",
   "execution_count": 12,
   "id": "1e238c59-dfcf-4ebb-a02a-efeb4428bf2c",
   "metadata": {},
   "outputs": [
    {
     "name": "stdout",
     "output_type": "stream",
     "text": [
      "\n",
      "\n",
      "\u001b[1m> Entering new LLMChain chain...\u001b[0m\n",
      "Prompt after formatting:\n",
      "\u001b[32;1m\u001b[1;3m\n",
      "You are a customer service for HSBC in Hong kong. You are always brief and concise in your answers.\n",
      "Customers come to you mostly with questions about account opening procedures but also other HSBC related questions.\n",
      "You will be proivde some bank knowledge to help you answer questions about HSBC.If they ask non-HSBC related questions, gently remind them you only can provide HSBC HK related knowledge\n",
      "\n",
      "\n",
      "The following is bank knowledge which you can refer to if it's relevant to the question:\n",
      "\n",
      "  <knowledge start>\n",
      "  Things to know\n",
      "  If the customer wants to open an account, you can offer:\n",
      "  - Apply via HSBC HK App\n",
      "  - Book an appointment at the branch online in advance\n",
      "  - Arrange a call back with International Banking Centre\n",
      "\n",
      "  Need to open a bank account with HSBC HK? You can apply with us if you:\n",
      "  - are at least 18 years old\n",
      "  - meet additional criteria depending on where you live\n",
      "  - have proof of ID, proof of address\n",
      "\n",
      "  If customer wants to apply online via mobile app:\n",
      "  - They need to download the HSBC HK App to open an account online.\n",
      "  - holding an eligible Hong Kong ID or an overseas passport\n",
      "  - new to HSBC\n",
      "\n",
      "  Exchange service:\n",
      "  Send like a local experience for your global payments\n",
      "  Our mobile app has enriched the digital experience to cater your global payment needs, with just a few taps on the HSBC HK Mobile Banking App.\n",
      "\n",
      "  How will it work?\n",
      "  How to enjoy the fee-free and faster payment experience?\n",
      "  </knowledge end>\n",
      "\n",
      "\n",
      "Chat history only to give you context and don't use any prefix like AI or AI response in the answer:\n",
      "Human: How can I open an account in HK ?\n",
      "AI: HSBC Response:\n",
      "Apply via HSBC HK App, book an appointment at the branch online in advance, or arrange a call back with International Banking Centre. You need to be at least 18 years old, meet additional criteria depending on where you live, and have proof of ID and proof of address.\n",
      "Human: What material I need to prepare ?\n",
      "AI: AI: You will need to provide proof of ID and proof of address to open an account with HSBC HK.\n",
      "\n",
      "Customer Question:\n",
      "Do I need prepare printed version or just digital version ?\n",
      "\u001b[0m\n",
      "\n",
      "\u001b[1m> Finished chain.\u001b[0m\n"
     ]
    }
   ],
   "source": [
    "customer_input=\"Do I need prepare printed version or just digital version ?\"\n",
    "response = chain.run(customer_input=customer_input, bank_knowledge=knowledge)"
   ]
  },
  {
   "cell_type": "markdown",
   "id": "cd70dc50-4b0b-435d-94a4-4310eab5d763",
   "metadata": {},
   "source": [
    "### 5 - Scrape knowledge from the public website - https://www.hsbc.com.hk/"
   ]
  },
  {
   "cell_type": "code",
   "execution_count": 27,
   "id": "396ed186-3e29-4ccb-af99-372bcde04b7e",
   "metadata": {},
   "outputs": [],
   "source": [
    "website_statement = \"We use cookies to give you the best possible experience on our website. By continuing to browse this site, you give consent for cookies to be used. For more details please read our Cookie Policy. close cookie banner Skip page header and navigation Personal Business Global Banking and Markets Global Private Banking List of languages English Selected English 繁體 简体 Log on Log off HSBC Online Banking Register for Personal Internet Banking Stock Trading Business Internet Banking HSBCnet Banking Accounts & Services All-in-One Accounts HSBC Jade HSBC Premier HSBC One See all Employee Banking Solutions See all Deposits Savings Accounts Time Deposits Current Accounts Debit Cards Jade Mastercard® Debit Card Mastercard® Debit Card HSBC Mobile Apps HSBC HK App HSBC HK App - Lite Mode PayMe from HSBC See all Currency & RMB Services 24-hour Currency Exchange Renminbi Services See all Budget See all Well+ See all HSBC Finfit See all Community Banking See all Services & Payments Transfers and payments eCheque Services eStatement and eAdvice MPF See all International Services Open a Hong Kong account Open an overseas account See all Greater Bay Area Services See all Help and support Accessibility View topics Ways to Bank HSBC HK App - Lite Mode Mobile Account Opening HSBC Online Banking Branch Banking Express Banking Phone Banking Important Notices Faster Payment System (FPS) Mobile Cash Withdrawal Mobile Cheque Deposit Digital Hub See all Borrowing Cards & Loans Get a New Credit Card HSBC EveryMile Credit Card HSBC Red Credit Card Visa Signature Card Visa Platinum Card Premier MasterCard HSBC Pulse Dual Currency Card Visa Gold Card for Students Visa Gold Card UnionPay Dual Currency Card See all Overdrafts See all Use Your Credit Card Cards Promotions HSBC Reward+ Mobile Payments HSBC Virtual Credit Card Octopus Auto Top-up Cash Advance Spending Instalment Plan Cash Instalment Plan Interest-free Merchant Instalment Plan Cash Credit Plan See all Mortgages Home Mortgage Loans Home-related Loans Mortgage Repayment Options See all Loans Personal Instalment Loan Personal Instalment Loan Redraw Revolving Credit Facility Balance Consolidation Program Personal Tax Loan Electric Vehicle Personal Instalment Loan Smart Tips on Loans See all Tools & Forms Credit Cards Application Additional Card Application Loans Application Submit documents for credit/debit cards Submit documents for Credit Limit Increase Submit documents for Loans Submit documents for Cash Instalment Plan Instant Mortgage Assessment Property Valuation Tool Form and Document Download Investing Securities & FX Wealth Products Stocks Unit Trusts Bonds/CDs Structured Products Warrants & CBBCs Latest IPOs Gold trading services ESG Investments Compare products See all Wealth Financing See all Wealth Mobile Solutions HSBC Top Trader Club HSBC Trade25 HSBC HK Easy Invest FlexInvest FX Trade FX Your Way Currency Exchange Rates Start Investing Investment Account Opening Wealth Booster Wealth starter guide Investment platform guide Wealth Coach Chat with a Wealth Coach Planning Explore Financial Planning & Wealth Management Future Planner Retirement Wealth Portfolio Intelligence Service HSBC Prism Advisory HSBC Pooled Provident Plan Wealth Insights Our House Views Why ESG Matters Greater Bay Area Services HSBC GBA Wealth Management Connect Quick Links View my Investments Trade Stocks Online Buy Unit Trusts Online Buy Bonds/CDs Online Exchange Currency Online Insurance Protection & Planning Insurance Life Protection Saving & retirement insurance Investment-linked insurance Medical & critical illness insurance Home & helper insurance See all insurance plans Buy Online VHIS Flexi plan Swift Guard Critical Illness Swift Save Family Protector Term Life Home contents insurance Travel insurance See plans you can buy online More from HSBC Life Well+ Benefits+ ORSO LIFE Talk: insurance guide About HSBC Life Already a customer? Submit a claim Manage your policy Forms and documents Investment performance Important information Insights Analysis & Market Data Investment 101 Learn how to invest Learn more about Bonds 5 tips to handle Market Volatility Featured Insights Investment weekly newsletter Our House View Market Outlook Wealth Insights Investment Essentials FX Insights See more Wealth Tool Browse for Funds Bond/CD Screener Stock Quotes Offers Latest Rewards HSBC Latest Offers See more Credit Cards Offers Year-round Privileges RewardCash Rebate Rewards of Your Choice RewardCash Certificate Scheme Instant RewardCash redemption at merchants Mileage Programme RewardCash eShop See more Card Financial Flexibility Spending Instalment Plan Cash Instalment Plan Cash Credit Plan Investment Offers FX Services FlexInvest See more Loans Offers Personal Instalment Loan Accounts Offers HSBC Jade HSBC Premier HSBC One Deposits Mortgages Offers HIBOR-based Mortgage Quick Links Form and Document Download Fees & Charges Website Information Menu Banking Accounts & Services All-in-One Accounts HSBC Jade HSBC Premier HSBC One See all Employee Banking Solutions See all Deposits Savings Accounts Time Deposits Current Accounts Debit Cards Jade Mastercard® Debit Card Mastercard® Debit Card HSBC Mobile Apps HSBC HK App HSBC HK App - Lite Mode PayMe from HSBC See all Currency & RMB Services 24-hour Currency Exchange Renminbi Services See all Budget See all Well+ See all HSBC Finfit See all Community Banking See all Services & Payments Transfers and payments eCheque Services eStatement and eAdvice MPF See all International Services Open a Hong Kong account Open an overseas account See all Greater Bay Area Services See all Help and support Accessibility View topics Ways to Bank HSBC HK App - Lite Mode Mobile Account Opening HSBC Online Banking Branch Banking Express Banking Phone Banking Important Notices Faster Payment System (FPS) Mobile Cash Withdrawal Mobile Cheque Deposit Digital Hub See all Borrowing Cards & Loans Get a New Credit Card HSBC EveryMile Credit Card HSBC Red Credit Card Visa Signature Card Visa Platinum Card Premier MasterCard HSBC Pulse Dual Currency Card Visa Gold Card for Students Visa Gold Card UnionPay Dual Currency Card See all Overdrafts See all Use Your Credit Card Cards Promotions HSBC Reward+ Mobile Payments HSBC Virtual Credit Card Octopus Auto Top-up Cash Advance Spending Instalment Plan Cash Instalment Plan Interest-free Merchant Instalment Plan Cash Credit Plan See all Mortgages Home Mortgage Loans Home-related Loans Mortgage Repayment Options See all Loans Personal Instalment Loan Personal Instalment Loan Redraw Revolving Credit Facility Balance Consolidation Program Personal Tax Loan Electric Vehicle Personal Instalment Loan Smart Tips on Loans See all Tools & Forms Credit Cards Application Additional Card Application Loans Application Submit documents for credit/debit cards Submit documents for Credit Limit Increase Submit documents for Loans Submit documents for Cash Instalment Plan Instant Mortgage Assessment Property Valuation Tool Form and Document Download Investing Securities & FX Wealth Products Stocks Unit Trusts Bonds/CDs Structured Products Warrants & CBBCs Latest IPOs Gold trading services ESG Investments Compare products See all Wealth Financing See all Wealth Mobile Solutions HSBC Top Trader Club HSBC Trade25 HSBC HK Easy Invest FlexInvest FX Trade FX Your Way Currency Exchange Rates Start Investing Investment Account Opening Wealth Booster Wealth starter guide Investment platform guide Wealth Coach Chat with a Wealth Coach Planning Explore Financial Planning & Wealth Management Future Planner Retirement Wealth Portfolio Intelligence Service HSBC Prism Advisory HSBC Pooled Provident Plan Wealth Insights Our House Views Why ESG Matters Greater Bay Area Services HSBC GBA Wealth Management Connect Quick Links View my Investments Trade Stocks Online Buy Unit Trusts Online Buy Bonds/CDs Online Exchange Currency Online Insurance Protection & Planning Insurance Life Protection Saving & retirement insurance Investment-linked insurance Medical & critical illness insurance Home & helper insurance See all insurance plans Buy Online VHIS Flexi plan Swift Guard Critical Illness Swift Save Family Protector Term Life Home contents insurance Travel insurance See plans you can buy online More from HSBC Life Well+ Benefits+ ORSO LIFE Talk: insurance guide About HSBC Life Already a customer? Submit a claim Manage your policy Forms and documents Investment performance Important information Insights Analysis & Market Data Investment 101 Learn how to invest Learn more about Bonds 5 tips to handle Market Volatility Featured Insights Investment weekly newsletter Our House View Market Outlook Wealth Insights Investment Essentials FX Insights See more Wealth Tool Browse for Funds Bond/CD Screener Stock Quotes Offers Latest Rewards HSBC Latest Offers See more Credit Cards Offers Year-round Privileges RewardCash Rebate Rewards of Your Choice RewardCash Certificate Scheme Instant RewardCash redemption at merchants Mileage Programme RewardCash eShop See more Card Financial Flexibility Spending Instalment Plan Cash Instalment Plan Cash Credit Plan Investment Offers FX Services FlexInvest See more Loans Offers Personal Instalment Loan Accounts Offers HSBC Jade HSBC Premier HSBC One Deposits Mortgages Offers HIBOR-based Mortgage Quick Links Form and Document Download Fees & Charges Website Information English English Selected English 繁體 简体 Business Global Banking and Markets Private Banking Warrants & CBBCs Close menu Log on Expanded Collapsed Log off HSBC Online Banking Register for Personal Internet Banking Stock Trading Business Internet Banking HSBCnet Top of main content About our website Read our important documents and notices that covers our website HSBC HK About our Website Privacy and security Learn about our website's privacy and security principles. Terms of use See our website's terms and conditions. Hyperlink policy Read our website's hyperlink policy terms. Accessibility We ensure our website is accessible to customers with different needs. Maintenance schedule Stay up to date with our website maintenance schedule. Important notices Find information relating to our services, terms and conditions and other updates. Regulatory disclosures The following disclosures are made pursuant to section 60A of the Banking Ordinance. Help and support Let us help you find what you need. Sitemap Find the HSBC page that you're looking for. Help and support Contact HSBC Write, call or send a message Find a branch And your nearest Express Banking location Help and Support See FAQs, forms and fees & charges About HSBC Careers, media, investor and corporate information Privacy and Security Terms of Use Online Security Regulatory Disclosures More © Copyright. The Hongkong and Shanghai Ban,king Corporation Limited 2002-2023. All rights reserved This website is designed for use in Hong Kong. Cross-border disclosure\""
   ]
  },
  {
   "cell_type": "code",
   "execution_count": 33,
   "id": "4e14d631-57a2-4435-9033-f26bc96bb697",
   "metadata": {},
   "outputs": [],
   "source": [
    "import requests\n",
    "from bs4 import BeautifulSoup\n",
    "import re\n",
    "\n",
    "homepage = 'https://www.hsbc.com.hk/'\n",
    "\n",
    "website_statements = re.split('(?<=[.!?]) +', website_statement)\n",
    "\n",
    "chinese_pattern = re.compile(\"[\\u4e00-\\u9fff\\u3400-\\u4dbf]+\")\n",
    "\n",
    "def scrape_content_by_url(url):\n",
    "    # Send a GET request to the webpage URL\n",
    "    response = requests.get(url)\n",
    "    # Parse the HTML content using BeautifulSoup\n",
    "    soup = BeautifulSoup(response.content, 'html.parser')\n",
    "    # Extract the text content and remove excess whitespace\n",
    "    text = soup.get_text()\n",
    "    text = re.sub('\\s+', ' ', text).strip().lower()\n",
    "    text = chinese_pattern.sub(\"\", text)\n",
    "    for w in website_statements:\n",
    "        text = text.replace(w.lower(), '')\n",
    "    return text\n",
    "\n",
    "\n",
    "def retreive_urls_by_parent_url(url):\n",
    "    # Send a GET request to the webpage URL\n",
    "    response = requests.get(url)\n",
    "    # Parse the HTML content using BeautifulSoup\n",
    "    soup = BeautifulSoup(response.content, 'html.parser')\n",
    "    # Find the url start with a\n",
    "    a_tags = soup.find_all('a')\n",
    "    # retrieve all the link\n",
    "    urls = [a_tag.get('href') for a_tag in a_tags if a_tag is not None and a_tag.get('href') is not None]\n",
    "    # remove all the link start with http or https\n",
    "    urls = [url for url in urls if not url.startswith(('http', '#'))]\n",
    "    # remove other language url\n",
    "    urls = [url for url in urls if url not in ('/', '/zh-hk/', '/zh-cn/')]\n",
    "    return urls\n",
    "\n",
    "def retreive_artical_urls_by_parent_url(url, keywords=['']):\n",
    "    # Send a GET request to the webpage URL\n",
    "    response = requests.get(url)\n",
    "    # Parse the HTML content using BeautifulSoup\n",
    "    soup = BeautifulSoup(response.content, 'html.parser')\n",
    "    # Find the url start with a\n",
    "    a_tags = soup.find_all('a')\n",
    "    # retrieve all the link\n",
    "    urls = [a_tag.get('href') for a_tag in a_tags if a_tag is not None and a_tag.get('href') is not None]\n",
    "    # only keep all the link start with http\n",
    "    urls = [url for url in urls if url.startswith(('http'))]\n",
    "    # if keywords is not empty\n",
    "    if len(keywords) > 0:\n",
    "        urls = [url for url in urls if all(keyword in url for keyword in keywords)]\n",
    "    \n",
    "    return urls\n",
    "    "
   ]
  },
  {
   "cell_type": "code",
   "execution_count": 40,
   "id": "e70a31f1-fe45-406e-811b-19a7a6aa7435",
   "metadata": {},
   "outputs": [
    {
     "data": {
      "text/plain": [
       "\"hsbc hong kong - accounts, insurance, credit cards, loans    close cookie banner skip page header and navigation personal business global banking and markets global private banking list of languages english selected english   log on log off hsbc online banking register for personal internet banking stock trading business internet banking hsbcnet banking accounts & services all-in-one accounts hsbc jade hsbc premier hsbc one see all employee banking solutions see all deposits savings accounts time deposits current accounts debit cards jade mastercard® debit card mastercard® debit card hsbc mobile apps hsbc hk app hsbc hk app - lite mode payme from hsbc see all currency & rmb services 24-hour currency exchange renminbi services see all budget see all well+ see all hsbc finfit see all community banking see all services & payments transfers and payments echeque services estatement and eadvice mpf see all international services open a hong kong account open an overseas account see all greater bay area services see all help and support accessibility view topics ways to bank hsbc hk app - lite mode mobile account opening hsbc online banking branch banking express banking phone banking important notices faster payment system (fps) mobile cash withdrawal mobile cheque deposit digital hub see all borrowing cards & loans get a new credit card hsbc everymile credit card hsbc red credit card visa signature card visa platinum card premier mastercard hsbc pulse dual currency card visa gold card for students visa gold card unionpay dual currency card see all overdrafts see all use your credit card cards promotions hsbc reward+ mobile payments hsbc virtual credit card octopus auto top-up cash advance spending instalment plan cash instalment plan interest-free merchant instalment plan cash credit plan see all mortgages home mortgage loans home-related loans mortgage repayment options see all loans personal instalment loan personal instalment loan redraw revolving credit facility balance consolidation program personal tax loan electric vehicle personal instalment loan smart tips on loans see all tools & forms credit cards application additional card application loans application submit documents for credit/debit cards submit documents for credit limit increase submit documents for loans submit documents for cash instalment plan instant mortgage assessment property valuation tool form and document download investing securities & fx wealth products stocks unit trusts bonds/cds structured products warrants & cbbcs latest ipos gold trading services esg investments compare products see all wealth financing see all wealth mobile solutions hsbc top trader club hsbc trade25 hsbc hk easy invest flexinvest fx trade fx your way currency exchange rates start investing investment account opening wealth booster wealth starter guide investment platform guide wealth coach chat with a wealth coach planning explore financial planning & wealth management future planner retirement wealth portfolio intelligence service hsbc prism advisory hsbc pooled provident plan wealth insights our house views why esg matters greater bay area services hsbc gba wealth management connect quick links view my investments trade stocks online buy unit trusts online buy bonds/cds online exchange currency online insurance protection & planning insurance life protection saving & retirement insurance investment-linked insurance medical & critical illness insurance home & helper insurance see all insurance plans buy online vhis flexi plan swift guard critical illness swift save family protector term life home contents insurance travel insurance see plans you can buy online more from hsbc life well+ benefits+ orso life talk: insurance guide about hsbc life already a customer?  submit a claim manage your policy forms and documents investment performance important information insights analysis & market data investment 101 learn how to invest learn more about bonds 5 tips to handle market volatility featured insights investment weekly newsletter our house view market outlook wealth insights investment essentials fx insights see more wealth tool browse for funds bond/cd screener stock quotes offers latest rewards hsbc latest offers see more credit cards offers year-round privileges rewardcash rebate rewards of your choice rewardcash certificate scheme instant rewardcash redemption at merchants mileage programme rewardcash eshop see more card financial flexibility spending instalment plan cash instalment plan cash credit plan investment offers fx services flexinvest see more loans offers personal instalment loan accounts offers hsbc jade hsbc premier hsbc one deposits mortgages offers hibor-based mortgage quick links form and document download fees & charges website information english english selected english   business global banking and markets private banking warrants & cbbcs close menu log on expanded collapsed log off hsbc online banking register for personal internet banking stock trading business internet banking hsbcnet top of main content credit card limit transfer make the best use of your credit card limit – move it between cards without the need of supporting documents. t&cs apply. to borrow or not to borrow? borrow only if you can repay! transfer now transfer now credit card limit transfer new fund time deposit new fund time deposit learn more about new fund time deposit grab the chance! new fund rates of up to 4% p.a.. t&cs apply. get up to 3.45% p.a returns get up to 3.45% p.a returns get up to 3.45% p.a returns guaranteed rmb returns in 3 years with hsbc swift save. t&cs apply. 1) we are enhancing our hsbc hk app and online banking with additional security controls, please make sure your email address and mobile number are up to date in our records to receive both notifications via email and sms after conducting certain transactions. if you don't have a valid email address and mobile number before aug 2023, you will be blocked to conduct some of the transactions on digital banking. learn more. 2) remember to stay alert and watch out for phishing smses, emails, bogus calls and fraudulent websites. we would never send any sms or email with a link requesting you to log on to hsbc online banking or reset your mobile security key. we have further strengthened our security measures to protect customers. to learn more, please visit this important notice. 3) hsbc reminder: if you've lost your credit/debit card or believe it might have been stolen or misused, you can temporarily suspend it via the hsbc hk mobile banking app or hsbc online banking. you can also unblock it when you think it’s safe or recovered. 4) to safeguard the security of our customers during mobile payment registration, starting 28 may 2023, there are new measures introduced on how you add your credit and debit cards on apple pay, google pay and samsung pay through your device wallet. click here to learn more: apple pay/google pay/samsung pay. close fraud alert message draw cash, quick & easy apply for cash instalment plan at a monthly handling fee as low as 0.17% (apr 3.55%). t&cs apply. bill payments pay with hsbc cards to earn $1 rewardcash for every hkd250 bills. t&cs apply. octopus aavs earn extra hkd50 spending rebate for successful octopus aavs set-up. t&cs apply. refer your friends now enjoy hkd1,500 cash rebate for every successful referral with hsbc premier. t&cs apply. bank on the go wherever you are bank on the go wherever you are with comprehensive features on the hsbc hk app, you'll get your banking done in no time. hsbc reveals insights for you to stay ahead of the curve hsbc reveals insights for you to stay ahead of the curve this link will open in a new window hsbc uses advanced intelligence to unlock data, reveal insights, and generate wealth opportunities. investment involves risk. get up to 4% p.a. time deposit interest rates get up to 4% p.a. time deposit interest rates place a new fund time deposit to enjoy preferential interest rates of up to 4% p.a.. currency conversion involves risk. terms and conditions apply. hsbc premier learn more about hsbc premier enjoy fee-free global transfer, worldwide premier status and exclusive benefits. t&cs apply. join hsbc one learn more about hsbc one an all-in-one bank account without below balance fee. open an account in 5 minutes^ via the hsbc hk app now! ^actual required time may differ depending on individual circumstances. investment investment compare our wealth products, and find the right solution for you. commercial banking commercial banking supporting success - let us help you grow your business through our dedicated range of solutions. global banking and markets global banking and market customised products and solutions to help organisations meet their financial objectives. global private banking global private banking this link will open in a new window wealth planning that reflects your ambitions, both now and for future generations. broking services broking services offering a full range of investment services. enhance the way you log on seamless log on experience powered by new security capabilities on hbsc online and mobile banking. online and mobile banking security customers should not disclose their online banking credentials to any third party aggregator mobile apps. hsbc safeguard learn how financial crime affects all of us and why information is crucial to preventing financial crime.  back to top    \""
      ]
     },
     "execution_count": 40,
     "metadata": {},
     "output_type": "execute_result"
    }
   ],
   "source": [
    "homepage_content = scrape_content_by_url(homepage)\n",
    "homepage_content"
   ]
  },
  {
   "cell_type": "code",
   "execution_count": 16,
   "id": "1c1b8345-3ea2-435f-b30e-41606b934a12",
   "metadata": {},
   "outputs": [
    {
     "data": {
      "text/plain": [
       "['/legal/',\n",
       " '/jade/',\n",
       " '/premier/',\n",
       " '/accounts/products/one/',\n",
       " '/accounts/',\n",
       " '/accounts/employee-banking/',\n",
       " '/accounts/products/savings/',\n",
       " '/accounts/products/time-deposits/',\n",
       " '/accounts/products/current/',\n",
       " '/jade/twelve-currency-debit-card/']"
      ]
     },
     "execution_count": 16,
     "metadata": {},
     "output_type": "execute_result"
    }
   ],
   "source": [
    "sub_urls = retreive_urls_by_parent_url(homepage)\n",
    "sub_urls[:10]"
   ]
  },
  {
   "cell_type": "code",
   "execution_count": 31,
   "id": "0d33689a-ea55-4da4-b6b8-60362af41467",
   "metadata": {},
   "outputs": [
    {
     "data": {
      "text/plain": [
       "'about our website - hsbc hk                  '"
      ]
     },
     "execution_count": 31,
     "metadata": {},
     "output_type": "execute_result"
    }
   ],
   "source": [
    "legal_url = homepage + sub_urls[0]\n",
    "legal_content = scrape_content_by_url(legal_url)\n",
    "legal_content"
   ]
  },
  {
   "cell_type": "markdown",
   "id": "ae95a5db-d6c2-4d63-b010-d85b7f0e3fa3",
   "metadata": {},
   "source": [
    "### 5.1 Retrieve wealth related info"
   ]
  },
  {
   "cell_type": "code",
   "execution_count": 59,
   "id": "80cfac7c-aed2-495d-a2cf-49a7fedee5c4",
   "metadata": {},
   "outputs": [
    {
     "data": {
      "text/plain": [
       "['https://www.hsbc.com.hk/personal/wealth-management.html',\n",
       " 'https://www.hsbc.com.hk/en-hk/wealth/insights/asset-class-views/investment-monthly.latest/',\n",
       " 'https://www.hsbc.com.hk/en-hk/wealth/insights/asset-class-views/investment-monthly.latest/',\n",
       " 'https://www.hsbc.com.hk/jade/wealth/#exclusive-products-and-preferential-rates/',\n",
       " 'https://www.hsbc.com.hk/personal/wealth-management.html',\n",
       " 'https://www.hsbc.com.hk/en-hk/wealth/insights/asset-class-views/investment-monthly.latest/',\n",
       " 'https://www.hsbc.com.hk/en-hk/wealth/insights/asset-class-views/investment-monthly.latest/',\n",
       " 'https://www.hsbc.com.hk/jade/wealth/#exclusive-products-and-preferential-rates/']"
      ]
     },
     "execution_count": 59,
     "metadata": {},
     "output_type": "execute_result"
    }
   ],
   "source": [
    "# define url\n",
    "wealth_insights_pages = [\n",
    "    'https://www.hsbc.com.hk/en-hk/wealth/insights/wealth-needs/investing-101/',\n",
    "    'https://www.hsbc.com.hk/wealth/insights/asset-class-views/investment-daily/2023-06-14/',\n",
    "    'https://www.hsbc.com.hk/wealth/insights/asset-class-views/investment-daily/2023-06-13/',\n",
    "    'https://www.hsbc.com.hk/wealth/insights/asset-class-views/investment-weekly/2023-06-12/',\n",
    "    'https://www.hsbc.com.hk/wealth/insights/asset-class-views/investment-monthly/2023-06/',\n",
    "    'https://www.hsbc.com.hk/wealth/insights/esg/why-esg-matters/2023-06-07/',\n",
    "    'https://www.hsbc.com.hk/wealth/insights/fx-insights/daily-fx-focus/2023-06-13/',\n",
    "    'https://www.hsbc.com.hk/en-hk/wealth/insights/trending/why-esg-matter/2019-10/'\n",
    "]\n",
    "\n",
    "urls = retreive_artical_urls_by_parent_url('https://www.hsbc.com.hk/wealth/insights/asset-class-views/#investment-daily', ['wealth'])\n",
    "urls"
   ]
  },
  {
   "cell_type": "code",
   "execution_count": 62,
   "id": "0ded2dd0-c84e-4c75-85a9-bf816b9067f0",
   "metadata": {},
   "outputs": [
    {
     "name": "stdout",
     "output_type": "stream",
     "text": [
      "daily fx focus | currency market updates | hsbc hong kong covid-19 measures close we're here to help you manage your finances with our digital banking services on hsbc mobile apps. you can now bank from home with ease and peace of mind. questions about how the coronavirus is affecting your finances or our services? we're here to help.    close cookie banner skip page header and navigation personal business global banking and markets global private banking list of languages english selected english   log on log off hsbc online banking register for personal internet banking stock trading business internet banking hsbcnet banking accounts & services all-in-one accounts hsbc jade hsbc premier hsbc one see all employee banking solutions see all deposits savings accounts time deposits current accounts debit cards jade mastercard® debit card mastercard® debit card hsbc mobile apps hsbc hk app payme from hsbc see all currency & rmb services 24-hour currency exchange renminbi services see all budget see all well+ see all hsbc finfit see all community banking see all services & payments transfers and payments echeque services estatement and eadvice mpf see all international services account opening and access customer support see all greater bay area services see all help and support view topics ways to bank mobile account opening hsbc online banking branch banking express banking phone banking important notices faster payment system (fps) mobile cash withdrawal mobile cheque deposit see all borrowing cards & loans get a new credit card compare credit cards hsbc everymile credit card hsbc red credit card visa signature card visa platinum card premier mastercard hsbc pulse dual currency card visa gold card for students visa gold card unionpay dual currency card see all overdrafts see all use your credit card cards promotions hsbc reward+ mobile payments hsbc virtual credit card octopus auto top-up cash advance spending instalment plan cash instalment plan interest-free merchant instalment plan cash credit plan see all mortgages home mortgage loans home-related loans mortgage repayment options see all loans personal instalment loan personal instalment loan redraw revolving credit facility balance consolidation program personal tax loan 100% personal loan guarantee scheme smart tips on loans see all tools & forms credit cards application additional card application loans application submit documents for credit/debit cards submit documents for loans submit documents for cash instalment plan submit documents for the 100% personal loan guarantee scheme mortgage calculator property valuation tool form and document download investing securities & fx wealth products stocks unit trusts bonds/cds structured products warrants & cbbcs latest ipos gold trading services esg investments compare products see all wealth mobile solutions hsbc trade25 hsbc hk easy invest flexinvest fx trade fx your way currency exchange rates start investing investment account opening wealth booster wealth starter guide investment platform guide wealth coach chat with a wealth coach planning explore financial planning & wealth management retirement wealth portfolio intelligence service wealth portfolio plus wealth insights our house views why esg matters greater bay area services hsbc gba wealth management connect quick links view my investments trade stocks online buy unit trusts online buy bonds/cds online exchange currency online insurance protection & planning insurance see all products buy online well+ life protection family protector health goal insurance see more savings plans swift save insurance wealth goal insurance see more medical protection voluntary health insurance scheme see more retirement plans deferred annuity plans income goal insurance see more household protection residencesurance fire insurance helper insurance motor insurance travel protection overseas studysurance travel insurance employee benefits hsbc life benefits+ orso insurance guide life talk series about hsbc life see more quick links form and document download manage insurance policies make a claim important information investment performance insights analysis & market data investment 101 learn how to invest learn more about bonds 5 tips to handle market volatility featured insights investment weekly newsletter our house view market outlook wealth insights investment essentials fx insights see more wealth tool browse for funds bond/cd screener stock quotes offers latest rewards hsbc latest offers see more credit cards offers year-round privileges rewardcash rebate rewards of your choice rewardcash certificate scheme instant rewardcash redemption at merchants mileage programme rewardcash eshop see more card financial flexibility spending instalment plan cash instalment plan cash credit plan investment offers fx services flexinvest see more loans offers personal instalment loan accounts offers hsbc jade hsbc premier hsbc one deposits mortgages offers hibor-based mortgage quick links form and document download fees & charges website information menu banking accounts & services all-in-one accounts hsbc jade hsbc premier hsbc one see all employee banking solutions see all deposits savings accounts time deposits current accounts debit cards jade mastercard® debit card mastercard® debit card hsbc mobile apps hsbc hk app payme from hsbc see all currency & rmb services 24-hour currency exchange renminbi services see all budget see all well+ see all hsbc finfit see all community banking see all services & payments transfers and payments echeque services estatement and eadvice mpf see all international services account opening and access customer support see all greater bay area services see all help and support view topics ways to bank mobile account opening hsbc online banking branch banking express banking phone banking important notices faster payment system (fps) mobile cash withdrawal mobile cheque deposit see all borrowing cards & loans get a new credit card compare credit cards hsbc everymile credit card hsbc red credit card visa signature card visa platinum card premier mastercard hsbc pulse dual currency card visa gold card for students visa gold card unionpay dual currency card see all overdrafts see all use your credit card cards promotions hsbc reward+ mobile payments hsbc virtual credit card octopus auto top-up cash advance spending instalment plan cash instalment plan interest-free merchant instalment plan cash credit plan see all mortgages home mortgage loans home-related loans mortgage repayment options see all loans personal instalment loan personal instalment loan redraw revolving credit facility balance consolidation program personal tax loan 100% personal loan guarantee scheme smart tips on loans see all tools & forms credit cards application additional card application loans application submit documents for credit/debit cards submit documents for loans submit documents for cash instalment plan submit documents for the 100% personal loan guarantee scheme mortgage calculator property valuation tool form and document download investing securities & fx wealth products stocks unit trusts bonds/cds structured products warrants & cbbcs latest ipos gold trading services esg investments compare products see all wealth mobile solutions hsbc trade25 hsbc hk easy invest flexinvest fx trade fx your way currency exchange rates start investing investment account opening wealth booster wealth starter guide investment platform guide wealth coach chat with a wealth coach planning explore financial planning & wealth management retirement wealth portfolio intelligence service wealth portfolio plus wealth insights our house views why esg matters greater bay area services hsbc gba wealth management connect quick links view my investments trade stocks online buy unit trusts online buy bonds/cds online exchange currency online insurance protection & planning insurance see all products buy online well+ life protection family protector health goal insurance see more savings plans swift save insurance wealth goal insurance see more medical protection voluntary health insurance scheme see more retirement plans deferred annuity plans income goal insurance see more household protection residencesurance fire insurance helper insurance motor insurance travel protection overseas studysurance travel insurance employee benefits hsbc life benefits+ orso insurance guide life talk series about hsbc life see more quick links form and document download manage insurance policies make a claim important information investment performance insights analysis & market data investment 101 learn how to invest learn more about bonds 5 tips to handle market volatility featured insights investment weekly newsletter our house view market outlook wealth insights investment essentials fx insights see more wealth tool browse for funds bond/cd screener stock quotes offers latest rewards hsbc latest offers see more credit cards offers year-round privileges rewardcash rebate rewards of your choice rewardcash certificate scheme instant rewardcash redemption at merchants mileage programme rewardcash eshop see more card financial flexibility spending instalment plan cash instalment plan cash credit plan investment offers fx services flexinvest see more loans offers personal instalment loan accounts offers hsbc jade hsbc premier hsbc one deposits mortgages offers hibor-based mortgage quick links form and document download fees & charges website information english english selected english   business global banking and markets private banking warrants & cbbcs close menu log on expanded collapsed log off hsbc online banking register for personal internet banking stock trading business internet banking hsbcnet top of main content daily fx focus | print share share email wealth insights fx insights daily fx focus 13/06/2023 aud support / resistance vs usd 0.6546 / 0.6863 vs hkd 5.1262 / 5.3794 aud ended higher against the dollar yesterday as markets are pricing 73% chance of feds rate pause while another strong jobs read may keep the hawkish narrative alive for the rba going forward. audusd rose 0.15% yesterday while audhkd ended at 5.29 level. eur support / resistance vs usd 1.0660 / 1.0828 vs hkd 8.3497 / 8.4826 eur ended higher against the us dollar yesterday with markets pricing in a 25 bps hike by the ecb this week, followed by another 25 bps hike by september. eurusd rose 0.07% yesterday while eurhkd ended at 8.42 level. gbp support / resistance vs usd 1.2345 / 1.2638 vs hkd 9.6720 / 9.9021 gbp fell against the dollar yesterday as markets chose safe-haven usd ahead of feds call on interest rates hike. meanwhile traders awaiting release of uk employment data and boe governor to provide cues about the monetary policy. gbpusd fell 0.47% yesterday while gbphkd ended at 9.80 level. nzd support / resistance vs usd 0.5984 / 0.6257 vs hkd 4.6862 / 4.9038 nzd ended higher against the dollar yesterday despite the usd recovers supported by higher us treasury yields and upcoming us cpi release. while new zealand's q1 gdp which is sees contracting will remain in the spotlight. nzdusd rose 0.25% yesterday while nzdhkd ended at 4.79 level. rmb support / resistance vs usd 7.0800 / 7.1951 vs hkd 1.0885 / 1.1063 cnh ended lower yesterday with yuan falling to a six month low of 7.1406 against the dollar as usd rose ahead of key events, while the chinese economy faces challenges investors lean toward pboc policy to ease soon. usdcnh rose 0.18% yesterday while cnhhkd ended at 1.09 level. cad support / resistance vs usd 1.3235 / 1.3578 vs hkd 5.7687 / 5.9204 cad ended lower against the us dollar yesterday giving back some recent gains as oil prices fell while investors turned their focus towards us cpi data due later this week. usdcad rose 0.21% yesterday while cadhkd ended at 5.85 level. jpy support / resistance vs usd 138.24 / 140.95 vs hkd 5.5573 / 5.6676 jpy fell against dollar yesterday as the usd edged higher ahead of cpi data due tomorrow. boj meets on friday, however markets are not expecting any change. governor ueda sounded dovish tone but data pointed to sticky inflation. usdjpy rose 0.15% yesterday while jpyhkd ended at 5.61 level. chf support / resistance vs usd 0.8999 / 0.9165 vs hkd 8.5415 / 8.7083 chf ended lower against the us dollar yesterday as the dollar and us treasury yields rose. meanwhile snb's jordan sounded hawkish mentioning sticky inflation. markets expect catchup to do on ecb and snb rate gap. usdchf rose 0.59% yesterday while chfhkd ended at 8.61 level. sgd support / resistance vs usd 1.3375 / 1.3528 vs hkd 5.7874 / 5.8585 sgd ended slightly lower against the us dollar yesterday as us treasury yields and usd rose while wall street rallied on expectations of a pause in fed's rate hike cycle and commodities eased. usdsgd rose 0.01% yesterday while sgdhkd ended at 5.82 level. * current trend observations pertain to historical trend technical analysis only and do not reflect any forward looking fundamental views. the signal is generated with both the 20-days moving average and the 50-days moving average. consolidation, indicates that the currency's movement against usd has remained sideways up trend, indicates that the currency has been moving higher against the usd down trend, indicates that the currency has been moving lower against the usd click here to download the full report click here to download the full report download important information for customers warning: the contents of this document have not been reviewed by any regulatory authority in hong kong or any other jurisdiction. you are advised to exercise caution in relation to the investment and this document. if you are in doubt about any of the contents of this document, you should obtain independent professional advice. this document has been issued by the hongkong and shanghai banking corporation limited (the \"bank\") in the conduct of its regulated business in hong kong and may be distributed in other jurisdictions where its distribution is lawful. it is not intended for anyone other than the recipient. the contents of this document may not be reproduced or further distributed to any person or entity, whether in whole or in part, for any purpose. this document must not be distributed to the united states, canada or australia or to any other jurisdiction where its distribution is unlawful. all non-authorised reproduction or use of this document will be the responsibility of the user and may lead to legal proceedings. this document has no contractual value and is not and should not be construed as an offer or the solicitation of an offer or a recommendation for the purchase or sale of any investment or subscribe for, or to participate in, any services. the bank is not recommending or soliciting any action based on it. some of the information in this document is derived from third party sources as specified at the relevant places where such information is set out. the bank believes such information to be reliable but it has not independently verified. we do not undertake any obligation to issue any further publications to you or update the contents of this document and such contents are subject to changes at any time without notice. they are expressed solely as general market information and/or commentary for general information purposes only and do not constitute investment advice or recommendation to buy or sell investments or guarantee of returns. the bank has not been involved in the preparation of such information and opinion. the bank makes no guarantee, representation or warranty and accepts no responsibility for the accuracy and/or completeness of the information and/or opinions contained in this document, including any third party information obtained from sources it believes to be reliable but which has not been independently verified. in no event will the bank or hsbc group be liable for any damages, losses or liabilities including without limitation, direct or indirect, special, incidental, consequential damages, losses or liabilities, in connection with your use of this document or your reliance on or use or inability to use the information contained in this document. currency conversion risk - the value of your foreign currency and rmb deposit will be subject to the risk of exchange rate fluctuation. if you choose to convert your foreign currency and rmb deposit to other currencies at an exchange rate that is less favourable than the exchange rate in which you made your original conversion to that foreign currency and rmb, you may suffer loss in principal the information contained within this document has not been reviewed in the light of your personal circumstances. please note that this information is neither intended to aid in decision making for legal, financial or other consulting questions, nor should it be the basis of any investment or other decisions. you should carefully consider whether any investment views and investment products are appropriate in view of your investment experience, objectives, financial resources and relevant circumstances. the investment decision is yours but you should not invest in any product unless the intermediary who sells it to you has explained to you that the product is suitable for you having regard to your financial situation, investment experience and investment objectives. the relevant product offering documents should be read for further details. some of the statements contained in this document may be considered forward-looking statements which provide current expectations or forecasts of future events. such forward looking statements are not guarantees of future performance or events and involve risks and uncertainties. such statements do not represent any one investment and are used for illustration purpose only. customers are reminded that there can be no assurance that economic conditions described herein will remain in the future. actual results may differ materially from those described in such forward-looking statements as a result of various factors. we can give no assurance that those expectations reflected in those forward-looking statements will prove to have been correct or come to fruition, and you are cautioned not to place undue reliance on such statements. we do not undertake any obligation to update the forward-looking statements contained herein, whether as a result of new information, future events or otherwise, or to update the reasons why actual results could differ from those projected in the forward-looking statements. investment involves risk. it is important to note that the capital value of investments and the income from them may go down as well as up and may become valueless and investors may not get back the amount originally invested. past performance contained in this document is not a reliable indicator of future performance whilst any forecasts, projections and simulations contained herein should not be relied upon as an indication of future results. past performance information may be out of date. for up-to-date information, please contact your relationship manager. investment in any market may be extremely volatile and subject to sudden fluctuations of varying magnitude due to a wide range of direct and indirect influences. such characteristics can lead to considerable losses being incurred by those exposed to such markets. if an investment is withdrawn or terminated early, it may not return the full amount invested. copyright © the hongkong and shanghai banking corporation limited 2023. all rights reserved. no part of this publication may be reproduced, stored in a retrieval system, or transmitted, on any form or by any means, electronic, mechanical, photocopying, recording, or otherwise, without the prior written permission of the hongkong and shanghai banking corporation limited. issued by the hongkong and shanghai banking corporation limited your feedback could help us to do better. do you think this insights is helpful to your investment decisions? yes no please tell us your reason for our improvement too lengthy not relevant for me too complicated not what i expected check exchange rates log on to check our real-time currency exchange rates place fx rate alerts & orders hsbc premier and hsbc one customers are eligible to use this service related insights  the hongkong and shanghai banking corporation limited 2002-2022.  \n"
     ]
    }
   ],
   "source": [
    "sub_content = scrape_content_by_url('https://www.hsbc.com.hk/wealth/insights/fx-insights/daily-fx-focus/2023-06-13/')\n",
    "print(sub_content)"
   ]
  },
  {
   "cell_type": "markdown",
   "id": "8f403fee-b2c2-413c-a5f6-6a3bed5b8ce3",
   "metadata": {},
   "source": [
    "### 6 - Save content in the vector store"
   ]
  },
  {
   "cell_type": "code",
   "execution_count": 44,
   "id": "17b6e46f-d4a1-4f04-a044-82a32eaea021",
   "metadata": {},
   "outputs": [],
   "source": [
    "import faiss\n",
    "\n",
    "from langchain.embeddings.openai import OpenAIEmbeddings\n",
    "from langchain.docstore import InMemoryDocstore\n",
    "from langchain.vectorstores import FAISS\n",
    "from langchain.memory import VectorStoreRetrieverMemory\n",
    "\n",
    "embedding_size = 1536 # Dimensions of the OpenAIEmbeddings\n",
    "index = faiss.IndexFlatL2(embedding_size)\n",
    "embedding_fn = OpenAIEmbeddings().embed_query\n",
    "vectorstore = FAISS(embedding_fn, index, InMemoryDocstore({}), {})\n",
    "\n",
    "# In actual usage, you would set `k` to be a higher value, but we use k=2 to test it\n",
    "# the vector lookup still returns the semantically relevant information\n",
    "retriever = vectorstore.as_retriever(search_kwargs=dict(k=2))\n",
    "memory = VectorStoreRetrieverMemory(retriever=retriever)"
   ]
  },
  {
   "cell_type": "code",
   "execution_count": 46,
   "id": "305d93c5-e226-41c0-aeeb-08b66b4095e6",
   "metadata": {},
   "outputs": [
    {
     "name": "stdout",
     "output_type": "stream",
     "text": [
      "https://www.hsbc.com.hk//legal/\n",
      "https://www.hsbc.com.hk//jade/\n",
      "https://www.hsbc.com.hk//premier/\n",
      "https://www.hsbc.com.hk//accounts/products/one/\n",
      "https://www.hsbc.com.hk//accounts/\n",
      "https://www.hsbc.com.hk//accounts/employee-banking/\n",
      "https://www.hsbc.com.hk//accounts/products/savings/\n",
      "https://www.hsbc.com.hk//accounts/products/time-deposits/\n",
      "https://www.hsbc.com.hk//accounts/products/current/\n",
      "https://www.hsbc.com.hk//jade/twelve-currency-debit-card/\n",
      "CPU times: user 1.1 s, sys: 40.8 ms, total: 1.14 s\n",
      "Wall time: 10.8 s\n"
     ]
    }
   ],
   "source": [
    "%%time\n",
    "# save the scraped content into vector store\n",
    "for url in sub_urls[:10]:\n",
    "    try:\n",
    "        full_url = homepage + url\n",
    "        key_words = url.replace('/', ' ')\n",
    "        print(full_url)\n",
    "        # fetch content from internet\n",
    "        content = scrape_content_by_url(full_url)\n",
    "        # save into memory\n",
    "        memory.save_context({\"keywords\": key_words}, {\"content\": content})\n",
    "    except:\n",
    "        print(f\"Skip url {url}\")"
   ]
  },
  {
   "cell_type": "code",
   "execution_count": 47,
   "id": "d6696412-a26f-44bf-a5c6-3c1fb0b25029",
   "metadata": {},
   "outputs": [
    {
     "data": {
      "text/plain": [
       "'keywords:  jade \\ncontent: hsbc jade - hsbc hk    close cookie banner skip page header and navigation personal business global banking and markets global private banking list of languages english selected english   log on log off hsbc online banking register for personal internet banking stock trading business internet banking hsbcnet banking accounts & services all-in-one accounts hsbc jade hsbc premier hsbc one see all employee banking solutions see all deposits savings accounts time deposits current accounts debit cards jade mastercard® debit card mastercard® debit card hsbc mobile apps hsbc hk app hsbc hk app - lite mode payme from hsbc see all currency & rmb services 24-hour currency exchange renminbi services see all budget see all well+ see all hsbc finfit see all community banking see all services & payments transfers and payments echeque services estatement and eadvice mpf see all international services open a hong kong account open an overseas account see all greater bay area '"
      ]
     },
     "execution_count": 47,
     "metadata": {},
     "output_type": "execute_result"
    }
   ],
   "source": [
    "search_result = memory.load_memory_variables({\"prompt\": \"what is Jade account\"})[\"history\"]\n",
    "search_result[:1000]"
   ]
  },
  {
   "cell_type": "markdown",
   "id": "10ae0b17-5436-4c2a-b3f7-ff9a8b9a0b67",
   "metadata": {},
   "source": [
    "### 7 - Combine knowledge search and LLM chat model"
   ]
  },
  {
   "cell_type": "code",
   "execution_count": 48,
   "id": "d3fdb578-3b35-4c7e-870c-b361f213b3c4",
   "metadata": {},
   "outputs": [
    {
     "name": "stdout",
     "output_type": "stream",
     "text": [
      "\n",
      "\n",
      "\u001b[1m> Entering new LLMChain chain...\u001b[0m\n",
      "Prompt after formatting:\n",
      "\u001b[32;1m\u001b[1;3m\n",
      "You are a customer service for HSBC in Hong kong. You are always brief and concise in your answers.\n",
      "Customers come to you mostly with questions about account opening procedures but also other HSBC related questions.\n",
      "You will be proivde some bank knowledge to help you answer questions about HSBC.If they ask non-HSBC related questions, gently remind them you only can provide HSBC HK related knowledge\n",
      "\n",
      "\n",
      "The following is bank knowledge which you can refer to if it's relevant to the question:\n",
      "keywords:  accounts products one \n",
      "content: hsbc one | smarter, all-in-one banking - hsbc hk    close cookie banner skip page header and navigation personal business global banking and markets global private banking list of languages english selected english   log on log off hsbc online banking register for personal internet banking stock trading business internet banking hsbcnet banking accounts & services all-in-one accounts hsbc jade hsbc premier hsbc one see all employee banking solutions see all deposits savings accounts time deposits current accounts debit cards jade mastercard® debit card mastercard® debit card hsbc mobile apps hsbc hk app hsbc hk app - lite mode payme from hsbc see all currency & rmb services 24-hour currency exchange renminbi services see all budget see all well+ see all hsbc finfit see all community banking see all services & payments transfers and payments echeque services estatement and eadvice mpf see all international services open a hong kong account open an overseas account see all greater bay area services see all help and support accessibility view topics ways to bank hsbc hk app - lite mode mobile account opening hsbc online banking branch banking express banking phone banking important notices faster payment system (fps) mobile cash withdrawal mobile cheque deposit digital hub see all borrowing cards & loans get a new credit card hsbc everymile credit card hsbc red credit card visa signature card visa platinum card premier mastercard hsbc pulse dual currency card visa gold card for students visa gold card unionpay dual currency card see all overdrafts see all use your credit card cards promotions hsbc reward+ mobile payments hsbc virtual credit card octopus auto top-up cash advance spending instalment plan cash instalment plan interest-free merchant instalment plan cash credit plan see all mortgages home mortgage loans home-related loans mortgage repayment options see all loans personal instalment loan personal instalment loan redraw revolving credit facility balance consolidation program personal tax loan electric vehicle personal instalment loan smart tips on loans see all tools & forms credit cards application additional card application loans application submit documents for credit/debit cards submit documents for credit limit increase submit documents for loans submit documents for cash instalment plan instant mortgage assessment property valuation tool form and document download investing securities & fx wealth products stocks unit trusts bonds/cds structured products warrants & cbbcs latest ipos gold trading services esg investments compare products see all wealth financing see all wealth mobile solutions hsbc top trader club hsbc trade25 hsbc hk easy invest flexinvest fx trade fx your way currency exchange rates start investing investment account opening wealth booster wealth starter guide investment platform guide wealth coach chat with a wealth coach planning explore financial planning & wealth management future planner retirement wealth portfolio intelligence service hsbc prism advisory hsbc pooled provident plan wealth insights our house views why esg matters greater bay area services hsbc gba wealth management connect quick links view my investments trade stocks online buy unit trusts online buy bonds/cds online exchange currency online insurance protection & planning insurance life protection saving & retirement insurance investment-linked insurance medical & critical illness insurance home & helper insurance see all insurance plans buy online vhis flexi plan swift guard critical illness swift save family protector term life home contents insurance travel insurance see plans you can buy online more from hsbc life well+ benefits+ orso life talk: insurance guide about hsbc life already a customer?  submit a claim manage your policy forms and documents investment performance important information insights analysis & market data investment 101 learn how to invest learn more about bonds 5 tips to handle market volatility featured insights investment weekly newsletter our house view market outlook wealth insights investment essentials fx insights see more wealth tool browse for funds bond/cd screener stock quotes offers latest rewards hsbc latest offers see more credit cards offers year-round privileges rewardcash rebate rewards of your choice rewardcash certificate scheme instant rewardcash redemption at merchants mileage programme rewardcash eshop see more card financial flexibility spending instalment plan cash instalment plan cash credit plan investment offers fx services flexinvest see more loans offers personal instalment loan accounts offers hsbc jade hsbc premier hsbc one deposits mortgages offers hibor-based mortgage quick links form and document download fees & charges website information english english selected english   business global banking and markets private banking warrants & cbbcs close menu log on expanded collapsed log off hsbc online banking register for personal internet banking stock trading business internet banking hsbcnet top of main content hsbc one welcome to banking, the way it should be. see what we have to offer, and what offers you can enjoy with hsbc one. hsbc hk accounts hsbc one the one that empowers you life is made for living, not banking. that's why we created hsbc one, an all-in-one bank account that's built to help you make the most of your money so you can live life to the fullest. with just 1 account, you could shop, spend and save in 12 major currencies, invest and make time deposits. and no, you don't need to have a minimum total relationship balance with us to do all that. join hsbc one open an account via the hsbc hk app in just 5 minutes[@accounts-hsbc-one-5-min] and start banking immediately with no below balance fee. join hsbc trade25[@accounts-t25eligibility] and enjoy $0 commission[@accounts-t25commission] on stock trading for just hkd25 a month. open an account open an account this link will open in a new window the one account for all things banking the one to manage your money with stay connected with your money, no matter where you are and what time of day it is. bank in minutes with your fingers, voice or face. it's safe, simple and seamless. budgeting made easy. automatically track expenses from your hsbc bank accounts and credit cards. plan your finances and develop saving habits effortlessly with our budget feature on the hsbc hk app. see our mobile banking apps the one to shop and travel with spend on the things that matter to you. with our multi-currency hsbc mastercard® debit card, you'll be able to: access 12 currencies with just one card, one account spend in any currency worldwide at no transactions fees or annual fees withdraw cash from any hsbc group network atm worldwide at no charge planning to study abroad or go on a working holiday? see how we can help you live your best life away from home with our overseas account opening, and free global view and global transfer services. explore international banking services the one to build your wealth with starting your investing journey and insuring yourself and your loved ones is now easier than ever. access our innovative digital tools and solutions anytime and anywhere to meet your investment and insurance needs. join hsbc trade25[@accounts-t25eligibility]and start trading in hk, us and china a stock markets for hkd25 per month (you won’t be charged if you don’t trade or hold any stocks with us in the respective month) with $0 commission[@accounts-t25commission]and platform fee. with flexinvest, you can make diversified investment starting from hkd100. equip yourself with basic financial knowledge through our free 7-day investment 101 email course. you can also get a head start on your finances with our online 'wealth starter guide'. chat with a 'wealth coach' via live chat or mobile chat about any investment and insurance questions. you can also book a 1-on-1 chatnchill session. explore our products and tools to help you plan for every stage of life and achieve your financial goals. support yourself and your family through our insurance solutions and learn more about the latest hot picks and offers. the one to treat yourself with get rewarded when you treat yourself with dining, shopping, entertainment and travel as well as improve your well-being with us. you deserve it, and it's our way of saying thank you for banking with us. explore and indulge in the latest offers on the hsbc reward+ app. earn rewardcash when you use your hsbc credit card, and use it to settle bills or share them with your friends and family. in just a few steps, you can join well+ for free and enjoy simple, fun body, money and mind activities to earn fabulous rewards and improve your wellness. stay on top of your finances with mobile banking open a bank account in minutes and manage your money on the go. easy invest access the stock market from the palm of your hand.[@investments-easyinvest-disclaimer] reward+ discover the latest offers and deals in town, and make the most of your rewardcash. this link will open in a new window payme from hsbc payme from hsbc this link will open in a new window split bills with friends in just a few taps and pay anyone instantly. svf licence number: svfb002 opening an account is easy new to hsbc? simply download the hsbc hk mobile banking app and open an hsbc one account in minutes.[@accounts-hsbc-one-5-min] open an account via app open an account via app about opening account this link will open in a new window this link will open in a new window already with hsbc? not an integrated account holder? no problem. you can open an hsbc one account via mobile banking in minutes. open an account via app open an account via app this link will open in a new window apply in branch prefer a more personal touch? visit us at your nearest branch and we'll help you open your hsbc one account. book an appointment book an appointment this link will open in a new window if you have any questions about applying for an account, you can chat with us via the live chat tab on hsbc website or whatsapp us on +852 2233 3000. reinventing banking for young millennials 1 in 2​ new to bank customers are millennials at hsbc one, we are committed to supporting our next generation of customers to reach their financial ambitions.​ our latest report examines how young millennial customers are transforming the retail banking landscape and our commitment to empowering them with a positive outlook on their financial future. read our report read our report this link will open in a new window get more out of banking with us get an hsbc mastercard® debit card access to 12 major currencies, plus cash rebates and $0 fees for all your purchases. apply for an hsbc red card shop, spend and treat yourself to an hsbc red card. get up to 4% rewardcash on your purchases. grow your money with flexinvest invest with as little as hkd100. choose from 15 curated funds to start trading on the go. get started with investment 101 take the first step in your wealth journey today by checking out our quick and easy guide to investing. important information better banking at fewer fees get an integrated account, no minimum total relationship balance requirement needed. say goodbye to most fees for personal banking - check out all the fees we're waiving from 1 november 2020 onwards. make instant global transfers to your own hsbc accounts and third-party hsbc accounts for free. manage your money, your way explore ways of banking important account documents welcome pack [pdf] welcome pack [pdf] download integrated account terms and conditions [pdf] integrated account terms and conditions [pdf] download hsbc personal banking hotline [pdf] hsbc personal banking hotline [pdf] download summary of key terms [pdf] summary of key terms [pdf] download points to note for account application [pdf] points to note for account application [pdf] download remarks back to top back to top click here    \n",
      "keywords:  accounts \n",
      "content: bank accounts | savings, current, time deposit - hsbc hk    close cookie banner skip page header and navigation personal business global banking and markets global private banking list of languages english selected english   log on log off hsbc online banking register for personal internet banking stock trading business internet banking hsbcnet banking accounts & services all-in-one accounts hsbc jade hsbc premier hsbc one see all employee banking solutions see all deposits savings accounts time deposits current accounts debit cards jade mastercard® debit card mastercard® debit card hsbc mobile apps hsbc hk app hsbc hk app - lite mode payme from hsbc see all currency & rmb services 24-hour currency exchange renminbi services see all budget see all well+ see all hsbc finfit see all community banking see all services & payments transfers and payments echeque services estatement and eadvice mpf see all international services open a hong kong account open an overseas account see all greater bay area services see all help and support accessibility view topics ways to bank hsbc hk app - lite mode mobile account opening hsbc online banking branch banking express banking phone banking important notices faster payment system (fps) mobile cash withdrawal mobile cheque deposit digital hub see all borrowing cards & loans get a new credit card hsbc everymile credit card hsbc red credit card visa signature card visa platinum card premier mastercard hsbc pulse dual currency card visa gold card for students visa gold card unionpay dual currency card see all overdrafts see all use your credit card cards promotions hsbc reward+ mobile payments hsbc virtual credit card octopus auto top-up cash advance spending instalment plan cash instalment plan interest-free merchant instalment plan cash credit plan see all mortgages home mortgage loans home-related loans mortgage repayment options see all loans personal instalment loan personal instalment loan redraw revolving credit facility balance consolidation program personal tax loan electric vehicle personal instalment loan smart tips on loans see all tools & forms credit cards application additional card application loans application submit documents for credit/debit cards submit documents for credit limit increase submit documents for loans submit documents for cash instalment plan instant mortgage assessment property valuation tool form and document download investing securities & fx wealth products stocks unit trusts bonds/cds structured products warrants & cbbcs latest ipos gold trading services esg investments compare products see all wealth financing see all wealth mobile solutions hsbc top trader club hsbc trade25 hsbc hk easy invest flexinvest fx trade fx your way currency exchange rates start investing investment account opening wealth booster wealth starter guide investment platform guide wealth coach chat with a wealth coach planning explore financial planning & wealth management future planner retirement wealth portfolio intelligence service hsbc prism advisory hsbc pooled provident plan wealth insights our house views why esg matters greater bay area services hsbc gba wealth management connect quick links view my investments trade stocks online buy unit trusts online buy bonds/cds online exchange currency online insurance protection & planning insurance life protection saving & retirement insurance investment-linked insurance medical & critical illness insurance home & helper insurance see all insurance plans buy online vhis flexi plan swift guard critical illness swift save family protector term life home contents insurance travel insurance see plans you can buy online more from hsbc life well+ benefits+ orso life talk: insurance guide about hsbc life already a customer?  submit a claim manage your policy forms and documents investment performance important information insights analysis & market data investment 101 learn how to invest learn more about bonds 5 tips to handle market volatility featured insights investment weekly newsletter our house view market outlook wealth insights investment essentials fx insights see more wealth tool browse for funds bond/cd screener stock quotes offers latest rewards hsbc latest offers see more credit cards offers year-round privileges rewardcash rebate rewards of your choice rewardcash certificate scheme instant rewardcash redemption at merchants mileage programme rewardcash eshop see more card financial flexibility spending instalment plan cash instalment plan cash credit plan investment offers fx services flexinvest see more loans offers personal instalment loan accounts offers hsbc jade hsbc premier hsbc one deposits mortgages offers hibor-based mortgage quick links form and document download fees & charges website information english english selected english   business global banking and markets private banking warrants & cbbcs close menu log on expanded collapsed log off hsbc online banking register for personal internet banking stock trading business internet banking hsbcnet top of main content explore our bank accounts take control of your finances with hsbc hsbc hk accounts integrated accounts all-in-one integrated bank account for deposits, credit cards, investment, insurance, etc. you’ll have access to a comprehensive range of services, including foreign currency deposits and renminbi services. a single, easy-to-read monthly statement helps you grasp your complete financial situation at a glance. hsbc one an all-in-one bank account with hkd savings and current accounts, 12 major currency savings accounts (including rmb), time deposits and investments. stay on top of your money, investments, insurance and mpf easily via online and mobile banking unlock new financial tools, solutions and support designed to help you plan for your future earn cash rebate when you spend online or overseas with your multi-currency hsbc mastercard® debit card eligibility no minimum balance requirements or monthly account fees learn more learn more about hsbc one hsbc premier an all-in-one bank account with hkd savings and current accounts, 11 foreign currency savings accounts (including rmb), time deposits and investments our dedicated team of experts will provide you with a personal and convenient banking experience manage your global accounts and international investments with ease, no matter where you are enjoy a variety of preferential benefits and privileges designed to help you and your family thrive eligibility to be eligible, you need to maintain minimum total relationship balance1 of hkd 1,000,000 or more. t&c apply. learn more learn more about hsbc premier hsbc jade an all-in-one bank account with hkd savings and current accounts, 11 foreign currency savings accounts (including rmb), time deposits and investments your personal hsbc jade director with the qualifications needed to understand and manage your financial goals dedicated hsbc jade centres providing comfort and privacy for meetings with your jade director explore exclusive investment products inspired by our private banking offering benefit from higher interest rates and tailored pricing on time deposits, fx, stocks, bonds, life insurance, and more your lifestyle manager from ten lifestyle group will personally manage the end-to-end planning of unforgettable life experiences eligibility to be eligible, you need to maintain minimum total relationship balance1 of hkd 7,800,000 or more. t&c apply. learn more learn more about hsbc jade total relationship balance (trb) includes: hong kong dollar / renminbi / foreign currency deposits market value of the following investments: local and overseas securities, unit trusts, bonds, certificates of deposit, equity linked investments, structurednotes, monthly investment plan (stocks/ unit trusts) and wayfoong statement gold deposit amounts of deposit plus and structured investment deposits utilised lending facilities (excluding mortgages and amounts outstanding on credit cards) life insurance with savings or investment component# hsbc mpf balances and hsbc orso defined contribution scheme balances which are administered by the hongkong and shanghai banking corporation limited minimum total relationship balance refers to the rolling average for the previous three months. #for life insurance with savings or investment component: investment-linked life insurance policies include the total cash value of the policies; other life insurance policies include the total cash value of the policies or total premium paid less any annuity payments received (if applicable), whichever is higher. to determine your overall trb in sole capacity, the applicable trb of all your personal sole account(s) held or registered with the same joint accountholder(s) under the same name(s) and identity number(s), held with the same joint accountholder(s) will be included in the calculation. there may be a time lag before the value of certain investment transactions (i.e. initial public offering subscriptions for securities, bonds, open-end funds and certificates of deposits) and life insurance policies will be included in the trb due to the processing time required and therefore may affect the trb in the bank’s record. compare hsbc integrated accounts hsbc one hsbc premier credit card not available pre-approved hsbc premier mastercard®a perpetual annual fee waiver on primary and supplementary hsbc premier mastercard® free global wi-fi buy 1 get 1 free michelin restaurantsb airport limousine service at hk$250c loans – clean overdraft best lending rate +5% best lending rate +4% stocks – express stock order placement hotline 24/7 manned hotline 24/7 manned hotline unit trust initial charge as low as 1.5%d initial charge as low as 1%d fx – order watch pre-set target rates with conversion amounts as low as hk$1,000 once target rate is reached, convert automatically or get free notification by rate alert pre-set target rates with conversion amounts as low as hk$1,000 once target rate is reached, convert automatically or get free notification by rate alert life insurance from 1% discount for the 1st year premium on selected plans e.g.: lifestyle wealth protection plus, goal access universal life plan, etc. from 1.5% discount for the 1st year premium on selected plans e.g.: lifestyle wealth protection plus, goal access universal life plan, etc. priority service, internet banking and mobile banking branch general counter services access to worldwide hsbc premier centres dedicated premier relationship manager support digital counter services to view real-time counter traffic and appointment booking phonebanking 24x7 general hotline dedicated 24x7 hsbc premier manned hotline internet banking and mobile banking 24 x 7 access comprehensive international services hsbc global transfers free free emergency encashment free free overseas account pre-opening services charged at hk$800 free international status not available hsbc premier status in all markets you bank with hsbc account balance requirement and service fee minimum total relationship balancee nil hk$1,000,000 below balance fee nil hk$380 per monthf no fee if monthly balance is maintained a applicable to hsbc premier upon application. b terms and conditions apply to the michelin restaurant and designated hotel stay offers. for details, please click here. c terms and conditions apply to the limousine service offers. for details, please click here. d new hsbc premier customers and new hsbc one customers can enjoy initial charge as low as 1% and 1.5% respectively for open-end funds. the offer is applicable to the first lump sum subscription order within six months after opening the new integrated accounts. terms and conditions apply [pdf]. e minimum total relationship balance refers to the rolling average for the previous three months. f the monthly below balance fee applies to each integrated account held by the customer. employee banking employee banking solutions (ebs) unlock offers on new funds, integrated accounts, auto payroll, credit cards, insurance and financial planning services available only to our ebs customers open an hsbc overseas account for free in 30+ countries and regions make global transfers without any fees speak to a dedicated business relationship manager about any banking queries you may have eligibility you're eligible to register for our employee banking solutions programme at no extra cost as long as your employer has already enrolled in it. learn more learn more about the page employee banking solutions (ebs) other bank accounts choose a savings or current account to meet your needs. get instant access, a higher rate with a time deposit or renminbi and foreign currency options too. savings accounts access your savings whenever you need them, and earn interest at the same time. time deposits save your money for a set period of time and get a higher interest rate than in an easy access savings account. current accounts straightforward, streamlined day-to-day banking, designed to make your life easier. basic banking account with independence an entirely new account for everyday use by those with diminished mental capacity. account management and services transfers and payments transfer funds to any account in hong kong and around the world easily, securely and quickly. foreign exchange trade foreign currencies anytime, anywhere. ways to bank with hsbc manage your money online, via atm, phone or at an hsbc branch. age-friendly banking help silver-age customers manage finances and plan for a secure future. important information deposit rates account application forms points to note for account application [pdf] fees & charges interest calculator estatement and eadvice managing your bank account smartly managing your safe deposit locker smartly [pdf] managing your safe deposit locker smartly [pdf] this link will open in a new window need to know more? check our faqs risk disclosure currency conversion risk - the value of your foreign currency and renminbi deposit will be subject to the risk of exchange rate fluctuation. if you choose to convert your renminbi deposit to other currencies at an exchange rate that is less favorable than the exchange rate in which you made your original conversion to renminbi, you may suffer loss in principal. investment involves risks. past performance of investment products are no guide to future performance. for details of the investment products and the investment-linked insurance plan, their related fees and charges and risk factors, please refer to the individual product materials/ offering documents. back to top    \n",
      "\n",
      "Chat history only to give you context and don't use any prefix like AI or AI response in the answer:\n",
      "Human: How can I open an account in HK ?\n",
      "AI: HSBC Response:\n",
      "Apply via HSBC HK App, book an appointment at the branch online in advance, or arrange a call back with International Banking Centre. You need to be at least 18 years old, meet additional criteria depending on where you live, and have proof of ID and proof of address.\n",
      "Human: What material I need to prepare ?\n",
      "AI: AI: You will need to provide proof of ID and proof of address to open an account with HSBC HK.\n",
      "Human: Do I need prepare printed version or just digital version ?\n",
      "AI: AI: You will need to provide both printed and digital versions of your proof of ID and proof of address to open an account with HSBC HK.\n",
      "\n",
      "Customer Question:\n",
      "What benfits can a Jade accout have ?\n",
      "\u001b[0m\n",
      "\n",
      "\u001b[1m> Finished chain.\u001b[0m\n"
     ]
    },
    {
     "data": {
      "text/plain": [
       "'HSBC Response: With a Jade account, you can enjoy HKD and foreign currency savings and current accounts, time deposits and investments. You will also have a personal HSBC Jade Director to manage your financial goals, access to exclusive investment products, and higher interest rates on time deposits, FX, stocks, bonds, life insurance and more. Additionally, you can benefit from lifestyle management services from Ten Lifestyle Group to plan unforgettable life experiences. To be eligible, you need to maintain a minimum total relationship balance of HKD 7,800,000 or more. Terms and conditions apply.'"
      ]
     },
     "execution_count": 48,
     "metadata": {},
     "output_type": "execute_result"
    }
   ],
   "source": [
    "# customer input\n",
    "customer_input=\"What benfits can a Jade accout have ?\"\n",
    "\n",
    "# query knowledge\n",
    "knowledge = memory.load_memory_variables({\"customer_input\": knowledge})[\"history\"]\n",
    "\n",
    "# pass the customer input and knowledge to LLM chat model\n",
    "chain.run(customer_input=customer_input, bank_knowledge=knowledge)"
   ]
  },
  {
   "cell_type": "code",
   "execution_count": 49,
   "id": "aacbf7df-ab1b-4909-9072-725b225844f6",
   "metadata": {},
   "outputs": [
    {
     "name": "stdout",
     "output_type": "stream",
     "text": [
      "\n",
      "\n",
      "\u001b[1m> Entering new LLMChain chain...\u001b[0m\n",
      "Prompt after formatting:\n",
      "\u001b[32;1m\u001b[1;3m\n",
      "You are a customer service for HSBC in Hong kong. You are always brief and concise in your answers.\n",
      "Customers come to you mostly with questions about account opening procedures but also other HSBC related questions.\n",
      "You will be proivde some bank knowledge to help you answer questions about HSBC.If they ask non-HSBC related questions, gently remind them you only can provide HSBC HK related knowledge\n",
      "\n",
      "\n",
      "The following is bank knowledge which you can refer to if it's relevant to the question:\n",
      "keywords:  accounts products one \n",
      "content: hsbc one | smarter, all-in-one banking - hsbc hk    close cookie banner skip page header and navigation personal business global banking and markets global private banking list of languages english selected english   log on log off hsbc online banking register for personal internet banking stock trading business internet banking hsbcnet banking accounts & services all-in-one accounts hsbc jade hsbc premier hsbc one see all employee banking solutions see all deposits savings accounts time deposits current accounts debit cards jade mastercard® debit card mastercard® debit card hsbc mobile apps hsbc hk app hsbc hk app - lite mode payme from hsbc see all currency & rmb services 24-hour currency exchange renminbi services see all budget see all well+ see all hsbc finfit see all community banking see all services & payments transfers and payments echeque services estatement and eadvice mpf see all international services open a hong kong account open an overseas account see all greater bay area services see all help and support accessibility view topics ways to bank hsbc hk app - lite mode mobile account opening hsbc online banking branch banking express banking phone banking important notices faster payment system (fps) mobile cash withdrawal mobile cheque deposit digital hub see all borrowing cards & loans get a new credit card hsbc everymile credit card hsbc red credit card visa signature card visa platinum card premier mastercard hsbc pulse dual currency card visa gold card for students visa gold card unionpay dual currency card see all overdrafts see all use your credit card cards promotions hsbc reward+ mobile payments hsbc virtual credit card octopus auto top-up cash advance spending instalment plan cash instalment plan interest-free merchant instalment plan cash credit plan see all mortgages home mortgage loans home-related loans mortgage repayment options see all loans personal instalment loan personal instalment loan redraw revolving credit facility balance consolidation program personal tax loan electric vehicle personal instalment loan smart tips on loans see all tools & forms credit cards application additional card application loans application submit documents for credit/debit cards submit documents for credit limit increase submit documents for loans submit documents for cash instalment plan instant mortgage assessment property valuation tool form and document download investing securities & fx wealth products stocks unit trusts bonds/cds structured products warrants & cbbcs latest ipos gold trading services esg investments compare products see all wealth financing see all wealth mobile solutions hsbc top trader club hsbc trade25 hsbc hk easy invest flexinvest fx trade fx your way currency exchange rates start investing investment account opening wealth booster wealth starter guide investment platform guide wealth coach chat with a wealth coach planning explore financial planning & wealth management future planner retirement wealth portfolio intelligence service hsbc prism advisory hsbc pooled provident plan wealth insights our house views why esg matters greater bay area services hsbc gba wealth management connect quick links view my investments trade stocks online buy unit trusts online buy bonds/cds online exchange currency online insurance protection & planning insurance life protection saving & retirement insurance investment-linked insurance medical & critical illness insurance home & helper insurance see all insurance plans buy online vhis flexi plan swift guard critical illness swift save family protector term life home contents insurance travel insurance see plans you can buy online more from hsbc life well+ benefits+ orso life talk: insurance guide about hsbc life already a customer?  submit a claim manage your policy forms and documents investment performance important information insights analysis & market data investment 101 learn how to invest learn more about bonds 5 tips to handle market volatility featured insights investment weekly newsletter our house view market outlook wealth insights investment essentials fx insights see more wealth tool browse for funds bond/cd screener stock quotes offers latest rewards hsbc latest offers see more credit cards offers year-round privileges rewardcash rebate rewards of your choice rewardcash certificate scheme instant rewardcash redemption at merchants mileage programme rewardcash eshop see more card financial flexibility spending instalment plan cash instalment plan cash credit plan investment offers fx services flexinvest see more loans offers personal instalment loan accounts offers hsbc jade hsbc premier hsbc one deposits mortgages offers hibor-based mortgage quick links form and document download fees & charges website information english english selected english   business global banking and markets private banking warrants & cbbcs close menu log on expanded collapsed log off hsbc online banking register for personal internet banking stock trading business internet banking hsbcnet top of main content hsbc one welcome to banking, the way it should be. see what we have to offer, and what offers you can enjoy with hsbc one. hsbc hk accounts hsbc one the one that empowers you life is made for living, not banking. that's why we created hsbc one, an all-in-one bank account that's built to help you make the most of your money so you can live life to the fullest. with just 1 account, you could shop, spend and save in 12 major currencies, invest and make time deposits. and no, you don't need to have a minimum total relationship balance with us to do all that. join hsbc one open an account via the hsbc hk app in just 5 minutes[@accounts-hsbc-one-5-min] and start banking immediately with no below balance fee. join hsbc trade25[@accounts-t25eligibility] and enjoy $0 commission[@accounts-t25commission] on stock trading for just hkd25 a month. open an account open an account this link will open in a new window the one account for all things banking the one to manage your money with stay connected with your money, no matter where you are and what time of day it is. bank in minutes with your fingers, voice or face. it's safe, simple and seamless. budgeting made easy. automatically track expenses from your hsbc bank accounts and credit cards. plan your finances and develop saving habits effortlessly with our budget feature on the hsbc hk app. see our mobile banking apps the one to shop and travel with spend on the things that matter to you. with our multi-currency hsbc mastercard® debit card, you'll be able to: access 12 currencies with just one card, one account spend in any currency worldwide at no transactions fees or annual fees withdraw cash from any hsbc group network atm worldwide at no charge planning to study abroad or go on a working holiday? see how we can help you live your best life away from home with our overseas account opening, and free global view and global transfer services. explore international banking services the one to build your wealth with starting your investing journey and insuring yourself and your loved ones is now easier than ever. access our innovative digital tools and solutions anytime and anywhere to meet your investment and insurance needs. join hsbc trade25[@accounts-t25eligibility]and start trading in hk, us and china a stock markets for hkd25 per month (you won’t be charged if you don’t trade or hold any stocks with us in the respective month) with $0 commission[@accounts-t25commission]and platform fee. with flexinvest, you can make diversified investment starting from hkd100. equip yourself with basic financial knowledge through our free 7-day investment 101 email course. you can also get a head start on your finances with our online 'wealth starter guide'. chat with a 'wealth coach' via live chat or mobile chat about any investment and insurance questions. you can also book a 1-on-1 chatnchill session. explore our products and tools to help you plan for every stage of life and achieve your financial goals. support yourself and your family through our insurance solutions and learn more about the latest hot picks and offers. the one to treat yourself with get rewarded when you treat yourself with dining, shopping, entertainment and travel as well as improve your well-being with us. you deserve it, and it's our way of saying thank you for banking with us. explore and indulge in the latest offers on the hsbc reward+ app. earn rewardcash when you use your hsbc credit card, and use it to settle bills or share them with your friends and family. in just a few steps, you can join well+ for free and enjoy simple, fun body, money and mind activities to earn fabulous rewards and improve your wellness. stay on top of your finances with mobile banking open a bank account in minutes and manage your money on the go. easy invest access the stock market from the palm of your hand.[@investments-easyinvest-disclaimer] reward+ discover the latest offers and deals in town, and make the most of your rewardcash. this link will open in a new window payme from hsbc payme from hsbc this link will open in a new window split bills with friends in just a few taps and pay anyone instantly. svf licence number: svfb002 opening an account is easy new to hsbc? simply download the hsbc hk mobile banking app and open an hsbc one account in minutes.[@accounts-hsbc-one-5-min] open an account via app open an account via app about opening account this link will open in a new window this link will open in a new window already with hsbc? not an integrated account holder? no problem. you can open an hsbc one account via mobile banking in minutes. open an account via app open an account via app this link will open in a new window apply in branch prefer a more personal touch? visit us at your nearest branch and we'll help you open your hsbc one account. book an appointment book an appointment this link will open in a new window if you have any questions about applying for an account, you can chat with us via the live chat tab on hsbc website or whatsapp us on +852 2233 3000. reinventing banking for young millennials 1 in 2​ new to bank customers are millennials at hsbc one, we are committed to supporting our next generation of customers to reach their financial ambitions.​ our latest report examines how young millennial customers are transforming the retail banking landscape and our commitment to empowering them with a positive outlook on their financial future. read our report read our report this link will open in a new window get more out of banking with us get an hsbc mastercard® debit card access to 12 major currencies, plus cash rebates and $0 fees for all your purchases. apply for an hsbc red card shop, spend and treat yourself to an hsbc red card. get up to 4% rewardcash on your purchases. grow your money with flexinvest invest with as little as hkd100. choose from 15 curated funds to start trading on the go. get started with investment 101 take the first step in your wealth journey today by checking out our quick and easy guide to investing. important information better banking at fewer fees get an integrated account, no minimum total relationship balance requirement needed. say goodbye to most fees for personal banking - check out all the fees we're waiving from 1 november 2020 onwards. make instant global transfers to your own hsbc accounts and third-party hsbc accounts for free. manage your money, your way explore ways of banking important account documents welcome pack [pdf] welcome pack [pdf] download integrated account terms and conditions [pdf] integrated account terms and conditions [pdf] download hsbc personal banking hotline [pdf] hsbc personal banking hotline [pdf] download summary of key terms [pdf] summary of key terms [pdf] download points to note for account application [pdf] points to note for account application [pdf] download remarks back to top back to top click here    \n",
      "keywords:  accounts \n",
      "content: bank accounts | savings, current, time deposit - hsbc hk    close cookie banner skip page header and navigation personal business global banking and markets global private banking list of languages english selected english   log on log off hsbc online banking register for personal internet banking stock trading business internet banking hsbcnet banking accounts & services all-in-one accounts hsbc jade hsbc premier hsbc one see all employee banking solutions see all deposits savings accounts time deposits current accounts debit cards jade mastercard® debit card mastercard® debit card hsbc mobile apps hsbc hk app hsbc hk app - lite mode payme from hsbc see all currency & rmb services 24-hour currency exchange renminbi services see all budget see all well+ see all hsbc finfit see all community banking see all services & payments transfers and payments echeque services estatement and eadvice mpf see all international services open a hong kong account open an overseas account see all greater bay area services see all help and support accessibility view topics ways to bank hsbc hk app - lite mode mobile account opening hsbc online banking branch banking express banking phone banking important notices faster payment system (fps) mobile cash withdrawal mobile cheque deposit digital hub see all borrowing cards & loans get a new credit card hsbc everymile credit card hsbc red credit card visa signature card visa platinum card premier mastercard hsbc pulse dual currency card visa gold card for students visa gold card unionpay dual currency card see all overdrafts see all use your credit card cards promotions hsbc reward+ mobile payments hsbc virtual credit card octopus auto top-up cash advance spending instalment plan cash instalment plan interest-free merchant instalment plan cash credit plan see all mortgages home mortgage loans home-related loans mortgage repayment options see all loans personal instalment loan personal instalment loan redraw revolving credit facility balance consolidation program personal tax loan electric vehicle personal instalment loan smart tips on loans see all tools & forms credit cards application additional card application loans application submit documents for credit/debit cards submit documents for credit limit increase submit documents for loans submit documents for cash instalment plan instant mortgage assessment property valuation tool form and document download investing securities & fx wealth products stocks unit trusts bonds/cds structured products warrants & cbbcs latest ipos gold trading services esg investments compare products see all wealth financing see all wealth mobile solutions hsbc top trader club hsbc trade25 hsbc hk easy invest flexinvest fx trade fx your way currency exchange rates start investing investment account opening wealth booster wealth starter guide investment platform guide wealth coach chat with a wealth coach planning explore financial planning & wealth management future planner retirement wealth portfolio intelligence service hsbc prism advisory hsbc pooled provident plan wealth insights our house views why esg matters greater bay area services hsbc gba wealth management connect quick links view my investments trade stocks online buy unit trusts online buy bonds/cds online exchange currency online insurance protection & planning insurance life protection saving & retirement insurance investment-linked insurance medical & critical illness insurance home & helper insurance see all insurance plans buy online vhis flexi plan swift guard critical illness swift save family protector term life home contents insurance travel insurance see plans you can buy online more from hsbc life well+ benefits+ orso life talk: insurance guide about hsbc life already a customer?  submit a claim manage your policy forms and documents investment performance important information insights analysis & market data investment 101 learn how to invest learn more about bonds 5 tips to handle market volatility featured insights investment weekly newsletter our house view market outlook wealth insights investment essentials fx insights see more wealth tool browse for funds bond/cd screener stock quotes offers latest rewards hsbc latest offers see more credit cards offers year-round privileges rewardcash rebate rewards of your choice rewardcash certificate scheme instant rewardcash redemption at merchants mileage programme rewardcash eshop see more card financial flexibility spending instalment plan cash instalment plan cash credit plan investment offers fx services flexinvest see more loans offers personal instalment loan accounts offers hsbc jade hsbc premier hsbc one deposits mortgages offers hibor-based mortgage quick links form and document download fees & charges website information english english selected english   business global banking and markets private banking warrants & cbbcs close menu log on expanded collapsed log off hsbc online banking register for personal internet banking stock trading business internet banking hsbcnet top of main content explore our bank accounts take control of your finances with hsbc hsbc hk accounts integrated accounts all-in-one integrated bank account for deposits, credit cards, investment, insurance, etc. you’ll have access to a comprehensive range of services, including foreign currency deposits and renminbi services. a single, easy-to-read monthly statement helps you grasp your complete financial situation at a glance. hsbc one an all-in-one bank account with hkd savings and current accounts, 12 major currency savings accounts (including rmb), time deposits and investments. stay on top of your money, investments, insurance and mpf easily via online and mobile banking unlock new financial tools, solutions and support designed to help you plan for your future earn cash rebate when you spend online or overseas with your multi-currency hsbc mastercard® debit card eligibility no minimum balance requirements or monthly account fees learn more learn more about hsbc one hsbc premier an all-in-one bank account with hkd savings and current accounts, 11 foreign currency savings accounts (including rmb), time deposits and investments our dedicated team of experts will provide you with a personal and convenient banking experience manage your global accounts and international investments with ease, no matter where you are enjoy a variety of preferential benefits and privileges designed to help you and your family thrive eligibility to be eligible, you need to maintain minimum total relationship balance1 of hkd 1,000,000 or more. t&c apply. learn more learn more about hsbc premier hsbc jade an all-in-one bank account with hkd savings and current accounts, 11 foreign currency savings accounts (including rmb), time deposits and investments your personal hsbc jade director with the qualifications needed to understand and manage your financial goals dedicated hsbc jade centres providing comfort and privacy for meetings with your jade director explore exclusive investment products inspired by our private banking offering benefit from higher interest rates and tailored pricing on time deposits, fx, stocks, bonds, life insurance, and more your lifestyle manager from ten lifestyle group will personally manage the end-to-end planning of unforgettable life experiences eligibility to be eligible, you need to maintain minimum total relationship balance1 of hkd 7,800,000 or more. t&c apply. learn more learn more about hsbc jade total relationship balance (trb) includes: hong kong dollar / renminbi / foreign currency deposits market value of the following investments: local and overseas securities, unit trusts, bonds, certificates of deposit, equity linked investments, structurednotes, monthly investment plan (stocks/ unit trusts) and wayfoong statement gold deposit amounts of deposit plus and structured investment deposits utilised lending facilities (excluding mortgages and amounts outstanding on credit cards) life insurance with savings or investment component# hsbc mpf balances and hsbc orso defined contribution scheme balances which are administered by the hongkong and shanghai banking corporation limited minimum total relationship balance refers to the rolling average for the previous three months. #for life insurance with savings or investment component: investment-linked life insurance policies include the total cash value of the policies; other life insurance policies include the total cash value of the policies or total premium paid less any annuity payments received (if applicable), whichever is higher. to determine your overall trb in sole capacity, the applicable trb of all your personal sole account(s) held or registered with the same joint accountholder(s) under the same name(s) and identity number(s), held with the same joint accountholder(s) will be included in the calculation. there may be a time lag before the value of certain investment transactions (i.e. initial public offering subscriptions for securities, bonds, open-end funds and certificates of deposits) and life insurance policies will be included in the trb due to the processing time required and therefore may affect the trb in the bank’s record. compare hsbc integrated accounts hsbc one hsbc premier credit card not available pre-approved hsbc premier mastercard®a perpetual annual fee waiver on primary and supplementary hsbc premier mastercard® free global wi-fi buy 1 get 1 free michelin restaurantsb airport limousine service at hk$250c loans – clean overdraft best lending rate +5% best lending rate +4% stocks – express stock order placement hotline 24/7 manned hotline 24/7 manned hotline unit trust initial charge as low as 1.5%d initial charge as low as 1%d fx – order watch pre-set target rates with conversion amounts as low as hk$1,000 once target rate is reached, convert automatically or get free notification by rate alert pre-set target rates with conversion amounts as low as hk$1,000 once target rate is reached, convert automatically or get free notification by rate alert life insurance from 1% discount for the 1st year premium on selected plans e.g.: lifestyle wealth protection plus, goal access universal life plan, etc. from 1.5% discount for the 1st year premium on selected plans e.g.: lifestyle wealth protection plus, goal access universal life plan, etc. priority service, internet banking and mobile banking branch general counter services access to worldwide hsbc premier centres dedicated premier relationship manager support digital counter services to view real-time counter traffic and appointment booking phonebanking 24x7 general hotline dedicated 24x7 hsbc premier manned hotline internet banking and mobile banking 24 x 7 access comprehensive international services hsbc global transfers free free emergency encashment free free overseas account pre-opening services charged at hk$800 free international status not available hsbc premier status in all markets you bank with hsbc account balance requirement and service fee minimum total relationship balancee nil hk$1,000,000 below balance fee nil hk$380 per monthf no fee if monthly balance is maintained a applicable to hsbc premier upon application. b terms and conditions apply to the michelin restaurant and designated hotel stay offers. for details, please click here. c terms and conditions apply to the limousine service offers. for details, please click here. d new hsbc premier customers and new hsbc one customers can enjoy initial charge as low as 1% and 1.5% respectively for open-end funds. the offer is applicable to the first lump sum subscription order within six months after opening the new integrated accounts. terms and conditions apply [pdf]. e minimum total relationship balance refers to the rolling average for the previous three months. f the monthly below balance fee applies to each integrated account held by the customer. employee banking employee banking solutions (ebs) unlock offers on new funds, integrated accounts, auto payroll, credit cards, insurance and financial planning services available only to our ebs customers open an hsbc overseas account for free in 30+ countries and regions make global transfers without any fees speak to a dedicated business relationship manager about any banking queries you may have eligibility you're eligible to register for our employee banking solutions programme at no extra cost as long as your employer has already enrolled in it. learn more learn more about the page employee banking solutions (ebs) other bank accounts choose a savings or current account to meet your needs. get instant access, a higher rate with a time deposit or renminbi and foreign currency options too. savings accounts access your savings whenever you need them, and earn interest at the same time. time deposits save your money for a set period of time and get a higher interest rate than in an easy access savings account. current accounts straightforward, streamlined day-to-day banking, designed to make your life easier. basic banking account with independence an entirely new account for everyday use by those with diminished mental capacity. account management and services transfers and payments transfer funds to any account in hong kong and around the world easily, securely and quickly. foreign exchange trade foreign currencies anytime, anywhere. ways to bank with hsbc manage your money online, via atm, phone or at an hsbc branch. age-friendly banking help silver-age customers manage finances and plan for a secure future. important information deposit rates account application forms points to note for account application [pdf] fees & charges interest calculator estatement and eadvice managing your bank account smartly managing your safe deposit locker smartly [pdf] managing your safe deposit locker smartly [pdf] this link will open in a new window need to know more? check our faqs risk disclosure currency conversion risk - the value of your foreign currency and renminbi deposit will be subject to the risk of exchange rate fluctuation. if you choose to convert your renminbi deposit to other currencies at an exchange rate that is less favorable than the exchange rate in which you made your original conversion to renminbi, you may suffer loss in principal. investment involves risks. past performance of investment products are no guide to future performance. for details of the investment products and the investment-linked insurance plan, their related fees and charges and risk factors, please refer to the individual product materials/ offering documents. back to top    \n",
      "\n",
      "Chat history only to give you context and don't use any prefix like AI or AI response in the answer:\n",
      "Human: How can I open an account in HK ?\n",
      "AI: HSBC Response:\n",
      "Apply via HSBC HK App, book an appointment at the branch online in advance, or arrange a call back with International Banking Centre. You need to be at least 18 years old, meet additional criteria depending on where you live, and have proof of ID and proof of address.\n",
      "Human: What material I need to prepare ?\n",
      "AI: AI: You will need to provide proof of ID and proof of address to open an account with HSBC HK.\n",
      "Human: Do I need prepare printed version or just digital version ?\n",
      "AI: AI: You will need to provide both printed and digital versions of your proof of ID and proof of address to open an account with HSBC HK.\n",
      "Human: What benfits can a Jade accout have ?\n",
      "AI: HSBC Response: With a Jade account, you can enjoy HKD and foreign currency savings and current accounts, time deposits and investments. You will also have a personal HSBC Jade Director to manage your financial goals, access to exclusive investment products, and higher interest rates on time deposits, FX, stocks, bonds, life insurance and more. Additionally, you can benefit from lifestyle management services from Ten Lifestyle Group to plan unforgettable life experiences. To be eligible, you need to maintain a minimum total relationship balance of HKD 7,800,000 or more. Terms and conditions apply.\n",
      "\n",
      "Customer Question:\n",
      "How can I open a Jade account ?\n",
      "\u001b[0m\n",
      "\n",
      "\u001b[1m> Finished chain.\u001b[0m\n"
     ]
    },
    {
     "data": {
      "text/plain": [
       "'HSBC Response: You can apply for a Jade account via the HSBC HK App, book an appointment at the branch online in advance, or arrange a call back with International Banking Centre. To be eligible, you need to maintain a minimum total relationship balance of HKD 7,800,000 or more. You will also need to provide proof of ID and proof of address. Terms and conditions apply.'"
      ]
     },
     "execution_count": 49,
     "metadata": {},
     "output_type": "execute_result"
    }
   ],
   "source": [
    "# customer input\n",
    "customer_input=\"How can I open a Jade account ?\"\n",
    "\n",
    "# query knowledge\n",
    "knowledge = memory.load_memory_variables({\"customer_input\": knowledge})[\"history\"]\n",
    "\n",
    "# pass the customer input and knowledge to LLM chat model\n",
    "chain.run(customer_input=customer_input, bank_knowledge=knowledge)"
   ]
  },
  {
   "cell_type": "code",
   "execution_count": null,
   "id": "012b1646-a419-46ee-884e-ce500e49202f",
   "metadata": {},
   "outputs": [],
   "source": []
  }
 ],
 "metadata": {
  "kernelspec": {
   "display_name": "Python 3 (ipykernel)",
   "language": "python",
   "name": "python3"
  },
  "language_info": {
   "codemirror_mode": {
    "name": "ipython",
    "version": 3
   },
   "file_extension": ".py",
   "mimetype": "text/x-python",
   "name": "python",
   "nbconvert_exporter": "python",
   "pygments_lexer": "ipython3",
   "version": "3.11.4"
  }
 },
 "nbformat": 4,
 "nbformat_minor": 5
}
