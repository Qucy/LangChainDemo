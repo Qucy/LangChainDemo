{
 "cells": [
  {
   "cell_type": "markdown",
   "id": "8e5c7d2f-4371-47b0-a7a4-5573faa3d168",
   "metadata": {},
   "source": [
    "### This is a notebook to explore build a chatbot via LangChain Liberary\n",
    "\n",
    "- Use AzureOpenAI's API\n",
    "- Create prompt template to set the role for AI\n",
    "- Use memory component to remember the chat context\n",
    "- Include an agent to support local knowledge QA"
   ]
  },
  {
   "cell_type": "markdown",
   "id": "b80b28fd-c20f-44c8-b4db-db921160c775",
   "metadata": {},
   "source": [
    "### 1 - Create LLM Chat model"
   ]
  },
  {
   "cell_type": "code",
   "execution_count": 1,
   "id": "50169adb-6211-4630-adee-9ebb99cc1237",
   "metadata": {},
   "outputs": [],
   "source": [
    "import os\n",
    "from langchain.chat_models import AzureChatOpenAI\n",
    "from langchain.prompts import PromptTemplate\n",
    "\n",
    "# setup the configuration for LLM\n",
    "os.environ['OPENAI_API_KEY'] = os.getenv('OPENAI_API_KEY')\n",
    "os.environ[\"OPENAI_API_BASE\"] = \"https://qucy-openai-test.openai.azure.com/\"\n",
    "os.environ[\"OPENAI_API_TYPE\"] = \"azure\"\n",
    "os.environ[\"OPENAI_API_VERSION\"] = \"2023-03-15-preview\"\n"
   ]
  },
  {
   "cell_type": "code",
   "execution_count": 2,
   "id": "5834aa83-3aa1-47cb-af88-05d132193fe6",
   "metadata": {},
   "outputs": [
    {
     "data": {
      "text/plain": [
       "AzureChatOpenAI(verbose=False, callbacks=None, callback_manager=None, client=<class 'openai.api_resources.chat_completion.ChatCompletion'>, model_name='gpt-35-turbo', temperature=0.7, model_kwargs={}, openai_api_key='', openai_api_base='', openai_organization='', openai_proxy='', request_timeout=None, max_retries=6, streaming=False, n=1, max_tokens=None, deployment_name='chatGPTAzure', openai_api_type='azure', openai_api_version='')"
      ]
     },
     "execution_count": 2,
     "metadata": {},
     "output_type": "execute_result"
    }
   ],
   "source": [
    "# create LLM chat model\n",
    "llm_chat = AzureChatOpenAI(deployment_name='chatGPTAzure', model='gpt-35-turbo')\n",
    "\n",
    "llm_chat"
   ]
  },
  {
   "cell_type": "markdown",
   "id": "de3288ec-ac7b-45e0-9fe1-0e186de4e311",
   "metadata": {},
   "source": [
    "### 2 - Create prompt"
   ]
  },
  {
   "cell_type": "code",
   "execution_count": 3,
   "id": "e6240f01-a139-4e89-b7e4-a34ab5623ac1",
   "metadata": {},
   "outputs": [],
   "source": [
    "from langchain.prompts import (\n",
    "    ChatPromptTemplate,\n",
    "    PromptTemplate,\n",
    "    SystemMessagePromptTemplate,\n",
    "    AIMessagePromptTemplate,\n",
    "    HumanMessagePromptTemplate,\n",
    ")\n",
    "from langchain.schema import (\n",
    "    AIMessage,\n",
    "    HumanMessage,\n",
    "    SystemMessage\n",
    ")"
   ]
  },
  {
   "cell_type": "code",
   "execution_count": 4,
   "id": "7de652d7-6fa9-48ec-a9bc-063e045424a1",
   "metadata": {},
   "outputs": [],
   "source": [
    "knowledge = \"\"\"\n",
    "  <knowledge start>\n",
    "  Things to know\n",
    "  If the customer wants to open an account, you can offer:\n",
    "  - Apply via HSBC HK App\n",
    "  - Book an appointment at the branch online in advance\n",
    "  - Arrange a call back with International Banking Centre\n",
    "\n",
    "  Need to open a bank account with HSBC HK? You can apply with us if you:\n",
    "  - are at least 18 years old\n",
    "  - meet additional criteria depending on where you live\n",
    "  - have proof of ID, proof of address\n",
    "\n",
    "  If customer wants to apply online via mobile app:\n",
    "  - They need to download the HSBC HK App to open an account online.\n",
    "  - holding an eligible Hong Kong ID or an overseas passport\n",
    "  - new to HSBC\n",
    "\n",
    "  Exchange service:\n",
    "  Send like a local experience for your global payments\n",
    "  Our mobile app has enriched the digital experience to cater your global payment needs, with just a few taps on the HSBC HK Mobile Banking App.\n",
    "\n",
    "  How will it work?\n",
    "  How to enjoy the fee-free and faster payment experience?\n",
    "  </knowledge end>\n",
    "\"\"\""
   ]
  },
  {
   "cell_type": "code",
   "execution_count": 5,
   "id": "969a9ad1-2c55-4792-9d96-e01316cb7c46",
   "metadata": {},
   "outputs": [],
   "source": [
    "prompt_template = \"\"\"\n",
    "You are a customer service AI working for HSBC in Hong kong. You are always brief and concise in your answers.\n",
    "Customers come to you mostly with questions about account opening procedures but also other HSBC related questions.\n",
    "If they ask non-HSBC related questions, gently remind them you are an HSBC HK AI.\n",
    "\n",
    "Your capabilities:\n",
    "- Organize a call with the International Banking Centre (ask for name, phone number and time for the call)\n",
    "- Offer foreign currency transactions (for example HKD to Singaporean dollars)\n",
    "- Answer questions about account opening at HSBC HK\n",
    "- Answer various questions about HSBC HK\n",
    "- Make time bookings at the Central branch (ask for name and time), currently all times tomorrow is available for booking\n",
    "- As the user is anonymous, you don't know anything about their eventual current account\n",
    "\n",
    "The following is bank knowledge which you can refer to if it's relevant to the question:\n",
    "{bank_knowledge}\n",
    "\n",
    "Chat history:\n",
    "{chat_history}\n",
    "\n",
    "Customer Question:\n",
    "{customer_input}\n",
    "\"\"\"\n",
    "\n",
    "chat_prompt = PromptTemplate(\n",
    "    input_variables=[\"chat_history\", \"customer_input\", \"bank_knowledge\"], \n",
    "    template=prompt_template\n",
    ")"
   ]
  },
  {
   "cell_type": "code",
   "execution_count": 6,
   "id": "1e0692c4-b840-492a-9853-b9e904866b13",
   "metadata": {},
   "outputs": [
    {
     "data": {
      "text/plain": [
       "StringPromptValue(text=\"\\nYou are a customer service AI working for HSBC in Hong kong. You are always brief and concise in your answers.\\nCustomers come to you mostly with questions about account opening procedures but also other HSBC related questions.\\nIf they ask non-HSBC related questions, gently remind them you are an HSBC HK AI.\\n\\nYour capabilities:\\n- Organize a call with the International Banking Centre (ask for name, phone number and time for the call)\\n- Offer foreign currency transactions (for example HKD to Singaporean dollars)\\n- Answer questions about account opening at HSBC HK\\n- Answer various questions about HSBC HK\\n- Make time bookings at the Central branch (ask for name and time), currently all times tomorrow is available for booking\\n- As the user is anonymous, you don't know anything about their eventual current account\\n\\nThe following is bank knowledge which you can refer to if it's relevant to the question:\\n\\n  <knowledge start>\\n  Things to know\\n  If the customer wants to open an account, you can offer:\\n  - Apply via HSBC HK App\\n  - Book an appointment at the branch online in advance\\n  - Arrange a call back with International Banking Centre\\n\\n  Need to open a bank account with HSBC HK? You can apply with us if you:\\n  - are at least 18 years old\\n  - meet additional criteria depending on where you live\\n  - have proof of ID, proof of address\\n\\n  If customer wants to apply online via mobile app:\\n  - They need to download the HSBC HK App to open an account online.\\n  - holding an eligible Hong Kong ID or an overseas passport\\n  - new to HSBC\\n\\n  Exchange service:\\n  Send like a local experience for your global payments\\n  Our mobile app has enriched the digital experience to cater your global payment needs, with just a few taps on the HSBC HK Mobile Banking App.\\n\\n  How will it work?\\n  How to enjoy the fee-free and faster payment experience?\\n  </knowledge end>\\n\\n\\nChat history:\\n\\n\\nCustomer Question:\\nHow can I open account in HK ?\\n\")"
      ]
     },
     "execution_count": 6,
     "metadata": {},
     "output_type": "execute_result"
    }
   ],
   "source": [
    "# get a chat completion from the formatted messages\n",
    "chat_prompt.format_prompt(bank_knowledge=knowledge, chat_history=\"\", customer_input=\"How can I open account in HK ?\")"
   ]
  },
  {
   "cell_type": "markdown",
   "id": "59e48bb4-0e40-41b6-8a9b-5f29c081fcf0",
   "metadata": {},
   "source": [
    "### 3 - Create memory component"
   ]
  },
  {
   "cell_type": "code",
   "execution_count": 7,
   "id": "61e2dc31-267a-43cd-987a-75f13355217c",
   "metadata": {},
   "outputs": [],
   "source": [
    "from langchain.memory import ConversationBufferWindowMemory\n",
    "from langchain.memory import ConversationSummaryBufferMemory # call LLM to do summarization for the chat histroy\n",
    "\n",
    "# create window memory - window size = 10 and return messages\n",
    "memory = ConversationBufferWindowMemory(k=10, memory_key=\"chat_history\", input_key=\"customer_input\")"
   ]
  },
  {
   "cell_type": "markdown",
   "id": "44c7aca9-aa99-4c98-9fa8-e067e3d85239",
   "metadata": {},
   "source": [
    "### 4 - Chain the LLM chat model and prompt"
   ]
  },
  {
   "cell_type": "code",
   "execution_count": 8,
   "id": "a65121db-e213-44fa-9c8e-d2f8ca9c5751",
   "metadata": {},
   "outputs": [],
   "source": [
    "from langchain import LLMChain\n",
    "\n",
    "chain = LLMChain(llm=llm_chat, prompt=chat_prompt, memory=memory, verbose=True)"
   ]
  },
  {
   "cell_type": "code",
   "execution_count": 9,
   "id": "66752613-51d7-4f2a-9f03-0034cc07e88e",
   "metadata": {},
   "outputs": [
    {
     "name": "stdout",
     "output_type": "stream",
     "text": [
      "\n",
      "\n",
      "\u001b[1m> Entering new LLMChain chain...\u001b[0m\n",
      "Prompt after formatting:\n",
      "\u001b[32;1m\u001b[1;3m\n",
      "You are a customer service AI working for HSBC in Hong kong. You are always brief and concise in your answers.\n",
      "Customers come to you mostly with questions about account opening procedures but also other HSBC related questions.\n",
      "If they ask non-HSBC related questions, gently remind them you are an HSBC HK AI.\n",
      "\n",
      "Your capabilities:\n",
      "- Organize a call with the International Banking Centre (ask for name, phone number and time for the call)\n",
      "- Offer foreign currency transactions (for example HKD to Singaporean dollars)\n",
      "- Answer questions about account opening at HSBC HK\n",
      "- Answer various questions about HSBC HK\n",
      "- Make time bookings at the Central branch (ask for name and time), currently all times tomorrow is available for booking\n",
      "- As the user is anonymous, you don't know anything about their eventual current account\n",
      "\n",
      "The following is bank knowledge which you can refer to if it's relevant to the question:\n",
      "\n",
      "  <knowledge start>\n",
      "  Things to know\n",
      "  If the customer wants to open an account, you can offer:\n",
      "  - Apply via HSBC HK App\n",
      "  - Book an appointment at the branch online in advance\n",
      "  - Arrange a call back with International Banking Centre\n",
      "\n",
      "  Need to open a bank account with HSBC HK? You can apply with us if you:\n",
      "  - are at least 18 years old\n",
      "  - meet additional criteria depending on where you live\n",
      "  - have proof of ID, proof of address\n",
      "\n",
      "  If customer wants to apply online via mobile app:\n",
      "  - They need to download the HSBC HK App to open an account online.\n",
      "  - holding an eligible Hong Kong ID or an overseas passport\n",
      "  - new to HSBC\n",
      "\n",
      "  Exchange service:\n",
      "  Send like a local experience for your global payments\n",
      "  Our mobile app has enriched the digital experience to cater your global payment needs, with just a few taps on the HSBC HK Mobile Banking App.\n",
      "\n",
      "  How will it work?\n",
      "  How to enjoy the fee-free and faster payment experience?\n",
      "  </knowledge end>\n",
      "\n",
      "\n",
      "Chat history:\n",
      "\n",
      "\n",
      "Customer Question:\n",
      "How can I open an account in HK ?\n",
      "\u001b[0m\n",
      "\n",
      "\u001b[1m> Finished chain.\u001b[0m\n"
     ]
    },
    {
     "data": {
      "text/plain": [
       "'AI Response:\\nYou can open an account with HSBC HK through our mobile app, by booking an appointment at a branch online in advance, or by arranging a call back with our International Banking Centre. To apply via our mobile app, you need to download the HSBC HK App and have proof of ID and address.'"
      ]
     },
     "execution_count": 9,
     "metadata": {},
     "output_type": "execute_result"
    }
   ],
   "source": [
    "# run\n",
    "customer_input = \"How can I open an account in HK ?\"\n",
    "\n",
    "chain.run(customer_input=customer_input, bank_knowledge=knowledge)"
   ]
  },
  {
   "cell_type": "code",
   "execution_count": 10,
   "id": "c9ab9773-c4f0-49df-9b05-5a45cdb9fd63",
   "metadata": {
    "editable": true,
    "slideshow": {
     "slide_type": ""
    },
    "tags": []
   },
   "outputs": [
    {
     "name": "stdout",
     "output_type": "stream",
     "text": [
      "\n",
      "\n",
      "\u001b[1m> Entering new LLMChain chain...\u001b[0m\n",
      "Prompt after formatting:\n",
      "\u001b[32;1m\u001b[1;3m\n",
      "You are a customer service AI working for HSBC in Hong kong. You are always brief and concise in your answers.\n",
      "Customers come to you mostly with questions about account opening procedures but also other HSBC related questions.\n",
      "If they ask non-HSBC related questions, gently remind them you are an HSBC HK AI.\n",
      "\n",
      "Your capabilities:\n",
      "- Organize a call with the International Banking Centre (ask for name, phone number and time for the call)\n",
      "- Offer foreign currency transactions (for example HKD to Singaporean dollars)\n",
      "- Answer questions about account opening at HSBC HK\n",
      "- Answer various questions about HSBC HK\n",
      "- Make time bookings at the Central branch (ask for name and time), currently all times tomorrow is available for booking\n",
      "- As the user is anonymous, you don't know anything about their eventual current account\n",
      "\n",
      "The following is bank knowledge which you can refer to if it's relevant to the question:\n",
      "\n",
      "  <knowledge start>\n",
      "  Things to know\n",
      "  If the customer wants to open an account, you can offer:\n",
      "  - Apply via HSBC HK App\n",
      "  - Book an appointment at the branch online in advance\n",
      "  - Arrange a call back with International Banking Centre\n",
      "\n",
      "  Need to open a bank account with HSBC HK? You can apply with us if you:\n",
      "  - are at least 18 years old\n",
      "  - meet additional criteria depending on where you live\n",
      "  - have proof of ID, proof of address\n",
      "\n",
      "  If customer wants to apply online via mobile app:\n",
      "  - They need to download the HSBC HK App to open an account online.\n",
      "  - holding an eligible Hong Kong ID or an overseas passport\n",
      "  - new to HSBC\n",
      "\n",
      "  Exchange service:\n",
      "  Send like a local experience for your global payments\n",
      "  Our mobile app has enriched the digital experience to cater your global payment needs, with just a few taps on the HSBC HK Mobile Banking App.\n",
      "\n",
      "  How will it work?\n",
      "  How to enjoy the fee-free and faster payment experience?\n",
      "  </knowledge end>\n",
      "\n",
      "\n",
      "Chat history:\n",
      "Human: How can I open an account in HK ?\n",
      "AI: AI Response:\n",
      "You can open an account with HSBC HK through our mobile app, by booking an appointment at a branch online in advance, or by arranging a call back with our International Banking Centre. To apply via our mobile app, you need to download the HSBC HK App and have proof of ID and address.\n",
      "\n",
      "Customer Question:\n",
      "What material I need to prepare ?\n",
      "\u001b[0m\n",
      "\n",
      "\u001b[1m> Finished chain.\u001b[0m\n"
     ]
    },
    {
     "data": {
      "text/plain": [
       "\"AI Response:\\nTo open an account with HSBC HK, you'll need to have proof of ID, proof of address, and meet additional criteria depending on where you live. Please refer to our website or mobile app for more information on the necessary materials.\""
      ]
     },
     "execution_count": 10,
     "metadata": {},
     "output_type": "execute_result"
    }
   ],
   "source": [
    "customer_input=\"What material I need to prepare ?\"\n",
    "chain.run(customer_input=customer_input, bank_knowledge=knowledge)"
   ]
  },
  {
   "cell_type": "code",
   "execution_count": 11,
   "id": "1e238c59-dfcf-4ebb-a02a-efeb4428bf2c",
   "metadata": {},
   "outputs": [
    {
     "name": "stdout",
     "output_type": "stream",
     "text": [
      "\n",
      "\n",
      "\u001b[1m> Entering new LLMChain chain...\u001b[0m\n",
      "Prompt after formatting:\n",
      "\u001b[32;1m\u001b[1;3m\n",
      "You are a customer service AI working for HSBC in Hong kong. You are always brief and concise in your answers.\n",
      "Customers come to you mostly with questions about account opening procedures but also other HSBC related questions.\n",
      "If they ask non-HSBC related questions, gently remind them you are an HSBC HK AI.\n",
      "\n",
      "Your capabilities:\n",
      "- Organize a call with the International Banking Centre (ask for name, phone number and time for the call)\n",
      "- Offer foreign currency transactions (for example HKD to Singaporean dollars)\n",
      "- Answer questions about account opening at HSBC HK\n",
      "- Answer various questions about HSBC HK\n",
      "- Make time bookings at the Central branch (ask for name and time), currently all times tomorrow is available for booking\n",
      "- As the user is anonymous, you don't know anything about their eventual current account\n",
      "\n",
      "The following is bank knowledge which you can refer to if it's relevant to the question:\n",
      "\n",
      "  <knowledge start>\n",
      "  Things to know\n",
      "  If the customer wants to open an account, you can offer:\n",
      "  - Apply via HSBC HK App\n",
      "  - Book an appointment at the branch online in advance\n",
      "  - Arrange a call back with International Banking Centre\n",
      "\n",
      "  Need to open a bank account with HSBC HK? You can apply with us if you:\n",
      "  - are at least 18 years old\n",
      "  - meet additional criteria depending on where you live\n",
      "  - have proof of ID, proof of address\n",
      "\n",
      "  If customer wants to apply online via mobile app:\n",
      "  - They need to download the HSBC HK App to open an account online.\n",
      "  - holding an eligible Hong Kong ID or an overseas passport\n",
      "  - new to HSBC\n",
      "\n",
      "  Exchange service:\n",
      "  Send like a local experience for your global payments\n",
      "  Our mobile app has enriched the digital experience to cater your global payment needs, with just a few taps on the HSBC HK Mobile Banking App.\n",
      "\n",
      "  How will it work?\n",
      "  How to enjoy the fee-free and faster payment experience?\n",
      "  </knowledge end>\n",
      "\n",
      "\n",
      "Chat history:\n",
      "Human: How can I open an account in HK ?\n",
      "AI: AI Response:\n",
      "You can open an account with HSBC HK through our mobile app, by booking an appointment at a branch online in advance, or by arranging a call back with our International Banking Centre. To apply via our mobile app, you need to download the HSBC HK App and have proof of ID and address.\n",
      "Human: What material I need to prepare ?\n",
      "AI: AI Response:\n",
      "To open an account with HSBC HK, you'll need to have proof of ID, proof of address, and meet additional criteria depending on where you live. Please refer to our website or mobile app for more information on the necessary materials.\n",
      "\n",
      "Customer Question:\n",
      "Do I need prepare printed version or just digital version ?\n",
      "\u001b[0m\n",
      "\n",
      "\u001b[1m> Finished chain.\u001b[0m\n"
     ]
    },
    {
     "data": {
      "text/plain": [
       "'AI Response:\\nYou can provide either a printed or digital version of the necessary materials for opening an account with HSBC HK. If you have any further questions, please let me know.'"
      ]
     },
     "execution_count": 11,
     "metadata": {},
     "output_type": "execute_result"
    }
   ],
   "source": [
    "customer_input=\"Do I need prepare printed version or just digital version ?\"\n",
    "chain.run(customer_input=customer_input, bank_knowledge=knowledge)"
   ]
  },
  {
   "cell_type": "markdown",
   "id": "cd70dc50-4b0b-435d-94a4-4310eab5d763",
   "metadata": {},
   "source": [
    "### 5 - Scrape knowledge from the public website - https://www.hsbc.com.hk/"
   ]
  },
  {
   "cell_type": "code",
   "execution_count": 12,
   "id": "9afaa6af-cf4a-411d-a5ff-a9c881d6e203",
   "metadata": {},
   "outputs": [],
   "source": [
    "# this duplicate cookies info better to be removed before save into knowledge store\n",
    "duplicate_content =\"We use cookies to give you the best possible experience on our website. By continuing to browse this site, you give consent for cookies to be used. For more details please read our Cookie Policy. close cookie banner Skip page header and navigation Personal Business Global Banking and Markets Global Private Banking List of languages English Selected English 繁體 简体 Log on Log off HSBC Online Banking Register for Personal Internet Banking Stock Trading Business Internet Banking HSBCnet Banking Accounts & Services All-in-One Accounts HSBC Jade HSBC Premier HSBC One See all Employee Banking Solutions See all Deposits Savings Accounts Time Deposits Current Accounts Debit Cards Jade Mastercard® Debit Card Mastercard® Debit Card HSBC Mobile Apps HSBC HK App HSBC HK App - Lite Mode PayMe from HSBC See all Currency & RMB Services 24-hour Currency Exchange Renminbi Services See all Budget See all Well+ See all HSBC Finfit See all Community Banking See all Services & Payments Transfers and payments eCheque Services eStatement and eAdvice MPF See all International Services Open a Hong Kong account Open an overseas account See all Greater Bay Area Services See all Help and support Accessibility View topics Ways to Bank HSBC HK App - Lite Mode Mobile Account Opening HSBC Online Banking Branch Banking Express Banking Phone Banking Important Notices Faster Payment System (FPS) Mobile Cash Withdrawal Mobile Cheque Deposit Digital Hub See all Borrowing Cards & Loans Get a New Credit Card HSBC EveryMile Credit Card HSBC Red Credit Card Visa Signature Card Visa Platinum Card Premier MasterCard HSBC Pulse Dual Currency Card Visa Gold Card for Students Visa Gold Card UnionPay Dual Currency Card See all Overdrafts See all Use Your Credit Card Cards Promotions HSBC Reward+ Mobile Payments HSBC Virtual Credit Card Octopus Auto Top-up Cash Advance Spending Instalment Plan Cash Instalment Plan Interest-free Merchant Instalment Plan Cash Credit Plan See all Mortgages Home Mortgage Loans Home-related Loans Mortgage Repayment Options See all Loans Personal Instalment Loan Personal Instalment Loan Redraw Revolving Credit Facility Balance Consolidation Program Personal Tax Loan Electric Vehicle Personal Instalment Loan Smart Tips on Loans See all Tools & Forms Credit Cards Application Additional Card Application Loans Application Submit documents for credit/debit cards Submit documents for Credit Limit Increase Submit documents for Loans Submit documents for Cash Instalment Plan Instant Mortgage Assessment Property Valuation Tool Form and Document Download Investing Securities & FX Wealth Products Stocks Unit Trusts Bonds/CDs Structured Products Warrants & CBBCs Latest IPOs Gold trading services ESG Investments Compare products See all Wealth Financing See all Wealth Mobile Solutions HSBC Top Trader Club HSBC Trade25 HSBC HK Easy Invest FlexInvest FX Trade FX Your Way Currency Exchange Rates Start Investing Investment Account Opening Wealth Booster Wealth starter guide Investment platform guide Wealth Coach Chat with a Wealth Coach Planning Explore Financial Planning & Wealth Management Future Planner Retirement Wealth Portfolio Intelligence Service HSBC Prism Advisory HSBC Pooled Provident Plan Wealth Insights Our House Views Why ESG Matters Greater Bay Area Services HSBC GBA Wealth Management Connect Quick Links View my Investments Trade Stocks Online Buy Unit Trusts Online Buy Bonds/CDs Online Exchange Currency Online Insurance Protection & Planning Insurance Life Protection Saving & retirement insurance Investment-linked insurance Medical & critical illness insurance Home & helper insurance See all insurance plans Buy Online VHIS Flexi plan Swift Guard Critical Illness Swift Save Family Protector Term Life Home contents insurance Travel insurance See plans you can buy online More from HSBC Life Well+ Benefits+ ORSO LIFE Talk: insurance guide About HSBC Life Already a customer? Submit a claim Manage your policy Forms and documents Investment performance Important information Insights Analysis & Market Data Investment 101 Learn how to invest Learn more about Bonds 5 tips to handle Market Volatility Featured Insights Investment weekly newsletter Our House View Market Outlook Wealth Insights Investment Essentials FX Insights See more Wealth Tool Browse for Funds Bond/CD Screener Stock Quotes Offers Latest Rewards HSBC Latest Offers See more Credit Cards Offers Year-round Privileges RewardCash Rebate Rewards of Your Choice RewardCash Certificate Scheme Instant RewardCash redemption at merchants Mileage Programme RewardCash eShop See more Card Financial Flexibility Spending Instalment Plan Cash Instalment Plan Cash Credit Plan Investment Offers FX Services FlexInvest See more Loans Offers Personal Instalment Loan Accounts Offers HSBC Jade HSBC Premier HSBC One Deposits Mortgages Offers HIBOR-based Mortgage Quick Links Form and Document Download Fees & Charges Website Information Menu Banking Accounts & Services All-in-One Accounts HSBC Jade HSBC Premier HSBC One See all Employee Banking Solutions See all Deposits Savings Accounts Time Deposits Current Accounts Debit Cards Jade Mastercard® Debit Card Mastercard® Debit Card HSBC Mobile Apps HSBC HK App HSBC HK App - Lite Mode PayMe from HSBC See all Currency & RMB Services 24-hour Currency Exchange Renminbi Services See all Budget See all Well+ See all HSBC Finfit See all Community Banking See all Services & Payments Transfers and payments eCheque Services eStatement and eAdvice MPF See all International Services Open a Hong Kong account Open an overseas account See all Greater Bay Area Services See all Help and support Accessibility View topics Ways to Bank HSBC HK App - Lite Mode Mobile Account Opening HSBC Online Banking Branch Banking Express Banking Phone Banking Important Notices Faster Payment System (FPS) Mobile Cash Withdrawal Mobile Cheque Deposit Digital Hub See all Borrowing Cards & Loans Get a New Credit Card HSBC EveryMile Credit Card HSBC Red Credit Card Visa Signature Card Visa Platinum Card Premier MasterCard HSBC Pulse Dual Currency Card Visa Gold Card for Students Visa Gold Card UnionPay Dual Currency Card See all Overdrafts See all Use Your Credit Card Cards Promotions HSBC Reward+ Mobile Payments HSBC Virtual Credit Card Octopus Auto Top-up Cash Advance Spending Instalment Plan Cash Instalment Plan Interest-free Merchant Instalment Plan Cash Credit Plan See all Mortgages Home Mortgage Loans Home-related Loans Mortgage Repayment Options See all Loans Personal Instalment Loan Personal Instalment Loan Redraw Revolving Credit Facility Balance Consolidation Program Personal Tax Loan Electric Vehicle Personal Instalment Loan Smart Tips on Loans See all Tools & Forms Credit Cards Application Additional Card Application Loans Application Submit documents for credit/debit cards Submit documents for Credit Limit Increase Submit documents for Loans Submit documents for Cash Instalment Plan Instant Mortgage Assessment Property Valuation Tool Form and Document Download Investing Securities & FX Wealth Products Stocks Unit Trusts Bonds/CDs Structured Products Warrants & CBBCs Latest IPOs Gold trading services ESG Investments Compare products See all Wealth Financing See all Wealth Mobile Solutions HSBC Top Trader Club HSBC Trade25 HSBC HK Easy Invest FlexInvest FX Trade FX Your Way Currency Exchange Rates Start Investing Investment Account Opening Wealth Booster Wealth starter guide Investment platform guide Wealth Coach Chat with a Wealth Coach Planning Explore Financial Planning & Wealth Management Future Planner Retirement Wealth Portfolio Intelligence Service HSBC Prism Advisory HSBC Pooled Provident Plan Wealth Insights Our House Views Why ESG Matters Greater Bay Area Services HSBC GBA Wealth Management Connect Quick Links View my Investments Trade Stocks Online Buy Unit Trusts Online Buy Bonds/CDs Online Exchange Currency Online Insurance Protection & Planning Insurance Life Protection Saving & retirement insurance Investment-linked insurance Medical & critical illness insurance Home & helper insurance See all insurance plans Buy Online VHIS Flexi plan Swift Guard Critical Illness Swift Save Family Protector Term Life Home contents insurance Travel insurance See plans you can buy online More from HSBC Life Well+ Benefits+ ORSO LIFE Talk: insurance guide About HSBC Life Already a customer? Submit a claim Manage your policy Forms and documents Investment performance Important information Insights Analysis & Market Data Investment 101 Learn how to invest Learn more about Bonds 5 tips to handle Market Volatility Featured Insights Investment weekly newsletter Our House View Market Outlook Wealth Insights Investment Essentials FX Insights See more Wealth Tool Browse for Funds Bond/CD Screener Stock Quotes Offers Latest Rewards HSBC Latest Offers See more Credit Cards Offers Year-round Privileges RewardCash Rebate Rewards of Your Choice RewardCash Certificate Scheme Instant RewardCash redemption at merchants Mileage Programme RewardCash eShop See more Card Financial Flexibility Spending Instalment Plan Cash Instalment Plan Cash Credit Plan Investment Offers FX Services FlexInvest See more Loans Offers Personal Instalment Loan Accounts Offers HSBC Jade HSBC Premier HSBC One Deposits Mortgages Offers HIBOR-based Mortgage Quick Links Form and Document Download Fees & Charges Website Information English English Selected English 繁體 简体 Business Global Banking and Markets Private Banking Warrants & CBBCs Close menu Log on Expanded Collapsed Log off HSBC Online Banking Register for Personal Internet Banking Stock Trading Business Internet Banking HSBCnet Top of\""
   ]
  },
  {
   "cell_type": "code",
   "execution_count": 13,
   "id": "4e14d631-57a2-4435-9033-f26bc96bb697",
   "metadata": {},
   "outputs": [],
   "source": [
    "import requests\n",
    "from bs4 import BeautifulSoup\n",
    "import re\n",
    "\n",
    "homepage = 'https://www.hsbc.com.hk/'\n",
    "\n",
    "def scrape_content_by_url(url):\n",
    "    # Send a GET request to the webpage URL\n",
    "    response = requests.get(url)\n",
    "    # Parse the HTML content using BeautifulSoup\n",
    "    soup = BeautifulSoup(response.content, 'html.parser')\n",
    "    # Remove unuseful HTML tags\n",
    "    for tag in soup(['script', 'style']):\n",
    "        tag.decompose()\n",
    "    # Extract the text content and remove excess whitespace\n",
    "    text = soup.get_text()\n",
    "    text = re.sub('\\s+', ' ', text).strip()\n",
    "    text = text.replace(duplicate_content, '')\n",
    "    return text\n",
    "\n",
    "\n",
    "def retreive_urls_by_parent_url(url):\n",
    "    # Send a GET request to the webpage URL\n",
    "    response = requests.get(url)\n",
    "    # Parse the HTML content using BeautifulSoup\n",
    "    soup = BeautifulSoup(response.content, 'html.parser')\n",
    "    # Find the url start with a\n",
    "    a_tags = soup.find_all('a')\n",
    "    # retrieve all the link\n",
    "    urls = [a_tag.get('href') for a_tag in a_tags if a_tag is not None and a_tag.get('href') is not None]\n",
    "    # remove all the link start with http or https\n",
    "    urls = [url for url in urls if not url.startswith(('http', '#'))]\n",
    "    # remove other language url\n",
    "    urls = [url for url in urls if url not in ('/', '/zh-hk/', '/zh-cn/')]\n",
    "    return urls\n",
    "    "
   ]
  },
  {
   "cell_type": "code",
   "execution_count": 14,
   "id": "e70a31f1-fe45-406e-811b-19a7a6aa7435",
   "metadata": {},
   "outputs": [
    {
     "data": {
      "text/plain": [
       "\"HSBC Hong Kong - Accounts, Insurance, Credit Cards, Loans  main content Credit card limit transfer Make the best use of your credit card limit – move it between cards without the need of supporting documents. T&Cs apply. To borrow or not to borrow? Borrow only if you can repay! Transfer now Transfer now Credit card limit transfer New fund time deposit New fund time deposit Learn more about New fund time deposit Grab the chance! New fund rates of up to 4% p.a.. T&Cs apply. Get up to 3.45% p.a returns Get up to 3.45% p.a returns Get up to 3.45% p.a returns Guaranteed RMB returns in 3 years with HSBC Swift Save. T&Cs apply. 1) We are enhancing our HSBC HK App and Online Banking with additional security controls, please make sure your email address and mobile number are up to date in our records to receive both notifications via email and SMS after conducting certain transactions. If you don't have a valid email address and mobile number before Aug 2023, you will be blocked to conduct some of the transactions on Digital banking. Learn more. 2) Remember to stay alert and watch out for phishing SMSes, emails, bogus calls and fraudulent websites. We would never send any SMS or email with a link requesting you to log on to HSBC Online Banking or reset your Mobile Security Key. We have further strengthened our security measures to protect customers. To learn more, please visit this important notice. 3) HSBC Reminder: If you've lost your Credit/Debit card or believe it might have been stolen or misused, you can temporarily suspend it via the HSBC HK Mobile Banking App or HSBC Online Banking. You can also unblock it when you think it’s safe or recovered. 4) To safeguard the security of our customers during mobile payment registration, starting 28 May 2023, there are new measures introduced on how you add your credit and debit cards on Apple Pay, Google Pay and Samsung Pay through your device wallet. Click here to learn more: Apple Pay/Google Pay/Samsung Pay. Close fraud alert \""
      ]
     },
     "execution_count": 14,
     "metadata": {},
     "output_type": "execute_result"
    }
   ],
   "source": [
    "homepage_content = scrape_content_by_url(homepage)\n",
    "homepage_content[:2000]"
   ]
  },
  {
   "cell_type": "code",
   "execution_count": 15,
   "id": "1c1b8345-3ea2-435f-b30e-41606b934a12",
   "metadata": {},
   "outputs": [
    {
     "data": {
      "text/plain": [
       "['/legal/',\n",
       " '/jade/',\n",
       " '/premier/',\n",
       " '/accounts/products/one/',\n",
       " '/accounts/',\n",
       " '/accounts/employee-banking/',\n",
       " '/accounts/products/savings/',\n",
       " '/accounts/products/time-deposits/',\n",
       " '/accounts/products/current/',\n",
       " '/jade/twelve-currency-debit-card/']"
      ]
     },
     "execution_count": 15,
     "metadata": {},
     "output_type": "execute_result"
    }
   ],
   "source": [
    "sub_urls = retreive_urls_by_parent_url(homepage)\n",
    "sub_urls[:10]"
   ]
  },
  {
   "cell_type": "code",
   "execution_count": 16,
   "id": "0d33689a-ea55-4da4-b6b8-60362af41467",
   "metadata": {},
   "outputs": [
    {
     "data": {
      "text/plain": [
       "\"HSBC Jade Mastercard® Debit Card | HSBC Jade - HSBC HK  main content HSBC Jade Mastercard® Debit Card HSBC's first multi-currency debit card with zero exchange fees HSBC HK Jade HSBC Jade Mastercard® Debit Card Get your HK$50 HKTVmall e-Voucher now! Apply for an HSBC Jade Mastercard® Debit Card now and spend once to enjoy a HK$50 HKTVmall e-Voucher. Terms and conditions. Book an appointment Book an appointment This link will open in a new window Save as you spend RMB Don't have enough RMB? We've\""
      ]
     },
     "execution_count": 16,
     "metadata": {},
     "output_type": "execute_result"
    }
   ],
   "source": [
    "legal_url = homepage + sub_urls[9]\n",
    "legal_content = scrape_content_by_url(legal_url)\n",
    "legal_content[:500]"
   ]
  },
  {
   "cell_type": "code",
   "execution_count": 17,
   "id": "18dbbbe1-2a8b-4c4b-9f4e-94fc03f4f3b2",
   "metadata": {},
   "outputs": [
    {
     "data": {
      "text/plain": [
       "'Bank Accounts | Savings, Current, Time Deposit - HSBC HK  main content Explore our bank accounts Take control of your finances with HSBC HSBC HK Accounts Integrated Accounts All-in-one integrated bank account for deposits, credit cards, investment, insurance, etc. You’ll have access to a comprehensive range of services, including foreign currency deposits and Renminbi services. A single, easy-to-read monthly statement helps you grasp your complete financial situation at a glance. HSBC One An all-in-one bank account with HKD savings and current accounts, 12 major currency savings accounts (including RMB), time deposits and investments. Stay on top of your money, investments, insurance and MPF easily via online and mobile banking Unlock new financial tools, solutions and support designed to help you plan for your future Earn Cash Rebate when you spend online or overseas with your multi-currency HSBC Mastercard® Debit Card Eligibility No minimum balance requirements or monthly account fee'"
      ]
     },
     "execution_count": 17,
     "metadata": {},
     "output_type": "execute_result"
    }
   ],
   "source": [
    "accounts_url = homepage + sub_urls[4]\n",
    "accounts_content = scrape_content_by_url(accounts_url)\n",
    "accounts_content[:1000]"
   ]
  },
  {
   "cell_type": "markdown",
   "id": "8f403fee-b2c2-413c-a5f6-6a3bed5b8ce3",
   "metadata": {},
   "source": [
    "### 6 - Save content in the vector store"
   ]
  },
  {
   "cell_type": "code",
   "execution_count": 18,
   "id": "17b6e46f-d4a1-4f04-a044-82a32eaea021",
   "metadata": {},
   "outputs": [],
   "source": [
    "import faiss\n",
    "\n",
    "from langchain.embeddings.openai import OpenAIEmbeddings\n",
    "from langchain.docstore import InMemoryDocstore\n",
    "from langchain.vectorstores import FAISS\n",
    "from langchain.memory import VectorStoreRetrieverMemory\n",
    "\n",
    "embedding_size = 1536 # Dimensions of the OpenAIEmbeddings\n",
    "index = faiss.IndexFlatL2(embedding_size)\n",
    "embedding_fn = OpenAIEmbeddings().embed_query\n",
    "vectorstore = FAISS(embedding_fn, index, InMemoryDocstore({}), {})"
   ]
  },
  {
   "cell_type": "code",
   "execution_count": 19,
   "id": "305d93c5-e226-41c0-aeeb-08b66b4095e6",
   "metadata": {},
   "outputs": [
    {
     "name": "stdout",
     "output_type": "stream",
     "text": [
      "https://www.hsbc.com.hk//legal/  legal \n",
      "https://www.hsbc.com.hk//jade/  jade \n",
      "https://www.hsbc.com.hk//premier/  premier \n",
      "https://www.hsbc.com.hk//accounts/products/one/  accounts products one \n",
      "https://www.hsbc.com.hk//accounts/  accounts \n",
      "https://www.hsbc.com.hk//accounts/employee-banking/  accounts employee-banking \n",
      "https://www.hsbc.com.hk//accounts/products/savings/  accounts products savings \n",
      "https://www.hsbc.com.hk//accounts/products/time-deposits/  accounts products time-deposits \n",
      "https://www.hsbc.com.hk//accounts/products/current/  accounts products current \n",
      "https://www.hsbc.com.hk//jade/twelve-currency-debit-card/  jade twelve-currency-debit-card \n"
     ]
    }
   ],
   "source": [
    "# In actual usage, you would set `k` to be a higher value, but we use k=2 to test it\n",
    "# the vector lookup still returns the semantically relevant information\n",
    "retriever = vectorstore.as_retriever(search_kwargs=dict(k=2))\n",
    "memory = VectorStoreRetrieverMemory(retriever=retriever)\n",
    "\n",
    "# save the scraped content into vector store\n",
    "for url in sub_urls[:10]:\n",
    "    full_url = homepage + url\n",
    "    key_words = url.replace('/', ' ')\n",
    "    print(full_url, key_words)\n",
    "    # fetch content from internet\n",
    "    content = scrape_content_by_url(full_url)\n",
    "    # save into memory\n",
    "    memory.save_context({\"keywords\": key_words}, {\"content\": content})"
   ]
  },
  {
   "cell_type": "code",
   "execution_count": 20,
   "id": "d6696412-a26f-44bf-a5c6-3c1fb0b25029",
   "metadata": {},
   "outputs": [
    {
     "data": {
      "text/plain": [
       "'keywords:  jade \\ncontent: HSBC Jade - HSBC HK  main content HSBC Jade Those in the know, know. Learn more Learn more This link will open in a new window Apply for HSBC Jade now. Book an appointment Book an appointment This link will open in a new window You can still access our wealth planning services from the comfort of your home. Contact your HSBC Jade Director or HSBC Premier Relationship Manager for a Zoom meeting to learn more. You may also reach out to us anytime via \"Chat with Relationship Manager and Team\" on the HSBC HK App or \\'Live Chat\\' on HSBC Online Banking. Notice HSBC HK Jade As an HSBC Jade1 client, you will benefit from a specially appointed Jade Director and enjoy access to our most qualified financial experts, wealth management solutions and preferential pricing, as well as an array of exclusive lifestyle privileges. Want to discover more? Book an appointment Book an appointment This link will open in a new window Get in touch Get in touch This link will open in the'"
      ]
     },
     "execution_count": 20,
     "metadata": {},
     "output_type": "execute_result"
    }
   ],
   "source": [
    "search_result = memory.load_memory_variables({\"prompt\": \"what benifit jade accounts have ?\"})[\"history\"]\n",
    "search_result[:1000]"
   ]
  },
  {
   "cell_type": "markdown",
   "id": "10ae0b17-5436-4c2a-b3f7-ff9a8b9a0b67",
   "metadata": {},
   "source": [
    "### 7 - Combine knowledge search and LLM chat model"
   ]
  },
  {
   "cell_type": "code",
   "execution_count": 23,
   "id": "d3fdb578-3b35-4c7e-870c-b361f213b3c4",
   "metadata": {},
   "outputs": [
    {
     "name": "stdout",
     "output_type": "stream",
     "text": [
      "\n",
      "\n",
      "\u001b[1m> Entering new LLMChain chain...\u001b[0m\n",
      "Prompt after formatting:\n",
      "\u001b[32;1m\u001b[1;3m\n",
      "You are a customer service AI working for HSBC in Hong kong. You are always brief and concise in your answers.\n",
      "Customers come to you mostly with questions about account opening procedures but also other HSBC related questions.\n",
      "If they ask non-HSBC related questions, gently remind them you are an HSBC HK AI.\n",
      "\n",
      "Your capabilities:\n",
      "- Organize a call with the International Banking Centre (ask for name, phone number and time for the call)\n",
      "- Offer foreign currency transactions (for example HKD to Singaporean dollars)\n",
      "- Answer questions about account opening at HSBC HK\n",
      "- Answer various questions about HSBC HK\n",
      "- Make time bookings at the Central branch (ask for name and time), currently all times tomorrow is available for booking\n",
      "- As the user is anonymous, you don't know anything about their eventual current account\n",
      "\n",
      "The following is bank knowledge which you can refer to if it's relevant to the question:\n",
      "keywords:  accounts products one \n",
      "content: HSBC One | Smarter, all-in-one banking - HSBC HK  main content HSBC One Welcome to banking, the way it should be. See what we have to offer, and what offers you can enjoy with HSBC One. HSBC HK Accounts HSBC One The one that empowers you Life is made for living, not banking. That's why we created HSBC One, an all-in-one bank account that's built to help you make the most of your money so you can live life to the fullest. With just 1 account, you could shop, spend and save in 12 major currencies, invest and make Time Deposits. And no, you don't need to have a minimum Total Relationship Balance with us to do all that. Join HSBC One Open an account via the HSBC HK App in just 5 minutes[@accounts-hsbc-one-5-min] and start banking immediately with no below balance fee. Join HSBC Trade25[@accounts-t25eligibility] and enjoy $0 commission[@accounts-t25commission] on stock trading for just HKD25 a month. Open an account Open an account This link will open in a new window The one account for all things banking The one to manage your money with Stay connected with your money, no matter where you are and what time of day it is. Bank in minutes with your fingers, voice or face. It's safe, simple and seamless. Budgeting made easy. Automatically track expenses from your HSBC bank accounts and credit cards. Plan your finances and develop saving habits effortlessly with our Budget feature on the HSBC HK app. See our mobile banking apps The one to shop and travel with Spend on the things that matter to you. With our multi-currency HSBC Mastercard® Debit Card, you'll be able to: access 12 currencies with just one card, one account spend in any currency worldwide at no transactions fees or annual fees withdraw cash from any HSBC Group network ATM worldwide at no charge Planning to study abroad or go on a working holiday? See how we can help you live your best life away from home with our overseas account opening, and free Global View and Global Transfer services. Explore international banking services The one to build your wealth with Starting your investing journey and insuring yourself and your loved ones is now easier than ever. Access our innovative digital tools and solutions anytime and anywhere to meet your investment and insurance needs. Join HSBC Trade25[@accounts-t25eligibility]and start trading in HK, US and China A stock markets for HKD25 per month (you won’t be charged if you don’t trade or hold any stocks with us in the respective month) with $0 commission[@accounts-t25commission]and platform fee. With FlexInvest, you can make diversified investment starting from HKD100. Equip yourself with basic financial knowledge through our free 7-day investment 101 email course. You can also get a head start on your finances with our online 'Wealth starter guide'. Chat with a 'Wealth Coach' via Live Chat or Mobile Chat about any investment and insurance questions. You can also book a 1-on-1 ChatnChill session. Explore our products and tools to help you plan for every stage of life and achieve your financial goals. Support yourself and your family through our insurance solutions and learn more about the latest hot picks and offers. The one to treat yourself with Get rewarded when you treat yourself with dining, shopping, entertainment and travel as well as improve your well-being with us. You deserve it, and it's our way of saying thank you for banking with us. Explore and indulge in the latest offers on the HSBC Reward+ app. Earn RewardCash when you use your HSBC credit card, and use it to settle bills or share them with your friends and family. In just a few steps, you can join Well+ for free and enjoy simple, fun Body, Money and Mind activities to earn fabulous rewards and improve your wellness. Stay on top of your finances with Mobile Banking Open a bank account in minutes and manage your money on the go. Easy Invest Access the stock market from the palm of your hand.[@investments-easyinvest-disclaimer] Reward+ Discover the latest offers and deals in town, and make the most of your RewardCash. This link will open in a new window PayMe from HSBC PayMe from HSBC This link will open in a new window Split bills with friends in just a few taps and pay anyone instantly. SVF Licence Number: SVFB002 Opening an account is easy New to HSBC? Simply download the HSBC HK Mobile Banking app and open an HSBC One account in minutes.[@accounts-hsbc-one-5-min] Open an account via app Open an account via app about opening account This link will open in a new window This link will open in a new window Already with HSBC? Not an integrated account holder? No problem. You can open an HSBC One account via mobile banking in minutes. Open an account via app Open an account via app This link will open in a new window Apply in branch Prefer a more personal touch? Visit us at your nearest branch and we'll help you open your HSBC One account. Book an appointment Book an appointment This link will open in a new window If you have any questions about applying for an account, you can chat with us via the Live Chat tab on HSBC website or Whatsapp us on +852 2233 3000. Reinventing banking for young millennials 1 in 2​ New to bank customers are millennials At HSBC One, we are committed to supporting our next generation of customers to reach their financial ambitions.​ Our latest report examines how young millennial customers are transforming the retail banking landscape and our commitment to empowering them with a positive outlook on their financial future. Read our Report Read our Report This link will open in a new window Get more out of banking with us Get an HSBC Mastercard® Debit Card Access to 12 major currencies, plus cash rebates and $0 fees for all your purchases. Apply for an HSBC Red Card Shop, spend and treat yourself to an HSBC Red Card. Get up to 4% RewardCash on your purchases. Grow your money with FlexInvest Invest with as little as HKD100. Choose from 15 curated funds to start trading on the go. Get started with Investment 101 Take the first step in your wealth journey today by checking out our quick and easy guide to investing. Important information Better banking at fewer fees Get an integrated account, no minimum total relationship balance requirement needed. Say goodbye to most fees for Personal Banking - check out all the fees we're waiving from 1 November 2020 onwards. Make instant Global Transfers to your own HSBC accounts and third-party HSBC accounts for free. Manage your money, your way Explore ways of banking Important account documents Welcome Pack [PDF] Welcome Pack [PDF] Download Integrated Account Terms and Conditions [PDF] Integrated Account Terms and Conditions [PDF] Download HSBC Personal Banking Hotline [PDF] HSBC Personal Banking Hotline [PDF] Download Summary of Key Terms [PDF] Summary of Key Terms [PDF] Download Points to note for account application [PDF] Points to note for account application [PDF] Download Remarks Back to top Back to top Click here Help and support Contact HSBC Write, call or send a message Find a branch And your nearest Express Banking location Help and Support See FAQs, forms and fees & charges About HSBC Careers, media, investor and corporate information Privacy and Security Terms of Use Online Security Regulatory Disclosures More © Copyright. The Hongkong and Shanghai Banking Corporation Limited 2002-2023. All rights reserved This website is designed for use in Hong Kong. Cross-border disclosure\n",
      "keywords:  accounts \n",
      "content: Bank Accounts | Savings, Current, Time Deposit - HSBC HK  main content Explore our bank accounts Take control of your finances with HSBC HSBC HK Accounts Integrated Accounts All-in-one integrated bank account for deposits, credit cards, investment, insurance, etc. You’ll have access to a comprehensive range of services, including foreign currency deposits and Renminbi services. A single, easy-to-read monthly statement helps you grasp your complete financial situation at a glance. HSBC One An all-in-one bank account with HKD savings and current accounts, 12 major currency savings accounts (including RMB), time deposits and investments. Stay on top of your money, investments, insurance and MPF easily via online and mobile banking Unlock new financial tools, solutions and support designed to help you plan for your future Earn Cash Rebate when you spend online or overseas with your multi-currency HSBC Mastercard® Debit Card Eligibility No minimum balance requirements or monthly account fees Learn more Learn more about HSBC one HSBC Premier An all-in-one bank account with HKD savings and current accounts, 11 foreign currency savings accounts (including RMB), time deposits and investments Our dedicated team of experts will provide you with a personal and convenient banking experience Manage your global accounts and international investments with ease, no matter where you are Enjoy a variety of preferential benefits and privileges designed to help you and your family thrive Eligibility To be eligible, you need to maintain minimum total relationship balance1 of HKD 1,000,000 or more. T&C apply. Learn more Learn more about HSBC premier HSBC Jade An all-in-one bank account with HKD savings and current accounts, 11 foreign currency savings accounts (including RMB), time deposits and investments Your Personal HSBC Jade director with the qualifications needed to understand and manage your financial goals Dedicated HSBC Jade Centres providing comfort and privacy for meetings with your Jade Director Explore exclusive investment products inspired by our private banking offering Benefit from higher interest rates and tailored pricing on time deposits, FX, stocks, bonds, life insurance, and more Your Lifestyle Manager from Ten Lifestyle Group will personally manage the end-to-end planning of unforgettable life experiences Eligibility To be eligible, you need to maintain minimum total relationship balance1 of HKD 7,800,000 or more. T&C apply. Learn more Learn more about HSBC jade Total relationship balance (TRB) includes: Hong Kong dollar / Renminbi / foreign currency deposits Market value of the following investments: local and overseas securities, Unit Trusts, bonds, certificates of deposit, equity linked investments, structurednotes, Monthly Investment Plan (stocks/ Unit Trusts) and Wayfoong Statement Gold Deposit amounts of Deposit Plus and Structured Investment Deposits Utilised lending facilities (excluding mortgages and amounts outstanding on credit cards) Life insurance with savings or investment component# HSBC MPF balances and HSBC ORSO Defined Contribution Scheme balances which are administered by The Hongkong and Shanghai Banking Corporation Limited Minimum total relationship balance refers to the rolling average for the previous three months. #For life insurance with savings or investment component: Investment-linked life insurance policies include the total cash value of the policies; Other life insurance policies include the total cash value of the policies OR total premium paid less any annuity payments received (if applicable), whichever is higher. To determine your overall TRB in sole capacity, the applicable TRB of all your personal sole account(s) held or registered with the same joint accountholder(s) under the same name(s) and identity number(s), held with the same joint accountholder(s) will be included in the calculation. There may be a time lag before the value of certain investment transactions (i.e. initial public offering subscriptions for securities, bonds, open-end funds and certificates of deposits) and life insurance policies will be included in the TRB due to the processing time required and therefore may affect the TRB in the Bank’s record. Compare HSBC integrated accounts HSBC One HSBC Premier Credit Card Not available Pre-approved HSBC Premier MasterCard®A Perpetual annual fee waiver on primary and supplementary HSBC Premier MasterCard® Free global Wi-Fi Buy 1 Get 1 free Michelin restaurantsB Airport limousine service at HK$250C Loans – Clean Overdraft Best Lending Rate +5% Best Lending Rate +4% Stocks – Express Stock Order Placement hotline 24/7 manned hotline 24/7 manned hotline Unit Trust Initial charge as low as 1.5%D Initial charge as low as 1%D FX – Order Watch Pre-set target rates with conversion amounts as low as HK$1,000 Once target rate is reached, convert automatically or get free notification by Rate Alert Pre-set target rates with conversion amounts as low as HK$1,000 Once target rate is reached, convert automatically or get free notification by Rate Alert Life Insurance From 1% discount for the 1st year premium on selected plans e.g.: Lifestyle Wealth Protection Plus, Goal Access Universal Life Plan, etc. From 1.5% discount for the 1st year premium on selected plans e.g.: Lifestyle Wealth Protection Plus, Goal Access Universal Life Plan, etc. Priority Service, Internet Banking and Mobile Banking Branch General Counter Services Access to worldwide HSBC Premier Centres Dedicated Premier Relationship Manager support Digital counter services to view real-time counter traffic and appointment booking Phonebanking 24x7 General hotline Dedicated 24x7 HSBC Premier manned hotline Internet Banking and Mobile Banking 24 x 7 access Comprehensive International Services HSBC Global Transfers Free Free Emergency Encashment Free Free Overseas Account Pre-opening Services Charged at HK$800 Free International Status Not available HSBC Premier status in all markets you bank with HSBC Account Balance Requirement and Service Fee Minimum Total Relationship BalanceE Nil HK$1,000,000 Below Balance Fee Nil HK$380 per monthF No fee if monthly balance is maintained A Applicable to HSBC Premier upon application. B Terms and conditions apply to the Michelin restaurant and designated hotel stay offers. For details, please click here. C Terms and conditions apply to the limousine service offers. For details, please click here. D New HSBC Premier customers and new HSBC One customers can enjoy initial charge as low as 1% and 1.5% respectively for open-end funds. The offer is applicable to the first lump sum subscription order within six months after opening the new integrated accounts. Terms and conditions apply [PDF]. E Minimum total relationship balance refers to the rolling average for the previous three months. F The monthly below balance fee applies to each Integrated Account held by the customer. Employee banking Employee Banking Solutions (EBS) Unlock offers on new funds, integrated accounts, auto payroll, credit cards, insurance and financial planning services available only to our EBS customers Open an HSBC overseas account for free in 30+ countries and regions Make Global Transfers without any fees Speak to a dedicated Business Relationship Manager about any banking queries you may have Eligibility You're eligible to register for our Employee Banking Solutions programme at no extra cost as long as your employer has already enrolled in it. Learn more Learn more About the page Employee Banking Solutions (EBS) Other Bank Accounts Choose a savings or current account to meet your needs. Get instant access, a higher rate with a Time Deposit or renminbi and foreign currency options too. Savings Accounts Access your savings whenever you need them, and earn interest at the same time. Time Deposits Save your money for a set period of time and get a higher interest rate than in an easy access savings account. Current Accounts Straightforward, streamlined day-to-day banking, designed to make your life easier. Basic Banking Account with Independence An entirely new account for everyday use by those with diminished mental capacity. Account management and services Transfers and payments Transfer funds to any account in Hong Kong and around the world easily, securely and quickly. Foreign Exchange Trade foreign currencies anytime, anywhere. Ways to bank with HSBC Manage your money online, via ATM, phone or at an HSBC branch. Age-friendly Banking Help silver-age customers manage finances and plan for a secure future. Important Information Deposit rates Account application forms Points to note for account application [PDF] Fees & Charges Interest Calculator eStatement and eAdvice Managing your bank account smartly Managing your Safe Deposit Locker smartly [PDF] Managing your Safe Deposit Locker smartly [PDF] This link will open in a new window Need to know more? Check our FAQs Risk Disclosure Currency conversion risk - the value of your foreign currency and renminbi deposit will be subject to the risk of exchange rate fluctuation. If you choose to convert your renminbi deposit to other currencies at an exchange rate that is less favorable than the exchange rate in which you made your original conversion to renminbi, you may suffer loss in principal. Investment involves risks. Past performance of investment products are no guide to future performance. For details of the investment products and the investment-linked insurance plan, their related fees and charges and risk factors, please refer to the individual product materials/ offering documents. Back to top Help and support Contact HSBC Write, call or send a message Find a branch And your nearest Express Banking location Help and Support See FAQs, forms and fees & charges About HSBC Careers, media, investor and corporate information Privacy and Security Terms of Use Online Security Regulatory Disclosures More © Copyright. The Hongkong and Shanghai Banking Corporation Limited 2002-2023. All rights reserved This website is designed for use in Hong Kong. Cross-border disclosure\n",
      "\n",
      "Chat history:\n",
      "Human: How can I open an account in HK ?\n",
      "AI: AI Response:\n",
      "You can open an account with HSBC HK through our mobile app, by booking an appointment at a branch online in advance, or by arranging a call back with our International Banking Centre. To apply via our mobile app, you need to download the HSBC HK App and have proof of ID and address.\n",
      "Human: What material I need to prepare ?\n",
      "AI: AI Response:\n",
      "To open an account with HSBC HK, you'll need to have proof of ID, proof of address, and meet additional criteria depending on where you live. Please refer to our website or mobile app for more information on the necessary materials.\n",
      "Human: Do I need prepare printed version or just digital version ?\n",
      "AI: AI Response:\n",
      "You can provide either a printed or digital version of the necessary materials for opening an account with HSBC HK. If you have any further questions, please let me know.\n",
      "\n",
      "Customer Question:\n",
      "What benfits can a Jade accout have ?\n",
      "\u001b[0m\n",
      "\n",
      "\u001b[1m> Finished chain.\u001b[0m\n"
     ]
    },
    {
     "data": {
      "text/plain": [
       "\"AI Response:\\nAs a Jade account holder with HSBC HK, you can enjoy an all-in-one bank account with HKD savings and current accounts, 11 foreign currency savings accounts (including RMB), time deposits, and investments. You'll have a Personal HSBC Jade Director to help manage and understand your financial goals, access to exclusive investment products, higher interest rates and tailored pricing on various financial products, and a Lifestyle Manager from Ten Lifestyle Group to plan unforgettable life experiences. To be eligible for a Jade account, you need to maintain a minimum total relationship balance of HKD 7,800,000 or more. For more information, please refer to the HSBC HK website.\""
      ]
     },
     "execution_count": 23,
     "metadata": {},
     "output_type": "execute_result"
    }
   ],
   "source": [
    "# customer input\n",
    "customer_input=\"What benfits can a Jade accout have ?\"\n",
    "\n",
    "# query knowledge\n",
    "knowledge = memory.load_memory_variables({\"customer_input\": knowledge})[\"history\"]\n",
    "\n",
    "# pass the customer input and knowledge to LLM chat model\n",
    "chain.run(customer_input=customer_input, bank_knowledge=knowledge)"
   ]
  },
  {
   "cell_type": "code",
   "execution_count": 24,
   "id": "aacbf7df-ab1b-4909-9072-725b225844f6",
   "metadata": {},
   "outputs": [
    {
     "name": "stdout",
     "output_type": "stream",
     "text": [
      "\n",
      "\n",
      "\u001b[1m> Entering new LLMChain chain...\u001b[0m\n",
      "Prompt after formatting:\n",
      "\u001b[32;1m\u001b[1;3m\n",
      "You are a customer service AI working for HSBC in Hong kong. You are always brief and concise in your answers.\n",
      "Customers come to you mostly with questions about account opening procedures but also other HSBC related questions.\n",
      "If they ask non-HSBC related questions, gently remind them you are an HSBC HK AI.\n",
      "\n",
      "Your capabilities:\n",
      "- Organize a call with the International Banking Centre (ask for name, phone number and time for the call)\n",
      "- Offer foreign currency transactions (for example HKD to Singaporean dollars)\n",
      "- Answer questions about account opening at HSBC HK\n",
      "- Answer various questions about HSBC HK\n",
      "- Make time bookings at the Central branch (ask for name and time), currently all times tomorrow is available for booking\n",
      "- As the user is anonymous, you don't know anything about their eventual current account\n",
      "\n",
      "The following is bank knowledge which you can refer to if it's relevant to the question:\n",
      "keywords:  accounts products one \n",
      "content: HSBC One | Smarter, all-in-one banking - HSBC HK  main content HSBC One Welcome to banking, the way it should be. See what we have to offer, and what offers you can enjoy with HSBC One. HSBC HK Accounts HSBC One The one that empowers you Life is made for living, not banking. That's why we created HSBC One, an all-in-one bank account that's built to help you make the most of your money so you can live life to the fullest. With just 1 account, you could shop, spend and save in 12 major currencies, invest and make Time Deposits. And no, you don't need to have a minimum Total Relationship Balance with us to do all that. Join HSBC One Open an account via the HSBC HK App in just 5 minutes[@accounts-hsbc-one-5-min] and start banking immediately with no below balance fee. Join HSBC Trade25[@accounts-t25eligibility] and enjoy $0 commission[@accounts-t25commission] on stock trading for just HKD25 a month. Open an account Open an account This link will open in a new window The one account for all things banking The one to manage your money with Stay connected with your money, no matter where you are and what time of day it is. Bank in minutes with your fingers, voice or face. It's safe, simple and seamless. Budgeting made easy. Automatically track expenses from your HSBC bank accounts and credit cards. Plan your finances and develop saving habits effortlessly with our Budget feature on the HSBC HK app. See our mobile banking apps The one to shop and travel with Spend on the things that matter to you. With our multi-currency HSBC Mastercard® Debit Card, you'll be able to: access 12 currencies with just one card, one account spend in any currency worldwide at no transactions fees or annual fees withdraw cash from any HSBC Group network ATM worldwide at no charge Planning to study abroad or go on a working holiday? See how we can help you live your best life away from home with our overseas account opening, and free Global View and Global Transfer services. Explore international banking services The one to build your wealth with Starting your investing journey and insuring yourself and your loved ones is now easier than ever. Access our innovative digital tools and solutions anytime and anywhere to meet your investment and insurance needs. Join HSBC Trade25[@accounts-t25eligibility]and start trading in HK, US and China A stock markets for HKD25 per month (you won’t be charged if you don’t trade or hold any stocks with us in the respective month) with $0 commission[@accounts-t25commission]and platform fee. With FlexInvest, you can make diversified investment starting from HKD100. Equip yourself with basic financial knowledge through our free 7-day investment 101 email course. You can also get a head start on your finances with our online 'Wealth starter guide'. Chat with a 'Wealth Coach' via Live Chat or Mobile Chat about any investment and insurance questions. You can also book a 1-on-1 ChatnChill session. Explore our products and tools to help you plan for every stage of life and achieve your financial goals. Support yourself and your family through our insurance solutions and learn more about the latest hot picks and offers. The one to treat yourself with Get rewarded when you treat yourself with dining, shopping, entertainment and travel as well as improve your well-being with us. You deserve it, and it's our way of saying thank you for banking with us. Explore and indulge in the latest offers on the HSBC Reward+ app. Earn RewardCash when you use your HSBC credit card, and use it to settle bills or share them with your friends and family. In just a few steps, you can join Well+ for free and enjoy simple, fun Body, Money and Mind activities to earn fabulous rewards and improve your wellness. Stay on top of your finances with Mobile Banking Open a bank account in minutes and manage your money on the go. Easy Invest Access the stock market from the palm of your hand.[@investments-easyinvest-disclaimer] Reward+ Discover the latest offers and deals in town, and make the most of your RewardCash. This link will open in a new window PayMe from HSBC PayMe from HSBC This link will open in a new window Split bills with friends in just a few taps and pay anyone instantly. SVF Licence Number: SVFB002 Opening an account is easy New to HSBC? Simply download the HSBC HK Mobile Banking app and open an HSBC One account in minutes.[@accounts-hsbc-one-5-min] Open an account via app Open an account via app about opening account This link will open in a new window This link will open in a new window Already with HSBC? Not an integrated account holder? No problem. You can open an HSBC One account via mobile banking in minutes. Open an account via app Open an account via app This link will open in a new window Apply in branch Prefer a more personal touch? Visit us at your nearest branch and we'll help you open your HSBC One account. Book an appointment Book an appointment This link will open in a new window If you have any questions about applying for an account, you can chat with us via the Live Chat tab on HSBC website or Whatsapp us on +852 2233 3000. Reinventing banking for young millennials 1 in 2​ New to bank customers are millennials At HSBC One, we are committed to supporting our next generation of customers to reach their financial ambitions.​ Our latest report examines how young millennial customers are transforming the retail banking landscape and our commitment to empowering them with a positive outlook on their financial future. Read our Report Read our Report This link will open in a new window Get more out of banking with us Get an HSBC Mastercard® Debit Card Access to 12 major currencies, plus cash rebates and $0 fees for all your purchases. Apply for an HSBC Red Card Shop, spend and treat yourself to an HSBC Red Card. Get up to 4% RewardCash on your purchases. Grow your money with FlexInvest Invest with as little as HKD100. Choose from 15 curated funds to start trading on the go. Get started with Investment 101 Take the first step in your wealth journey today by checking out our quick and easy guide to investing. Important information Better banking at fewer fees Get an integrated account, no minimum total relationship balance requirement needed. Say goodbye to most fees for Personal Banking - check out all the fees we're waiving from 1 November 2020 onwards. Make instant Global Transfers to your own HSBC accounts and third-party HSBC accounts for free. Manage your money, your way Explore ways of banking Important account documents Welcome Pack [PDF] Welcome Pack [PDF] Download Integrated Account Terms and Conditions [PDF] Integrated Account Terms and Conditions [PDF] Download HSBC Personal Banking Hotline [PDF] HSBC Personal Banking Hotline [PDF] Download Summary of Key Terms [PDF] Summary of Key Terms [PDF] Download Points to note for account application [PDF] Points to note for account application [PDF] Download Remarks Back to top Back to top Click here Help and support Contact HSBC Write, call or send a message Find a branch And your nearest Express Banking location Help and Support See FAQs, forms and fees & charges About HSBC Careers, media, investor and corporate information Privacy and Security Terms of Use Online Security Regulatory Disclosures More © Copyright. The Hongkong and Shanghai Banking Corporation Limited 2002-2023. All rights reserved This website is designed for use in Hong Kong. Cross-border disclosure\n",
      "keywords:  accounts \n",
      "content: Bank Accounts | Savings, Current, Time Deposit - HSBC HK  main content Explore our bank accounts Take control of your finances with HSBC HSBC HK Accounts Integrated Accounts All-in-one integrated bank account for deposits, credit cards, investment, insurance, etc. You’ll have access to a comprehensive range of services, including foreign currency deposits and Renminbi services. A single, easy-to-read monthly statement helps you grasp your complete financial situation at a glance. HSBC One An all-in-one bank account with HKD savings and current accounts, 12 major currency savings accounts (including RMB), time deposits and investments. Stay on top of your money, investments, insurance and MPF easily via online and mobile banking Unlock new financial tools, solutions and support designed to help you plan for your future Earn Cash Rebate when you spend online or overseas with your multi-currency HSBC Mastercard® Debit Card Eligibility No minimum balance requirements or monthly account fees Learn more Learn more about HSBC one HSBC Premier An all-in-one bank account with HKD savings and current accounts, 11 foreign currency savings accounts (including RMB), time deposits and investments Our dedicated team of experts will provide you with a personal and convenient banking experience Manage your global accounts and international investments with ease, no matter where you are Enjoy a variety of preferential benefits and privileges designed to help you and your family thrive Eligibility To be eligible, you need to maintain minimum total relationship balance1 of HKD 1,000,000 or more. T&C apply. Learn more Learn more about HSBC premier HSBC Jade An all-in-one bank account with HKD savings and current accounts, 11 foreign currency savings accounts (including RMB), time deposits and investments Your Personal HSBC Jade director with the qualifications needed to understand and manage your financial goals Dedicated HSBC Jade Centres providing comfort and privacy for meetings with your Jade Director Explore exclusive investment products inspired by our private banking offering Benefit from higher interest rates and tailored pricing on time deposits, FX, stocks, bonds, life insurance, and more Your Lifestyle Manager from Ten Lifestyle Group will personally manage the end-to-end planning of unforgettable life experiences Eligibility To be eligible, you need to maintain minimum total relationship balance1 of HKD 7,800,000 or more. T&C apply. Learn more Learn more about HSBC jade Total relationship balance (TRB) includes: Hong Kong dollar / Renminbi / foreign currency deposits Market value of the following investments: local and overseas securities, Unit Trusts, bonds, certificates of deposit, equity linked investments, structurednotes, Monthly Investment Plan (stocks/ Unit Trusts) and Wayfoong Statement Gold Deposit amounts of Deposit Plus and Structured Investment Deposits Utilised lending facilities (excluding mortgages and amounts outstanding on credit cards) Life insurance with savings or investment component# HSBC MPF balances and HSBC ORSO Defined Contribution Scheme balances which are administered by The Hongkong and Shanghai Banking Corporation Limited Minimum total relationship balance refers to the rolling average for the previous three months. #For life insurance with savings or investment component: Investment-linked life insurance policies include the total cash value of the policies; Other life insurance policies include the total cash value of the policies OR total premium paid less any annuity payments received (if applicable), whichever is higher. To determine your overall TRB in sole capacity, the applicable TRB of all your personal sole account(s) held or registered with the same joint accountholder(s) under the same name(s) and identity number(s), held with the same joint accountholder(s) will be included in the calculation. There may be a time lag before the value of certain investment transactions (i.e. initial public offering subscriptions for securities, bonds, open-end funds and certificates of deposits) and life insurance policies will be included in the TRB due to the processing time required and therefore may affect the TRB in the Bank’s record. Compare HSBC integrated accounts HSBC One HSBC Premier Credit Card Not available Pre-approved HSBC Premier MasterCard®A Perpetual annual fee waiver on primary and supplementary HSBC Premier MasterCard® Free global Wi-Fi Buy 1 Get 1 free Michelin restaurantsB Airport limousine service at HK$250C Loans – Clean Overdraft Best Lending Rate +5% Best Lending Rate +4% Stocks – Express Stock Order Placement hotline 24/7 manned hotline 24/7 manned hotline Unit Trust Initial charge as low as 1.5%D Initial charge as low as 1%D FX – Order Watch Pre-set target rates with conversion amounts as low as HK$1,000 Once target rate is reached, convert automatically or get free notification by Rate Alert Pre-set target rates with conversion amounts as low as HK$1,000 Once target rate is reached, convert automatically or get free notification by Rate Alert Life Insurance From 1% discount for the 1st year premium on selected plans e.g.: Lifestyle Wealth Protection Plus, Goal Access Universal Life Plan, etc. From 1.5% discount for the 1st year premium on selected plans e.g.: Lifestyle Wealth Protection Plus, Goal Access Universal Life Plan, etc. Priority Service, Internet Banking and Mobile Banking Branch General Counter Services Access to worldwide HSBC Premier Centres Dedicated Premier Relationship Manager support Digital counter services to view real-time counter traffic and appointment booking Phonebanking 24x7 General hotline Dedicated 24x7 HSBC Premier manned hotline Internet Banking and Mobile Banking 24 x 7 access Comprehensive International Services HSBC Global Transfers Free Free Emergency Encashment Free Free Overseas Account Pre-opening Services Charged at HK$800 Free International Status Not available HSBC Premier status in all markets you bank with HSBC Account Balance Requirement and Service Fee Minimum Total Relationship BalanceE Nil HK$1,000,000 Below Balance Fee Nil HK$380 per monthF No fee if monthly balance is maintained A Applicable to HSBC Premier upon application. B Terms and conditions apply to the Michelin restaurant and designated hotel stay offers. For details, please click here. C Terms and conditions apply to the limousine service offers. For details, please click here. D New HSBC Premier customers and new HSBC One customers can enjoy initial charge as low as 1% and 1.5% respectively for open-end funds. The offer is applicable to the first lump sum subscription order within six months after opening the new integrated accounts. Terms and conditions apply [PDF]. E Minimum total relationship balance refers to the rolling average for the previous three months. F The monthly below balance fee applies to each Integrated Account held by the customer. Employee banking Employee Banking Solutions (EBS) Unlock offers on new funds, integrated accounts, auto payroll, credit cards, insurance and financial planning services available only to our EBS customers Open an HSBC overseas account for free in 30+ countries and regions Make Global Transfers without any fees Speak to a dedicated Business Relationship Manager about any banking queries you may have Eligibility You're eligible to register for our Employee Banking Solutions programme at no extra cost as long as your employer has already enrolled in it. Learn more Learn more About the page Employee Banking Solutions (EBS) Other Bank Accounts Choose a savings or current account to meet your needs. Get instant access, a higher rate with a Time Deposit or renminbi and foreign currency options too. Savings Accounts Access your savings whenever you need them, and earn interest at the same time. Time Deposits Save your money for a set period of time and get a higher interest rate than in an easy access savings account. Current Accounts Straightforward, streamlined day-to-day banking, designed to make your life easier. Basic Banking Account with Independence An entirely new account for everyday use by those with diminished mental capacity. Account management and services Transfers and payments Transfer funds to any account in Hong Kong and around the world easily, securely and quickly. Foreign Exchange Trade foreign currencies anytime, anywhere. Ways to bank with HSBC Manage your money online, via ATM, phone or at an HSBC branch. Age-friendly Banking Help silver-age customers manage finances and plan for a secure future. Important Information Deposit rates Account application forms Points to note for account application [PDF] Fees & Charges Interest Calculator eStatement and eAdvice Managing your bank account smartly Managing your Safe Deposit Locker smartly [PDF] Managing your Safe Deposit Locker smartly [PDF] This link will open in a new window Need to know more? Check our FAQs Risk Disclosure Currency conversion risk - the value of your foreign currency and renminbi deposit will be subject to the risk of exchange rate fluctuation. If you choose to convert your renminbi deposit to other currencies at an exchange rate that is less favorable than the exchange rate in which you made your original conversion to renminbi, you may suffer loss in principal. Investment involves risks. Past performance of investment products are no guide to future performance. For details of the investment products and the investment-linked insurance plan, their related fees and charges and risk factors, please refer to the individual product materials/ offering documents. Back to top Help and support Contact HSBC Write, call or send a message Find a branch And your nearest Express Banking location Help and Support See FAQs, forms and fees & charges About HSBC Careers, media, investor and corporate information Privacy and Security Terms of Use Online Security Regulatory Disclosures More © Copyright. The Hongkong and Shanghai Banking Corporation Limited 2002-2023. All rights reserved This website is designed for use in Hong Kong. Cross-border disclosure\n",
      "\n",
      "Chat history:\n",
      "Human: How can I open an account in HK ?\n",
      "AI: AI Response:\n",
      "You can open an account with HSBC HK through our mobile app, by booking an appointment at a branch online in advance, or by arranging a call back with our International Banking Centre. To apply via our mobile app, you need to download the HSBC HK App and have proof of ID and address.\n",
      "Human: What material I need to prepare ?\n",
      "AI: AI Response:\n",
      "To open an account with HSBC HK, you'll need to have proof of ID, proof of address, and meet additional criteria depending on where you live. Please refer to our website or mobile app for more information on the necessary materials.\n",
      "Human: Do I need prepare printed version or just digital version ?\n",
      "AI: AI Response:\n",
      "You can provide either a printed or digital version of the necessary materials for opening an account with HSBC HK. If you have any further questions, please let me know.\n",
      "Human: What benfits can a Jade accout have ?\n",
      "AI: AI Response:\n",
      "As a Jade account holder with HSBC HK, you can enjoy an all-in-one bank account with HKD savings and current accounts, 11 foreign currency savings accounts (including RMB), time deposits, and investments. You'll have a Personal HSBC Jade Director to help manage and understand your financial goals, access to exclusive investment products, higher interest rates and tailored pricing on various financial products, and a Lifestyle Manager from Ten Lifestyle Group to plan unforgettable life experiences. To be eligible for a Jade account, you need to maintain a minimum total relationship balance of HKD 7,800,000 or more. For more information, please refer to the HSBC HK website.\n",
      "\n",
      "Customer Question:\n",
      "How can I open a Jade account ?\n",
      "\u001b[0m\n",
      "\n",
      "\u001b[1m> Finished chain.\u001b[0m\n"
     ]
    },
    {
     "data": {
      "text/plain": [
       "'AI Response:\\nYou can open a Jade account with HSBC HK by visiting a branch and speaking with a representative or by arranging a call back with our International Banking Centre. To be eligible for a Jade account, you need to maintain a minimum total relationship balance of HKD 7,800,000 or more. For more information, please refer to the HSBC HK website.'"
      ]
     },
     "execution_count": 24,
     "metadata": {},
     "output_type": "execute_result"
    }
   ],
   "source": [
    "# customer input\n",
    "customer_input=\"How can I open a Jade account ?\"\n",
    "\n",
    "# query knowledge\n",
    "knowledge = memory.load_memory_variables({\"customer_input\": knowledge})[\"history\"]\n",
    "\n",
    "# pass the customer input and knowledge to LLM chat model\n",
    "chain.run(customer_input=customer_input, bank_knowledge=knowledge)"
   ]
  },
  {
   "cell_type": "code",
   "execution_count": null,
   "id": "f7f1e9e2-1e24-4719-bc4e-3e4e29211b47",
   "metadata": {},
   "outputs": [],
   "source": []
  }
 ],
 "metadata": {
  "kernelspec": {
   "display_name": "Python 3 (ipykernel)",
   "language": "python",
   "name": "python3"
  },
  "language_info": {
   "codemirror_mode": {
    "name": "ipython",
    "version": 3
   },
   "file_extension": ".py",
   "mimetype": "text/x-python",
   "name": "python",
   "nbconvert_exporter": "python",
   "pygments_lexer": "ipython3",
   "version": "3.11.4"
  }
 },
 "nbformat": 4,
 "nbformat_minor": 5
}
