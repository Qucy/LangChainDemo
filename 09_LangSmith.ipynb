{
 "cells": [
  {
   "cell_type": "markdown",
   "id": "882c3311-c95f-4a0f-852e-55f38cb08843",
   "metadata": {},
   "source": [
    "### 1 - Loading package and configurations\n",
    "- Setup openai configs\n",
    "  - OPENAI_API_TYPE=xxxx\n",
    "  - OPENAI_API_KEY=xxxxx\n",
    "  - OPENAI_API_VERSION=xxxx\n",
    "  - OPENAI_API_BASE=xxxxsbcSpoc\n",
    "- setup langsmith \n",
    "  - LANGCHAIN_TRACING_V2=xxxx\n",
    "  - LANGCHAIN_ENDPOINT=xxxxx\n",
    "  - LANGCHAIN_API_KEY=xxxx\n",
    "  - LANGCHAIN_PROJECT=xxxx\n",
    " \n",
    "#### All the chat related configuration will be send to langsmithconfigs"
   ]
  },
  {
   "cell_type": "code",
   "execution_count": 1,
   "id": "991a03b4-70a0-4396-bab2-7c02b780aeac",
   "metadata": {},
   "outputs": [
    {
     "name": "stdout",
     "output_type": "stream",
     "text": [
      "azure\n"
     ]
    }
   ],
   "source": [
    "import os\n",
    "from dotenv import load_dotenv\n",
    "from langchain.chat_models import AzureChatOpenAI\n",
    "from langchain.prompts import ChatPromptTemplate\n",
    "from langchain.schema.output_parser import StrOutputParser\n",
    "\n",
    "# load env\n",
    "load_dotenv()\n",
    "# print out - test\n",
    "print(os.getenv('OPENAI_API_TYPE'))\n",
    "# create llm\n",
    "llm = AzureChatOpenAI(deployment_name='chatGPTAzure', model='gpt-35-turbo')"
   ]
  },
  {
   "cell_type": "code",
   "execution_count": 2,
   "id": "ab2c1550-470f-4259-bd2a-3f4c0d69981f",
   "metadata": {},
   "outputs": [
    {
     "data": {
      "text/plain": [
       "RunnableSequence(first=ChatPromptTemplate(input_variables=['company_name'], output_parser=None, partial_variables={}, messages=[HumanMessagePromptTemplate(prompt=PromptTemplate(input_variables=['company_name'], output_parser=None, partial_variables={}, template='Show me description for company {company_name} in 100 words.', template_format='f-string', validate_template=True), additional_kwargs={})]), middle=[AzureChatOpenAI(cache=None, verbose=False, callbacks=None, callback_manager=None, tags=None, metadata=None, client=<class 'openai.api_resources.chat_completion.ChatCompletion'>, model_name='gpt-35-turbo', temperature=0.7, model_kwargs={}, openai_api_key='d2d65893138c46d39ffe1d69f52eda88', openai_api_base='https://qucy-openai-test.openai.azure.com/', openai_organization='', openai_proxy='', request_timeout=None, max_retries=6, streaming=False, n=1, max_tokens=None, tiktoken_model_name=None, deployment_name='chatGPTAzure', model_version='', openai_api_type='azure', openai_api_version='2023-07-01-preview')], last=StrOutputParser())"
      ]
     },
     "execution_count": 2,
     "metadata": {},
     "output_type": "execute_result"
    }
   ],
   "source": [
    "# create prompt template\n",
    "prompt = ChatPromptTemplate.from_template(\"Show me description for company {company_name} in 100 words.\")\n",
    "\n",
    "# chain model and prompt\n",
    "chain = prompt | llm | StrOutputParser()\n",
    "\n",
    "chain"
   ]
  },
  {
   "cell_type": "code",
   "execution_count": 3,
   "id": "3aca2fca-1480-4a07-8e32-8af9e7afc905",
   "metadata": {},
   "outputs": [
    {
     "data": {
      "text/plain": [
       "'HSBC Holdings plc is a British multinational banking and financial services company headquartered in London, England. It is one of the largest banks in the world, serving over 40 million customers in 64 countries and territories. The company offers a wide range of services including personal and commercial banking, wealth management, insurance, and investment banking. HSBC has a strong presence in Asia, Europe, and North America, and is committed to sustainable finance and environmental, social, and governance (ESG) practices. With a long history dating back to the mid-19th century, HSBC is a trusted and reliable partner for individuals, businesses, and institutions around the world.'"
      ]
     },
     "execution_count": 3,
     "metadata": {},
     "output_type": "execute_result"
    }
   ],
   "source": [
    "chain.invoke({\"company_name\": \"HSBC\"})"
   ]
  },
  {
   "cell_type": "code",
   "execution_count": 4,
   "id": "b0952629-f771-49c4-98d2-4896427a9378",
   "metadata": {},
   "outputs": [
    {
     "data": {
      "text/plain": [
       "\"Tesla, Inc. is an American electric vehicle and clean energy company founded by entrepreneur Elon Musk in 2003. The company's mission is to accelerate the world's transition to sustainable energy through the development, manufacturing, and sale of electric vehicles, solar panels, and energy storage systems. Tesla is known for its innovative technology, sleek designs, and commitment to sustainability. Its electric vehicles have set new standards for performance and efficiency, and its solar and energy storage solutions are helping to power homes and businesses around the world. Tesla has a global presence with operations in North America, Europe, and Asia.\""
      ]
     },
     "execution_count": 4,
     "metadata": {},
     "output_type": "execute_result"
    }
   ],
   "source": [
    "chain.invoke({\"company_name\": \"Tesla\"})"
   ]
  },
  {
   "cell_type": "markdown",
   "id": "3f180116-b485-4ccc-b7e7-ed37af8c0a5a",
   "metadata": {},
   "source": [
    "### Let's try a agent"
   ]
  },
  {
   "cell_type": "code",
   "execution_count": 5,
   "id": "93417608-7313-436b-a6ed-33514921c3a9",
   "metadata": {},
   "outputs": [
    {
     "name": "stdout",
     "output_type": "stream",
     "text": [
      "\n",
      "\n",
      "\u001b[1m> Entering new AgentExecutor chain...\u001b[0m\n",
      "\u001b[32;1m\u001b[1;3mI need to search for information related to the U.S. Open to find the answer to this question.\n",
      "Action: Intermediate Answer\n",
      "Action Input: \"U.S. Open champion hometown\"\u001b[0m\n",
      "Observation: \u001b[36;1m\u001b[1;3mCoco Gauff is the toast of tennis — and Delray Beach, Florida! Over the weekend, the US Open champion celebrated her historic Grand Slam win with family and friends in her hometown. “Me n only SOME of my favorite people 💖” the 19-year-old phenom wrote on Instagram alongside a carousel of happy photos.\u001b[0m\n",
      "Thought:\u001b[32;1m\u001b[1;3mThis article is about Coco Gauff, who won the women's U.S. Open. I need to refine my search to find information specifically about the men's champion.\n",
      "Action: Intermediate Answer\n",
      "Action Input: \"men's U.S. Open champion hometown\"\u001b[0m\n",
      "Observation: \u001b[36;1m\u001b[1;3m['Newport (1881–1914), Forest Hills (1915–1920, 1924–1977), and Philadelphia (1921–1923) held the event before it settled in 1978 at the USTA National Tennis ...']\u001b[0m\n",
      "Thought:\u001b[32;1m\u001b[1;3mOops, this search result is not helpful. I need to refine my search again.\n",
      "Action: Intermediate Answer\n",
      "Action Input: \"2021 men's U.S. Open champion hometown\"\u001b[0m\n",
      "Observation: \u001b[36;1m\u001b[1;3m['The 2021 US Open was the 141st edition of the tournament and took place at the USTA Billie Jean King National Tennis Center in Flushing Meadows–Corona Park of ...']\u001b[0m\n",
      "Thought:\u001b[32;1m\u001b[1;3mI need to refine my search even further to find the hometown of the men's U.S. Open champion for 2021.\n",
      "Action: Intermediate Answer\n",
      "Action Input: \"2021 men's U.S. Open champion name and hometown\"\u001b[0m\n",
      "Observation: \u001b[36;1m\u001b[1;3mThe 2021 US Open was the 141st edition of tennis' US Open and the fourth and final Grand Slam event of the year. It was held on outdoor hard courts at the USTA Billie Jean King National Tennis Center in Flushing Meadows, New York City. Daniil Medvedev won the men's singles title.\u001b[0m\n",
      "Thought:\u001b[32;1m\u001b[1;3mGreat, now I have the name of the men's U.S. Open champion for 2021. I just need to search for his hometown.\n",
      "Action: Intermediate Answer\n",
      "Action Input: \"Daniil Medvedev hometown\"\u001b[0m\n",
      "Observation: \u001b[36;1m\u001b[1;3mMoscow, Russia\u001b[0m\n",
      "Thought:\u001b[32;1m\u001b[1;3mI now know the final answer.\n",
      "Final Answer: Daniil Medvedev's hometown is Moscow, Russia.\u001b[0m\n",
      "\n",
      "\u001b[1m> Finished chain.\u001b[0m\n"
     ]
    },
    {
     "data": {
      "text/plain": [
       "\"Daniil Medvedev's hometown is Moscow, Russia.\""
      ]
     },
     "execution_count": 5,
     "metadata": {},
     "output_type": "execute_result"
    }
   ],
   "source": [
    "from langchain.utilities import SerpAPIWrapper\n",
    "from langchain.llms.openai import OpenAI\n",
    "from langchain.agents import initialize_agent, Tool\n",
    "from langchain.agents import AgentType\n",
    "\n",
    "search = SerpAPIWrapper(serpapi_api_key='dbee9f37664f6c7629d971c38f60417bd4b67e3e605e38920b20f219f6dc06f8')\n",
    "\n",
    "tools = [\n",
    "    Tool(\n",
    "        name=\"Intermediate Answer\",\n",
    "        func=search.run,\n",
    "        description=\"useful for when you need to ask with search\",\n",
    "    )\n",
    "]\n",
    "\n",
    "self_ask_with_search = initialize_agent(\n",
    "    tools, llm, agent=AgentType.ZERO_SHOT_REACT_DESCRIPTION, verbose=True\n",
    ")\n",
    "self_ask_with_search.run(\n",
    "    \"What is the hometown of the reigning men's U.S. Open champion?\"\n",
    ")"
   ]
  },
  {
   "cell_type": "markdown",
   "id": "ad95cd38-b448-482f-ab3a-5b9303482287",
   "metadata": {},
   "source": [
    "### Embedding"
   ]
  },
  {
   "cell_type": "code",
   "execution_count": 6,
   "id": "a7ed21a4-b8d4-4618-a854-04984fccc331",
   "metadata": {},
   "outputs": [
    {
     "data": {
      "text/plain": [
       "(5, 1536)"
      ]
     },
     "execution_count": 6,
     "metadata": {},
     "output_type": "execute_result"
    }
   ],
   "source": [
    "from langchain.embeddings import OpenAIEmbeddings\n",
    "\n",
    "embeddings_model = OpenAIEmbeddings()\n",
    "\n",
    "embeddings = embeddings_model.embed_documents(\n",
    "    [\n",
    "        \"Hi there!\",\n",
    "        \"Oh, hello!\",\n",
    "        \"What's your name?\",\n",
    "        \"My friends call me World\",\n",
    "        \"Hello World!\"\n",
    "    ]\n",
    ")\n",
    "len(embeddings), len(embeddings[0])"
   ]
  },
  {
   "cell_type": "code",
   "execution_count": 7,
   "id": "624f81c3-c0ef-4aab-b587-99e01aed74b9",
   "metadata": {},
   "outputs": [
    {
     "name": "stderr",
     "output_type": "stream",
     "text": [
      "\n",
      "KeyboardInterrupt\n",
      "\n"
     ]
    }
   ],
   "source": [
    "## Test run on evaluation dataset\n",
    "\n",
    "import langsmith\n",
    "from langchain import chat_models, prompts, smith\n",
    "from langchain.schema import output_parser\n",
    "\n",
    "# Define your runnable or chain below.\n",
    "prompt = prompts.ChatPromptTemplate.from_messages(\n",
    "  [\n",
    "    (\"system\", \"You are a helpful AI assistant, that help people to answer different questions\"),\n",
    "    (\"human\", \"{input}\")\n",
    "  ]\n",
    ")\n",
    "llm = chat_models.AzureChatOpenAI(deployment_name='chatGPTAzure', model='gpt-35-turbo')\n",
    "chain = prompt | llm | output_parser.StrOutputParser()\n",
    "\n",
    "# Define the evaluators to apply\n",
    "eval_config = smith.RunEvalConfig(\n",
    "    evaluators=[\n",
    "        \"cot_qa\",\n",
    "        smith.RunEvalConfig.LabeledCriteria(\"conciseness\"),\n",
    "        smith.RunEvalConfig.LabeledCriteria(\"relevance\")\n",
    "    ],\n",
    "    custom_evaluators=[],\n",
    "    eval_llm=chat_models.AzureChatOpenAI(deployment_name='chatGPTAzure', model='gpt-35-turbo')\n",
    ")\n",
    "\n",
    "client = langsmith.Client()\n",
    "chain_results = client.run_on_dataset(\n",
    "    dataset_name=\"wealth_rm_dataset\",\n",
    "    llm_or_chain_factory=chain,\n",
    "    evaluation=eval_config,\n",
    "    project_name=\"wealth_rm_dataset_test3\",\n",
    "    #concurrency_level=5,\n",
    "    verbose=True,\n",
    ")"
   ]
  },
  {
   "cell_type": "code",
   "execution_count": null,
   "id": "cf8ffdcb-c44e-4498-aede-fa32e1c4fec0",
   "metadata": {},
   "outputs": [],
   "source": []
  },
  {
   "cell_type": "code",
   "execution_count": null,
   "id": "62e020cd-fbfb-4388-ab25-cbe21daa9f70",
   "metadata": {},
   "outputs": [],
   "source": []
  },
  {
   "cell_type": "code",
   "execution_count": null,
   "id": "896c5e7b-e418-4460-a546-cadca93a45f9",
   "metadata": {},
   "outputs": [],
   "source": []
  },
  {
   "cell_type": "code",
   "execution_count": null,
   "id": "f16462db-4481-4743-8629-eea80fa704ea",
   "metadata": {},
   "outputs": [],
   "source": []
  }
 ],
 "metadata": {
  "kernelspec": {
   "display_name": "Python 3 (ipykernel)",
   "language": "python",
   "name": "python3"
  },
  "language_info": {
   "codemirror_mode": {
    "name": "ipython",
    "version": 3
   },
   "file_extension": ".py",
   "mimetype": "text/x-python",
   "name": "python",
   "nbconvert_exporter": "python",
   "pygments_lexer": "ipython3",
   "version": "3.9.18"
  }
 },
 "nbformat": 4,
 "nbformat_minor": 5
}
