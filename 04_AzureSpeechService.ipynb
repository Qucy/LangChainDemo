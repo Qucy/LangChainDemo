{
 "cells": [
  {
   "cell_type": "code",
   "execution_count": 1,
   "id": "15a1ea08-41f1-48bb-92b2-5ca90719bd5c",
   "metadata": {},
   "outputs": [],
   "source": [
    "import os\n",
    "import azure.cognitiveservices.speech as speechsdk\n",
    "\n",
    "# configuration for Azure Speech\n",
    "speech_config = speechsdk.SpeechConfig(subscription=os.environ.get('SPEECH_KEY'), region=os.environ.get('SPEECH_REGION'))\n",
    "# The language of the voice that speaks for TTS\n",
    "speech_config.speech_synthesis_voice_name='en-US-JennyNeural'\n",
    "# The language of text for SST\n",
    "speech_config.speech_recognition_language=\"en-US\"\n",
    "# Audio configuration for TTS\n",
    "audio_config_tts = speechsdk.audio.AudioOutputConfig(use_default_speaker=True)\n",
    "# Audio configration for SST\n",
    "audio_config_sst = speechsdk.AudioConfig(use_default_microphone=True)\n",
    "\n",
    "# create speech synthesizer for TTS\n",
    "speech_synthesizer = speechsdk.SpeechSynthesizer(speech_config=speech_config, audio_config=audio_config_tts)\n",
    "# create speech recognizer for SST\n",
    "speech_recognizer = speechsdk.SpeechRecognizer(speech_config=speech_config, audio_config=audio_config_sst)"
   ]
  },
  {
   "cell_type": "markdown",
   "id": "715a6215-aeed-4a15-ac0c-214bea155155",
   "metadata": {},
   "source": [
    "## Sample code for text to speech"
   ]
  },
  {
   "cell_type": "code",
   "execution_count": 2,
   "id": "638f2a7d-e29a-4073-8e98-ce02e4092e59",
   "metadata": {},
   "outputs": [],
   "source": [
    "def text_to_speech(text):\n",
    "    speech_synthesis_result = speech_synthesizer.speak_text_async(text).get()\n",
    "    if speech_synthesis_result.reason == speechsdk.ResultReason.SynthesizingAudioCompleted:\n",
    "        print(\"Speech synthesized for text [{}]\".format(text))\n",
    "    elif speech_synthesis_result.reason == speechsdk.ResultReason.Canceled:\n",
    "        cancellation_details = speech_synthesis_result.cancellation_details\n",
    "        print(\"Speech synthesis canceled: {}\".format(cancellation_details.reason))\n",
    "        if cancellation_details.reason == speechsdk.CancellationReason.Error:\n",
    "            if cancellation_details.error_details:\n",
    "                print(\"Error details: {}\".format(cancellation_details.error_details))\n",
    "                print(\"Did you set the speech resource key and region values?\")"
   ]
  },
  {
   "cell_type": "markdown",
   "id": "d716e2f0-16e6-4905-820e-2e35c3b65246",
   "metadata": {},
   "source": [
    "## Sample code for speech to text"
   ]
  },
  {
   "cell_type": "code",
   "execution_count": 3,
   "id": "a98ae65f-82fe-4661-806d-c780520f4c68",
   "metadata": {},
   "outputs": [],
   "source": [
    "def recognize_from_microphone():\n",
    "\n",
    "    print(\"Speak into your microphone.\")\n",
    "    speech_recognition_result = speech_recognizer.recognize_once_async().get()\n",
    "\n",
    "    if speech_recognition_result.reason == speechsdk.ResultReason.RecognizedSpeech:\n",
    "        print(\"Recognized: {}\".format(speech_recognition_result.text))\n",
    "    elif speech_recognition_result.reason == speechsdk.ResultReason.NoMatch:\n",
    "        print(\"No speech could be recognized: {}\".format(speech_recognition_result.no_match_details))\n",
    "    elif speech_recognition_result.reason == speechsdk.ResultReason.Canceled:\n",
    "        cancellation_details = speech_recognition_result.cancellation_details\n",
    "        print(\"Speech Recognition canceled: {}\".format(cancellation_details.reason))\n",
    "        if cancellation_details.reason == speechsdk.CancellationReason.Error:\n",
    "            print(\"Error details: {}\".format(cancellation_details.error_details))\n",
    "            print(\"Did you set the speech resource key and region values?\")\n",
    "\n",
    "#recognize_from_microphone()"
   ]
  },
  {
   "cell_type": "markdown",
   "id": "ff24746a-11bd-4df2-854c-f659fca366df",
   "metadata": {},
   "source": [
    "### Testing input code for SST"
   ]
  },
  {
   "cell_type": "code",
   "execution_count": 4,
   "id": "6f78017b-f5e6-4e09-a663-577a16261acb",
   "metadata": {},
   "outputs": [
    {
     "name": "stdout",
     "output_type": "stream",
     "text": [
      "Enter some text that you want to speak >\n"
     ]
    },
    {
     "name": "stdin",
     "output_type": "stream",
     "text": [
      " Hello\n"
     ]
    },
    {
     "name": "stdout",
     "output_type": "stream",
     "text": [
      "<class 'str'>\n",
      "Speech synthesized for text [Hello]\n"
     ]
    }
   ],
   "source": [
    "# Get text from the console and synthesize to the default speaker.\n",
    "print(\"Enter some text that you want to speak >\")\n",
    "text = input()\n",
    "print(type(text))\n",
    "text_to_speech(text)"
   ]
  },
  {
   "cell_type": "markdown",
   "id": "83e69bca-022f-4fda-91b4-7f3e04121081",
   "metadata": {},
   "source": [
    "### Combine LLM with Azure Speech Service"
   ]
  },
  {
   "cell_type": "code",
   "execution_count": 7,
   "id": "2cea603f-f8e3-4584-916e-fd069582c696",
   "metadata": {},
   "outputs": [],
   "source": [
    "from langchain.chat_models import AzureChatOpenAI\n",
    "from langchain.chains import ConversationChain\n",
    "from langchain.memory import ConversationBufferWindowMemory\n",
    "\n",
    "os.environ['OPENAI_API_KEY'] = os.getenv('OPENAI_API_KEY')\n",
    "os.environ[\"OPENAI_API_BASE\"] = 'https://qucy-openai-test.openai.azure.com/'\n",
    "os.environ[\"OPENAI_API_TYPE\"] = \"azure\"\n",
    "os.environ[\"OPENAI_API_VERSION\"] = \"2023-03-15-preview\"\n",
    "\n",
    "# create LLM\n",
    "llm = AzureChatOpenAI(deployment_name=\"chatGPTAzure\", model_name=\"gpt-35-turbo\")\n",
    "\n",
    "conversation = ConversationChain(\n",
    "    llm=llm,\n",
    "    memory=ConversationBufferWindowMemory(k=2),\n",
    "    verbose=True\n",
    ")"
   ]
  },
  {
   "cell_type": "code",
   "execution_count": null,
   "id": "18bd3ac0-dee6-4cb0-9ac3-000989eedc8f",
   "metadata": {},
   "outputs": [
    {
     "name": "stdout",
     "output_type": "stream",
     "text": [
      "\n",
      "\n",
      "\u001b[1m> Entering new ConversationChain chain...\u001b[0m\n",
      "Prompt after formatting:\n",
      "\u001b[32;1m\u001b[1;3mThe following is a friendly conversation between a human and an AI. The AI is talkative and provides lots of specific details from its context. If the AI does not know the answer to a question, it truthfully says it does not know.\n",
      "\n",
      "Current conversation:\n",
      "Human: What is Machine Learning ?\n",
      "AI: Machine Learning is a subset of Artificial Intelligence that involves training computer programs to learn from data, rather than being explicitly programmed. It involves using algorithms and statistical models to analyze and make predictions based on data, allowing machines to improve their performance over time. It is commonly used in areas such as image recognition, natural language processing, and predictive analytics.\n",
      "Human: What is Machine Learning ?\n",
      "AI: Machine Learning is a subset of Artificial Intelligence that involves training computer programs to learn from data, rather than being explicitly programmed. It involves using algorithms and statistical models to analyze and make predictions based on data, allowing machines to improve their performance over time. It is commonly used in areas such as image recognition, natural language processing, and predictive analytics.\n",
      "Human: What is Machine Learning ?\n",
      "AI:\u001b[0m\n",
      "\n",
      "\u001b[1m> Finished chain.\u001b[0m\n"
     ]
    }
   ],
   "source": [
    "response = conversation.predict(input='What is Machine Learning ?')\n",
    "text_to_speech(response)"
   ]
  },
  {
   "cell_type": "code",
   "execution_count": null,
   "id": "da255180-c858-4769-be66-3a6190562c59",
   "metadata": {},
   "outputs": [],
   "source": []
  }
 ],
 "metadata": {
  "kernelspec": {
   "display_name": "Python 3 (ipykernel)",
   "language": "python",
   "name": "python3"
  },
  "language_info": {
   "codemirror_mode": {
    "name": "ipython",
    "version": 3
   },
   "file_extension": ".py",
   "mimetype": "text/x-python",
   "name": "python",
   "nbconvert_exporter": "python",
   "pygments_lexer": "ipython3",
   "version": "3.9.16"
  }
 },
 "nbformat": 4,
 "nbformat_minor": 5
}
