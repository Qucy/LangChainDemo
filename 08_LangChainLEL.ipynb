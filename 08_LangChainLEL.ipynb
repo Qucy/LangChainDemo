{
 "cells": [
  {
   "cell_type": "code",
   "execution_count": 1,
   "id": "d5a38578-a23d-40d1-8fa2-6aebedd5535b",
   "metadata": {
    "editable": true,
    "slideshow": {
     "slide_type": ""
    },
    "tags": []
   },
   "outputs": [
    {
     "name": "stdout",
     "output_type": "stream",
     "text": [
      "langchain                0.0.263\n",
      "langchainplus-sdk        0.0.17\n",
      "langsmith                0.0.22\n"
     ]
    }
   ],
   "source": [
    "!pip list | grep lang"
   ]
  },
  {
   "cell_type": "code",
   "execution_count": 2,
   "id": "8086ab46-0c02-4174-b0f9-d78b705d5d45",
   "metadata": {
    "editable": true,
    "slideshow": {
     "slide_type": ""
    },
    "tags": []
   },
   "outputs": [
    {
     "name": "stdout",
     "output_type": "stream",
     "text": [
      "openai                   0.27.8\n"
     ]
    }
   ],
   "source": [
    "!pip list | grep openai"
   ]
  },
  {
   "cell_type": "markdown",
   "id": "2cdaf46d-e6d7-4857-a42b-85bb6427abf3",
   "metadata": {},
   "source": [
    "### LangChain Expression Language\n",
    "In this notebook we will have a try on the latest feature released by langchain, using pipeline to link model, prompt and any function or parser you want.\n",
    "\n",
    "\n",
    "#### 1. Toy example\n",
    "We will first take a look at a simplest example to link a LLM and a prompt. Before we take a look at Langchain expression language, let's take a look at pipe package which support pipe operation in python"
   ]
  },
  {
   "cell_type": "code",
   "execution_count": 4,
   "id": "b4f7eddc-21e2-4e45-aaa2-83a50385a1ef",
   "metadata": {},
   "outputs": [
    {
     "data": {
      "text/plain": [
       "[6, 12]"
      ]
     },
     "execution_count": 4,
     "metadata": {},
     "output_type": "execute_result"
    }
   ],
   "source": [
    "from pipe import select, where\n",
    "\n",
    "numbers = [1, 2, 3, 4, 5]\n",
    "# find even numbers and multiple by 3\n",
    "results = list(numbers |  where(lambda x: x % 2 == 0) | select(lambda x: x * 3))\n",
    "\n",
    "results"
   ]
  },
  {
   "cell_type": "code",
   "execution_count": 5,
   "id": "e67be7fd-1029-4c2c-8818-19ccbebd607f",
   "metadata": {
    "editable": true,
    "slideshow": {
     "slide_type": ""
    },
    "tags": []
   },
   "outputs": [
    {
     "data": {
      "text/plain": [
       "True"
      ]
     },
     "execution_count": 5,
     "metadata": {},
     "output_type": "execute_result"
    }
   ],
   "source": [
    "from langchain.prompts import ChatPromptTemplate\n",
    "from langchain.chat_models import AzureChatOpenAI\n",
    "from langchain.schema.output_parser import StrOutputParser\n",
    "from dotenv import load_dotenv\n",
    "\n",
    "# load env for llm service\n",
    "load_dotenv()"
   ]
  },
  {
   "cell_type": "code",
   "execution_count": 6,
   "id": "e733ccd8-bfbc-449a-9fc9-f88f5d99afcd",
   "metadata": {
    "editable": true,
    "slideshow": {
     "slide_type": ""
    },
    "tags": []
   },
   "outputs": [
    {
     "data": {
      "text/plain": [
       "RunnableSequence(first=ChatPromptTemplate(input_variables=['company_name'], output_parser=None, partial_variables={}, messages=[HumanMessagePromptTemplate(prompt=PromptTemplate(input_variables=['company_name'], output_parser=None, partial_variables={}, template='Show me description for company {company_name} in 100 words.', template_format='f-string', validate_template=True), additional_kwargs={})]), middle=[], last=AzureChatOpenAI(cache=None, verbose=False, callbacks=None, callback_manager=None, tags=None, metadata=None, client=<class 'openai.api_resources.chat_completion.ChatCompletion'>, model_name='gpt-35-turbo', temperature=0.7, model_kwargs={}, openai_api_key='d2d65893138c46d39ffe1d69f52eda88', openai_api_base='https://qucy-openai-test.openai.azure.com/', openai_organization='', openai_proxy='', request_timeout=None, max_retries=6, streaming=False, n=1, max_tokens=None, tiktoken_model_name=None, deployment_name='chatGPTAzure', model_version='', openai_api_type='azure', openai_api_version='2023-03-15-preview'))"
      ]
     },
     "execution_count": 6,
     "metadata": {},
     "output_type": "execute_result"
    }
   ],
   "source": [
    "# create llm\n",
    "llm = AzureChatOpenAI(deployment_name='chatGPTAzure', model='gpt-35-turbo')\n",
    "\n",
    "# create prompt template\n",
    "prompt = ChatPromptTemplate.from_template(\"Show me description for company {company_name} in 100 words.\")\n",
    "\n",
    "# chain model and prompt\n",
    "chain = prompt | llm\n",
    "\n",
    "chain"
   ]
  },
  {
   "cell_type": "code",
   "execution_count": 7,
   "id": "46abfede-fc16-4bd6-aa21-b4facb797302",
   "metadata": {
    "editable": true,
    "slideshow": {
     "slide_type": ""
    },
    "tags": []
   },
   "outputs": [
    {
     "data": {
      "text/plain": [
       "AIMessage(content=\"HSBC is a global banking and financial services company headquartered in London, UK. With a presence in 64 countries and territories, HSBC serves millions of customers worldwide through its retail banking, wealth management, commercial banking, and global banking and markets services. The company's aim is to provide customers with simple, efficient, and secure banking solutions that help them to achieve their financial goals. HSBC is committed to sustainability and social responsibility, and works to reduce its environmental impact and support local communities through various initiatives.\", additional_kwargs={}, example=False)"
      ]
     },
     "execution_count": 7,
     "metadata": {},
     "output_type": "execute_result"
    }
   ],
   "source": [
    "chain.invoke({\"company_name\": \"HSBC\"})"
   ]
  },
  {
   "cell_type": "code",
   "execution_count": 8,
   "id": "83148b9e-db97-4bbe-9515-8cc5e36afc6c",
   "metadata": {},
   "outputs": [
    {
     "data": {
      "text/plain": [
       "RunnableSequence(first=ChatPromptTemplate(input_variables=['company_name'], output_parser=None, partial_variables={}, messages=[HumanMessagePromptTemplate(prompt=PromptTemplate(input_variables=['company_name'], output_parser=None, partial_variables={}, template='Show me description for company {company_name} in 100 words.', template_format='f-string', validate_template=True), additional_kwargs={})]), middle=[AzureChatOpenAI(cache=None, verbose=False, callbacks=None, callback_manager=None, tags=None, metadata=None, client=<class 'openai.api_resources.chat_completion.ChatCompletion'>, model_name='gpt-35-turbo', temperature=0.7, model_kwargs={}, openai_api_key='d2d65893138c46d39ffe1d69f52eda88', openai_api_base='https://qucy-openai-test.openai.azure.com/', openai_organization='', openai_proxy='', request_timeout=None, max_retries=6, streaming=False, n=1, max_tokens=None, tiktoken_model_name=None, deployment_name='chatGPTAzure', model_version='', openai_api_type='azure', openai_api_version='2023-03-15-preview')], last=StrOutputParser())"
      ]
     },
     "execution_count": 8,
     "metadata": {},
     "output_type": "execute_result"
    }
   ],
   "source": [
    "# a chain with a string output parser\n",
    "chain_with_output_parser = prompt | llm | StrOutputParser()\n",
    "chain_with_output_parser"
   ]
  },
  {
   "cell_type": "code",
   "execution_count": 9,
   "id": "4a88a592-2541-4ece-be3e-35b347bd425a",
   "metadata": {},
   "outputs": [
    {
     "data": {
      "text/plain": [
       "'HSBC is a multinational banking and financial services company headquartered in London, United Kingdom. It is one of the largest banks in the world with operations in more than 65 countries. HSBC offers a wide range of financial products and services such as personal and commercial banking, wealth management, investment banking, and insurance. The company is committed to providing excellent customer service and operates with a focus on sustainability and corporate responsibility. HSBC is known for its strong presence in emerging markets and its ability to help clients navigate complex global business environments.'"
      ]
     },
     "execution_count": 9,
     "metadata": {},
     "output_type": "execute_result"
    }
   ],
   "source": [
    "chain_with_output_parser.invoke({\"company_name\": \"HSBC\"})"
   ]
  },
  {
   "cell_type": "markdown",
   "id": "f6feb3b5-e62a-4a58-b0c9-34eca6e5ed77",
   "metadata": {},
   "source": [
    "#### 2. Attaching Function Call information\n",
    "\n",
    "We are not call the function acctually here, we are just using the function specification and let LLM to figure out the input parameter for the function"
   ]
  },
  {
   "cell_type": "code",
   "execution_count": 10,
   "id": "4ddd2a76-be90-4431-9a77-f940a281d910",
   "metadata": {},
   "outputs": [],
   "source": [
    "from langchain.output_parsers.openai_functions import JsonOutputFunctionsParser\n",
    "\n",
    "# functions = [\n",
    "#     {\n",
    "#       \"name\": \"save_description\",\n",
    "#       \"description\": \"save the description for the a company\",\n",
    "#       \"parameters\": {\n",
    "#         \"type\": \"object\",\n",
    "#         \"properties\": {\n",
    "#           \"company_name\": {\n",
    "#             \"type\": \"string\",\n",
    "#             \"description\": \"The name of the company\"\n",
    "#           },\n",
    "#           \"description\": {\n",
    "#             \"type\": \"string\",\n",
    "#             \"description\": \"The description of the company\"\n",
    "#           }\n",
    "#         },\n",
    "#         \"required\": [\"company_name\", \"description\"]\n",
    "#       }\n",
    "#     }\n",
    "#   ]\n",
    "\n",
    "\n",
    "# chain = (\n",
    "#     prompt \n",
    "#     | llm.bind(function_call= {\"name\": \"save_description\"}, functions= functions) \n",
    "#     | JsonOutputFunctionsParser()\n",
    "# )\n",
    "\n",
    "# chain.invoke({\"company_name\": \"HSBC\"})"
   ]
  },
  {
   "cell_type": "markdown",
   "id": "9fb5550b-b588-4fc8-b9c8-a7722a5a24f9",
   "metadata": {},
   "source": [
    "The output should be look like, bue since our OPENAI model at Azure is still the old GPT 3.5 which does not support functional call and it will encounter an error.\n",
    "\n",
    "{ \n",
    "  'company_name' : 'HSBC',\n",
    "  'description' : 'HSBC Holdings plc is a multinational banking and financial services company headquartered in London, United Kingdom. It is one of the largest banking organizations in the world, with a presence in 64 countries and territories, serving more than 40 million customers. HSBC offers a wide range of......'\n",
    "}"
   ]
  },
  {
   "cell_type": "markdown",
   "id": "f2ea1687-60fe-436e-8550-c630ebc937bc",
   "metadata": {},
   "source": [
    "### 3. Runnable in Langchain\n",
    "\n",
    "LangChain Expression Language (LEL) provides a convenient and straightforward approach for writing components in a declarative manner and effortlessly combining them. To gain a better understanding of its functionality, let's examine its runnable interface.\n",
    "\n",
    "LangChain introduces a runnable interface that serves as a blueprint for implementing various components. Subclasses of this interface are required to implement the following functions:\n",
    "- stream: handles streaming output\n",
    "- invoke: processes single input\n",
    "- batch: handles batch input\n",
    "- astream: handles asynchronous streaming\n",
    "- ainvoke: performs asynchronous invocation\n",
    "- abatch: handles asynchronous batch processing"
   ]
  },
  {
   "cell_type": "code",
   "execution_count": 11,
   "id": "1c71f8da-6207-4184-93ca-4d8d7cffea99",
   "metadata": {},
   "outputs": [
    {
     "name": "stdout",
     "output_type": "stream",
     "text": [
      "True\n"
     ]
    }
   ],
   "source": [
    "from langchain.schema.runnable import Runnable\n",
    "\n",
    "# the ChatPromptTemplate implemented Runnable as well\n",
    "print(isinstance(prompt, Runnable))"
   ]
  },
  {
   "cell_type": "code",
   "execution_count": 12,
   "id": "7b45a34a-efb9-404f-beec-0a31edead1a3",
   "metadata": {
    "editable": true,
    "slideshow": {
     "slide_type": ""
    },
    "tags": []
   },
   "outputs": [
    {
     "name": "stdout",
     "output_type": "stream",
     "text": [
      "I recevied input ->  {'company_name': 'HSBC'} \n"
     ]
    },
    {
     "data": {
      "text/plain": [
       "{'company_name': 'HSBC'}"
      ]
     },
     "execution_count": 12,
     "metadata": {},
     "output_type": "execute_result"
    }
   ],
   "source": [
    "# let's write our own component\n",
    "\n",
    "from langchain.load.serializable import Serializable\n",
    "from langchain.schema.runnable import RunnableConfig, RunnablePassthrough\n",
    "from langchain.schema.runnable.base import Input, Runnable, Optional\n",
    "\n",
    "\n",
    "class StdOutputRunnable(Serializable, Runnable[Input, Input]):\n",
    "\n",
    "    @property\n",
    "    def lc_serializable(self) -> bool:\n",
    "        return True\n",
    "\n",
    "    def invoke(self, input: Input, config: Optional[RunnableConfig] = None) -> Input:\n",
    "        print(f\"I recevied input ->  {input} \")\n",
    "        return self._call_with_config(lambda x: x, input, config)\n",
    "\n",
    "\n",
    "runnable_chain =  RunnablePassthrough() | StdOutputRunnable()\n",
    "\n",
    "runnable_chain.invoke({'company_name':'HSBC'})"
   ]
  },
  {
   "cell_type": "code",
   "execution_count": 13,
   "id": "5fe71a39-a042-4004-86d6-7d14ce9fcbc3",
   "metadata": {},
   "outputs": [
    {
     "name": "stdout",
     "output_type": "stream",
     "text": [
      "I recevied input ->  messages=[HumanMessage(content='Show me description for company Alibaba in 100 words.', additional_kwargs={}, example=False)] \n"
     ]
    },
    {
     "data": {
      "text/plain": [
       "AIMessage(content=\"Alibaba Group is a leading e-commerce company based in Hangzhou, China, founded by Jack Ma in 1999. The company initially started as a B2B marketplace, connecting Chinese manufacturers to global buyers. Since then, it has expanded its services to include B2C retail, cloud computing, digital media, and entertainment. Alibaba's e-commerce platforms, including Taobao and Tmall, are some of the largest in the world, with millions of active users. The company is also a major player in the cloud computing market, providing services to businesses across various industries. Alibaba's mission is to make it easy to do business anywhere, and it continues to innovate and expand its offerings to achieve this goal.\", additional_kwargs={}, example=False)"
      ]
     },
     "execution_count": 13,
     "metadata": {},
     "output_type": "execute_result"
    }
   ],
   "source": [
    "chain = prompt | StdOutputRunnable() | llm\n",
    "\n",
    "chain.invoke({'company_name': 'Alibaba'})"
   ]
  },
  {
   "cell_type": "markdown",
   "id": "f2c817ac-b77a-444f-8221-830e903620c5",
   "metadata": {},
   "source": [
    "#### 4. Retriever"
   ]
  },
  {
   "cell_type": "code",
   "execution_count": 14,
   "id": "c7f15e6d-06f5-44f2-a4c5-b84fa444c2a5",
   "metadata": {
    "editable": true,
    "slideshow": {
     "slide_type": ""
    },
    "tags": []
   },
   "outputs": [],
   "source": [
    "from langchain.vectorstores import Chroma\n",
    "from langchain.embeddings import OpenAIEmbeddings\n",
    "from langchain.schema.runnable import RunnablePassthrough\n",
    "\n",
    "# create embedding model\n",
    "embeddings = OpenAIEmbeddings(\n",
    "    deployment=\"text-embedding-ada-002\",\n",
    "    model=\"text-embedding-ada-002\"\n",
    ")\n",
    "\n",
    "# Create the retriever\n",
    "vectorstore = Chroma.from_texts([\"harrison worked at kensho\"], embedding=embeddings)\n",
    "retriever = vectorstore.as_retriever()\n",
    "\n",
    "template = \"\"\"Answer the question based only on the following context:\n",
    "{context}\n",
    "\n",
    "Question: {question}\n",
    "\"\"\"\n",
    "prompt = ChatPromptTemplate.from_template(template)\n",
    "\n",
    "chain = (\n",
    "    {\"context\": retriever, \"question\": RunnablePassthrough()} \n",
    "    | prompt \n",
    "    | llm \n",
    "    | StrOutputParser()\n",
    ")"
   ]
  },
  {
   "cell_type": "code",
   "execution_count": 15,
   "id": "01dcda21-ca1e-4db0-be82-df5c6d902adf",
   "metadata": {},
   "outputs": [
    {
     "name": "stderr",
     "output_type": "stream",
     "text": [
      "Number of requested results 4 is greater than number of elements in index 1, updating n_results = 1\n"
     ]
    },
    {
     "data": {
      "text/plain": [
       "'Harrison worked at Kensho.'"
      ]
     },
     "execution_count": 15,
     "metadata": {},
     "output_type": "execute_result"
    }
   ],
   "source": [
    "chain.invoke(\"where did harrison work?\")"
   ]
  },
  {
   "cell_type": "markdown",
   "id": "74d95ae4-06e1-495f-a4b0-1c42f45e6d21",
   "metadata": {},
   "source": [
    "### 5. Router"
   ]
  },
  {
   "cell_type": "code",
   "execution_count": 16,
   "id": "7f130c5c-d50e-45e2-b45f-a5f8e3d4a57f",
   "metadata": {},
   "outputs": [],
   "source": [
    "from langchain.chains import create_tagging_chain_pydantic\n",
    "from pydantic import BaseModel, Field\n",
    "from langchain.schema.runnable import RouterRunnable\n",
    "\n",
    "\n",
    "class ChainToUse(BaseModel):\n",
    "    \"\"\"Used to determine which chain to use to answer the user's question.\"\"\"\n",
    "    \n",
    "    name: str = Field(description=\"Should be one of `market_view`, `asset_view`\")\n",
    "\n",
    "# create tagger to do classification\n",
    "tagger = create_tagging_chain_pydantic(ChainToUse, llm)\n",
    "\n",
    "# create 2 seperate chains\n",
    "asset_view_chain = ChatPromptTemplate.from_template(\"\"\" \n",
    "You are a financial expert to answer question related to asset view, \n",
    "- you should involves analyzing and evaluating specific assets or financial instruments held by the bank. \n",
    "- you should focuses on individual investments, such as stocks, bonds, loans, real estate, or other financial products. \n",
    "- you should cover factors like asset quality, performance, risk, liquidity, and potential returns. \n",
    "Answer the question: {question}\n",
    "\"\"\") | llm\n",
    "\n",
    "market_view_chain = ChatPromptTemplate.from_template(\"\"\" \n",
    "You are a financial expert to answer question related to market view, \n",
    "- you should analysis or perspective focused on the broader financial markets, including various market segments such as stocks, bonds, commodities, currencies, and derivatives. \n",
    "- you should involves assessing market conditions, trends, and factors that may impact the overall performance of these markets. \n",
    "Answer the question: {question}\n",
    "\"\"\") | llm\n",
    "\n",
    "# create a router\n",
    "router = RouterRunnable({\"asset_view\": asset_view_chain, \"market_view\": market_view_chain})\n",
    "\n",
    "# using LEL to chain everything together\n",
    "chain = {\n",
    "    \"key\": {\"input\": lambda x: x[\"question\"]} | tagger | (lambda x: x['text'].name),\n",
    "    \"input\": {\"question\": lambda x: x[\"question\"]}\n",
    "} | router"
   ]
  },
  {
   "cell_type": "code",
   "execution_count": 18,
   "id": "4d49a5c4-8894-44b7-ae41-91539e52e1b2",
   "metadata": {},
   "outputs": [],
   "source": [
    "news = \"\"\"\n",
    "Headline: \"Banking Sector Anticipates Robust Growth in Real Estate Investments Amidst Economic Recovery\"\n",
    "In the wake of a solid economic recovery, the banking sector is gearing up for a surge in real estate investments. \n",
    "Market analysts predict that the rebounding economy, low interest rates, \n",
    "and increased consumer confidence will drive demand for residential and commercial properties. \n",
    "This optimistic market view has prompted several banks to strategically expand their real estate portfolios. \n",
    "Simultaneously, asset managers within these banks are eyeing lucrative opportunities in key metropolitan areas, \n",
    "identifying undervalued properties with growth potential. With a focus on diversifying their asset holdings and capitalizing on the promising market conditions, \n",
    "banks are poised to leverage the recovering real estate sector for long-term profitability and asset appreciation.\"\"\"\n",
    "\n",
    "#chain.invoke({\"question\": f\"What is the asset view for news {news} \"})"
   ]
  },
  {
   "cell_type": "code",
   "execution_count": 19,
   "id": "55fb56f5-4abb-47bf-aca2-a5bdf94fd8c4",
   "metadata": {},
   "outputs": [],
   "source": [
    "# chain.invoke({\"question\": f\"What is the market view for news {news} \"})"
   ]
  },
  {
   "cell_type": "code",
   "execution_count": null,
   "id": "58737720-4126-4f67-82ce-4511fb379f64",
   "metadata": {},
   "outputs": [],
   "source": []
  }
 ],
 "metadata": {
  "kernelspec": {
   "display_name": "Python 3 (ipykernel)",
   "language": "python",
   "name": "python3"
  },
  "language_info": {
   "codemirror_mode": {
    "name": "ipython",
    "version": 3
   },
   "file_extension": ".py",
   "mimetype": "text/x-python",
   "name": "python",
   "nbconvert_exporter": "python",
   "pygments_lexer": "ipython3",
   "version": "3.11.4"
  }
 },
 "nbformat": 4,
 "nbformat_minor": 5
}
