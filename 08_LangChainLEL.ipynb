{
 "cells": [
  {
   "cell_type": "code",
   "execution_count": 1,
   "id": "d5a38578-a23d-40d1-8fa2-6aebedd5535b",
   "metadata": {
    "editable": true,
    "slideshow": {
     "slide_type": ""
    },
    "tags": []
   },
   "outputs": [
    {
     "name": "stdout",
     "output_type": "stream",
     "text": [
      "langchain                0.0.263\n",
      "langchainplus-sdk        0.0.17\n",
      "langsmith                0.0.22\n"
     ]
    }
   ],
   "source": [
    "!pip list | grep lang"
   ]
  },
  {
   "cell_type": "code",
   "execution_count": 2,
   "id": "8086ab46-0c02-4174-b0f9-d78b705d5d45",
   "metadata": {
    "editable": true,
    "slideshow": {
     "slide_type": ""
    },
    "tags": []
   },
   "outputs": [
    {
     "name": "stdout",
     "output_type": "stream",
     "text": [
      "openai                   0.27.8\n"
     ]
    }
   ],
   "source": [
    "!pip list | grep openai"
   ]
  },
  {
   "cell_type": "markdown",
   "id": "2cdaf46d-e6d7-4857-a42b-85bb6427abf3",
   "metadata": {},
   "source": [
    "### LangChain Expression Language\n",
    "In this notebook we will have a try on the latest feature released by langchain, using pipeline to link model, prompt and any function or parser you want.\n",
    "\n",
    "\n",
    "#### 1. Toy example\n",
    "We will first take a look at a simplest example to link a LLM and a prompt. Before we take a look at Langchain expression language, let's take a look at pipe package which support pipe operation in python"
   ]
  },
  {
   "cell_type": "code",
   "execution_count": 18,
   "id": "b4f7eddc-21e2-4e45-aaa2-83a50385a1ef",
   "metadata": {},
   "outputs": [
    {
     "data": {
      "text/plain": [
       "[6, 12]"
      ]
     },
     "execution_count": 18,
     "metadata": {},
     "output_type": "execute_result"
    }
   ],
   "source": [
    "from pipe import select, where\n",
    "\n",
    "numbers = [1, 2, 3, 4, 5]\n",
    "# find even numbers and multiple by 3\n",
    "results = list(numbers |  where(lambda x: x % 2 == 0) | select(lambda x: x * 3))\n",
    "\n",
    "results"
   ]
  },
  {
   "cell_type": "code",
   "execution_count": 19,
   "id": "e67be7fd-1029-4c2c-8818-19ccbebd607f",
   "metadata": {
    "editable": true,
    "slideshow": {
     "slide_type": ""
    },
    "tags": []
   },
   "outputs": [
    {
     "data": {
      "text/plain": [
       "True"
      ]
     },
     "execution_count": 19,
     "metadata": {},
     "output_type": "execute_result"
    }
   ],
   "source": [
    "from langchain.prompts import ChatPromptTemplate\n",
    "from langchain.chat_models import AzureChatOpenAI\n",
    "from langchain.schema.output_parser import StrOutputParser\n",
    "from dotenv import load_dotenv\n",
    "\n",
    "# load env for llm service\n",
    "load_dotenv()"
   ]
  },
  {
   "cell_type": "code",
   "execution_count": 24,
   "id": "e733ccd8-bfbc-449a-9fc9-f88f5d99afcd",
   "metadata": {
    "editable": true,
    "slideshow": {
     "slide_type": ""
    },
    "tags": []
   },
   "outputs": [
    {
     "data": {
      "text/plain": [
       "RunnableSequence(first=ChatPromptTemplate(input_variables=['company_name'], output_parser=None, partial_variables={}, messages=[HumanMessagePromptTemplate(prompt=PromptTemplate(input_variables=['company_name'], output_parser=None, partial_variables={}, template='Show me description for company {company_name} in 100 words.', template_format='f-string', validate_template=True), additional_kwargs={})]), middle=[], last=AzureChatOpenAI(cache=None, verbose=False, callbacks=None, callback_manager=None, tags=None, metadata=None, client=<class 'openai.api_resources.chat_completion.ChatCompletion'>, model_name='gpt-35-turbo', temperature=0.7, model_kwargs={}, openai_api_key='d2d65893138c46d39ffe1d69f52eda88', openai_api_base='https://qucy-openai-test.openai.azure.com/', openai_organization='', openai_proxy='', request_timeout=None, max_retries=6, streaming=False, n=1, max_tokens=None, tiktoken_model_name=None, deployment_name='chatGPTAzure', model_version='', openai_api_type='azure', openai_api_version='2023-03-15-preview'))"
      ]
     },
     "execution_count": 24,
     "metadata": {},
     "output_type": "execute_result"
    }
   ],
   "source": [
    "# create llm\n",
    "llm = AzureChatOpenAI(deployment_name='chatGPTAzure', model='gpt-35-turbo')\n",
    "\n",
    "# create prompt template\n",
    "prompt = ChatPromptTemplate.from_template(\"Show me description for company {company_name} in 100 words.\")\n",
    "\n",
    "# chain model and prompt\n",
    "chain = prompt | llm\n",
    "\n",
    "chain"
   ]
  },
  {
   "cell_type": "code",
   "execution_count": 25,
   "id": "46abfede-fc16-4bd6-aa21-b4facb797302",
   "metadata": {
    "editable": true,
    "slideshow": {
     "slide_type": ""
    },
    "tags": []
   },
   "outputs": [
    {
     "data": {
      "text/plain": [
       "AIMessage(content='HSBC is a multinational banking and financial services company headquartered in London, UK. It operates in over 60 countries worldwide, providing a wide range of banking and financial products and services to individuals, businesses, and institutions. HSBC is one of the largest banks in the world, with a strong presence in Asia, Europe, and the Americas. The company offers services such as personal and business banking, wealth management, insurance, and investment banking. HSBC is committed to sustainability and responsible business practices, and has implemented initiatives to reduce its carbon footprint and support economic growth in developing countries.', additional_kwargs={}, example=False)"
      ]
     },
     "execution_count": 25,
     "metadata": {},
     "output_type": "execute_result"
    }
   ],
   "source": [
    "chain.invoke({\"company_name\": \"HSBC\"})"
   ]
  },
  {
   "cell_type": "code",
   "execution_count": 26,
   "id": "83148b9e-db97-4bbe-9515-8cc5e36afc6c",
   "metadata": {},
   "outputs": [
    {
     "data": {
      "text/plain": [
       "RunnableSequence(first=ChatPromptTemplate(input_variables=['company_name'], output_parser=None, partial_variables={}, messages=[HumanMessagePromptTemplate(prompt=PromptTemplate(input_variables=['company_name'], output_parser=None, partial_variables={}, template='Show me description for company {company_name} in 100 words.', template_format='f-string', validate_template=True), additional_kwargs={})]), middle=[AzureChatOpenAI(cache=None, verbose=False, callbacks=None, callback_manager=None, tags=None, metadata=None, client=<class 'openai.api_resources.chat_completion.ChatCompletion'>, model_name='gpt-35-turbo', temperature=0.7, model_kwargs={}, openai_api_key='d2d65893138c46d39ffe1d69f52eda88', openai_api_base='https://qucy-openai-test.openai.azure.com/', openai_organization='', openai_proxy='', request_timeout=None, max_retries=6, streaming=False, n=1, max_tokens=None, tiktoken_model_name=None, deployment_name='chatGPTAzure', model_version='', openai_api_type='azure', openai_api_version='2023-03-15-preview')], last=StrOutputParser())"
      ]
     },
     "execution_count": 26,
     "metadata": {},
     "output_type": "execute_result"
    }
   ],
   "source": [
    "# a chain with a string output parser\n",
    "chain_with_output_parser = prompt | llm | StrOutputParser()\n",
    "chain_with_output_parser"
   ]
  },
  {
   "cell_type": "code",
   "execution_count": 28,
   "id": "4a88a592-2541-4ece-be3e-35b347bd425a",
   "metadata": {},
   "outputs": [
    {
     "data": {
      "text/plain": [
       "'HSBC Holdings plc is a multinational banking and financial services company headquartered in London, United Kingdom. It is one of the largest banking organizations in the world, with a presence in 64 countries and territories, serving more than 40 million customers. HSBC offers a wide range of financial products and services, including retail and commercial banking, wealth management, insurance, and investment banking. The company is committed to sustainability and social responsibility, with initiatives focused on climate change, education, and community development. HSBC is listed on the London, Hong Kong, and New York stock exchanges.'"
      ]
     },
     "execution_count": 28,
     "metadata": {},
     "output_type": "execute_result"
    }
   ],
   "source": [
    "chain_with_output_parser.invoke({\"company_name\": \"HSBC\"})"
   ]
  },
  {
   "cell_type": "markdown",
   "id": "f6feb3b5-e62a-4a58-b0c9-34eca6e5ed77",
   "metadata": {},
   "source": [
    "#### 2. Attaching Function Call information\n",
    "\n",
    "We are not call the function acctually here, we are just using the function specification and let LLM to figure out the input parameter for the function"
   ]
  },
  {
   "cell_type": "code",
   "execution_count": 32,
   "id": "4ddd2a76-be90-4431-9a77-f940a281d910",
   "metadata": {},
   "outputs": [],
   "source": [
    "from langchain.output_parsers.openai_functions import JsonOutputFunctionsParser\n",
    "\n",
    "# functions = [\n",
    "#     {\n",
    "#       \"name\": \"save_description\",\n",
    "#       \"description\": \"save the description for the a company\",\n",
    "#       \"parameters\": {\n",
    "#         \"type\": \"object\",\n",
    "#         \"properties\": {\n",
    "#           \"company_name\": {\n",
    "#             \"type\": \"string\",\n",
    "#             \"description\": \"The name of the company\"\n",
    "#           },\n",
    "#           \"description\": {\n",
    "#             \"type\": \"string\",\n",
    "#             \"description\": \"The description of the company\"\n",
    "#           }\n",
    "#         },\n",
    "#         \"required\": [\"company_name\", \"description\"]\n",
    "#       }\n",
    "#     }\n",
    "#   ]\n",
    "\n",
    "\n",
    "# chain = (\n",
    "#     prompt \n",
    "#     | llm.bind(function_call= {\"name\": \"save_description\"}, functions= functions) \n",
    "#     | JsonOutputFunctionsParser()\n",
    "# )\n",
    "\n",
    "# chain.invoke({\"company_name\": \"HSBC\"})"
   ]
  },
  {
   "cell_type": "markdown",
   "id": "9fb5550b-b588-4fc8-b9c8-a7722a5a24f9",
   "metadata": {},
   "source": [
    "The output should be look like, bue since our OPENAI model at Azure is still the old GPT 3.5 which does not support functional call and it will encounter an error.\n",
    "\n",
    "{ \n",
    "  'company_name' : 'HSBC',\n",
    "  'description' : 'HSBC Holdings plc is a multinational banking and financial services company headquartered in London, United Kingdom. It is one of the largest banking organizations in the world, with a presence in 64 countries and territories, serving more than 40 million customers. HSBC offers a wide range of......'\n",
    "}"
   ]
  },
  {
   "cell_type": "markdown",
   "id": "f2ea1687-60fe-436e-8550-c630ebc937bc",
   "metadata": {},
   "source": [
    "### 3. Runnable in Langchain\n",
    "\n",
    "LangChain Expression Language (LEL) provides a convenient and straightforward approach for writing components in a declarative manner and effortlessly combining them. To gain a better understanding of its functionality, let's examine its runnable interface.\n",
    "\n",
    "LangChain introduces a runnable interface that serves as a blueprint for implementing various components. Subclasses of this interface are required to implement the following functions:\n",
    "- stream: handles streaming output\n",
    "- invoke: processes single input\n",
    "- batch: handles batch input\n",
    "- astream: handles asynchronous streaming\n",
    "- ainvoke: performs asynchronous invocation\n",
    "- abatch: handles asynchronous batch processing"
   ]
  },
  {
   "cell_type": "code",
   "execution_count": 33,
   "id": "1c71f8da-6207-4184-93ca-4d8d7cffea99",
   "metadata": {},
   "outputs": [
    {
     "name": "stdout",
     "output_type": "stream",
     "text": [
      "True\n"
     ]
    }
   ],
   "source": [
    "from langchain.schema.runnable import Runnable\n",
    "\n",
    "# the ChatPromptTemplate implemented Runnable as well\n",
    "print(isinstance(prompt, Runnable))"
   ]
  },
  {
   "cell_type": "code",
   "execution_count": 42,
   "id": "7b45a34a-efb9-404f-beec-0a31edead1a3",
   "metadata": {
    "editable": true,
    "slideshow": {
     "slide_type": ""
    },
    "tags": []
   },
   "outputs": [
    {
     "name": "stdout",
     "output_type": "stream",
     "text": [
      "I recevied input ->  {'company_name': 'HSBC'} \n"
     ]
    },
    {
     "data": {
      "text/plain": [
       "{'company_name': 'HSBC'}"
      ]
     },
     "execution_count": 42,
     "metadata": {},
     "output_type": "execute_result"
    }
   ],
   "source": [
    "# let's write our own component\n",
    "\n",
    "from langchain.load.serializable import Serializable\n",
    "from langchain.schema.runnable import RunnableConfig, RunnablePassthrough\n",
    "from langchain.schema.runnable.base import Input, Runnable, Optional\n",
    "\n",
    "\n",
    "class StdOutputRunnable(Serializable, Runnable[Input, Input]):\n",
    "\n",
    "    @property\n",
    "    def lc_serializable(self) -> bool:\n",
    "        return True\n",
    "\n",
    "    def invoke(self, input: Input, config: Optional[RunnableConfig] = None) -> Input:\n",
    "        print(f\"I recevied input ->  {input} \")\n",
    "        return self._call_with_config(lambda x: x, input, config)\n",
    "\n",
    "\n",
    "runnable_chain =  RunnablePassthrough() | StdOutputRunnable()\n",
    "\n",
    "runnable_chain.invoke({'company_name':'HSBC'})"
   ]
  },
  {
   "cell_type": "code",
   "execution_count": 43,
   "id": "5fe71a39-a042-4004-86d6-7d14ce9fcbc3",
   "metadata": {},
   "outputs": [
    {
     "name": "stdout",
     "output_type": "stream",
     "text": [
      "I recevied input ->  messages=[HumanMessage(content='Show me description for company Alibaba in 100 words.', additional_kwargs={}, example=False)] \n"
     ]
    },
    {
     "data": {
      "text/plain": [
       "AIMessage(content=\"Alibaba Group Holding Limited is a multinational conglomerate founded by Jack Ma in 1999. It is one of the world's largest e-commerce and technology companies, with businesses spanning across e-commerce, cloud computing, digital media, entertainment, and more. Alibaba's main platform, Taobao, is the world's largest online marketplace, while Tmall is China's largest business-to-consumer platform. The company also operates AliExpress, a global online retail platform, and Alipay, a popular mobile payment system. With a strong focus on innovation and technology, Alibaba has become a major player in the global digital economy, serving millions of customers worldwide.\", additional_kwargs={}, example=False)"
      ]
     },
     "execution_count": 43,
     "metadata": {},
     "output_type": "execute_result"
    }
   ],
   "source": [
    "chain = prompt | StdOutputRunnable() | llm\n",
    "\n",
    "chain.invoke({'company_name': 'Alibaba'})"
   ]
  },
  {
   "cell_type": "markdown",
   "id": "f2c817ac-b77a-444f-8221-830e903620c5",
   "metadata": {},
   "source": [
    "#### 4. Retriever"
   ]
  },
  {
   "cell_type": "code",
   "execution_count": 56,
   "id": "c7f15e6d-06f5-44f2-a4c5-b84fa444c2a5",
   "metadata": {
    "editable": true,
    "slideshow": {
     "slide_type": ""
    },
    "tags": []
   },
   "outputs": [],
   "source": [
    "# from langchain.vectorstores import Chroma\n",
    "# from langchain.embeddings import OpenAIEmbeddings\n",
    "# from langchain.schema.runnable import RunnablePassthrough\n",
    "\n",
    "# # create embedding model\n",
    "# embeddings = OpenAIEmbeddings(\n",
    "#     deployment=\"text-embedding-ada-002\",\n",
    "#     model=\"text-embedding-ada-002\"\n",
    "# )\n",
    "\n",
    "# # Create the retriever\n",
    "# vectorstore = Chroma.from_texts([\"harrison worked at kensho\"], embedding=embeddings)\n",
    "# retriever = vectorstore.as_retriever()"
   ]
  },
  {
   "cell_type": "code",
   "execution_count": 57,
   "id": "01dcda21-ca1e-4db0-be82-df5c6d902adf",
   "metadata": {},
   "outputs": [],
   "source": [
    "#!pip install chromadb"
   ]
  },
  {
   "cell_type": "code",
   "execution_count": 47,
   "id": "7cb3a718-65e1-42b5-bb9e-383369144388",
   "metadata": {
    "editable": true,
    "slideshow": {
     "slide_type": ""
    },
    "tags": []
   },
   "outputs": [],
   "source": [
    "!export HNSWLIB_NO_NATIVE=1"
   ]
  },
  {
   "cell_type": "code",
   "execution_count": 53,
   "id": "b710bc01-7c00-43f3-a16e-415370fdf493",
   "metadata": {},
   "outputs": [
    {
     "name": "stdout",
     "output_type": "stream",
     "text": [
      "Requirement already satisfied: setuptools in /Users/qucy/python-env/gpt-all-in-one/lib/python3.11/site-packages (65.5.0)\n",
      "Collecting setuptools\n",
      "  Obtaining dependency information for setuptools from https://files.pythonhosted.org/packages/c7/42/be1c7bbdd83e1bfb160c94b9cafd8e25efc7400346cf7ccdbdb452c467fa/setuptools-68.0.0-py3-none-any.whl.metadata\n",
      "  Using cached setuptools-68.0.0-py3-none-any.whl.metadata (6.4 kB)\n",
      "Using cached setuptools-68.0.0-py3-none-any.whl (804 kB)\n",
      "Installing collected packages: setuptools\n",
      "  Attempting uninstall: setuptools\n",
      "    Found existing installation: setuptools 65.5.0\n",
      "    Uninstalling setuptools-65.5.0:\n",
      "      Successfully uninstalled setuptools-65.5.0\n",
      "Successfully installed setuptools-68.0.0\n"
     ]
    }
   ],
   "source": [
    "!pip install --upgrade setuptools"
   ]
  },
  {
   "cell_type": "code",
   "execution_count": 55,
   "id": "d463ca74-7926-4b3e-af90-b35e60f13419",
   "metadata": {},
   "outputs": [
    {
     "name": "stdout",
     "output_type": "stream",
     "text": [
      "Apple clang version 12.0.0 (clang-1200.0.31.1)\n",
      "Target: x86_64-apple-darwin22.5.0\n",
      "Thread model: posix\n",
      "InstalledDir: /Library/Developer/CommandLineTools/usr/bin\n"
     ]
    }
   ],
   "source": [
    "!clang -v"
   ]
  },
  {
   "cell_type": "code",
   "execution_count": null,
   "id": "cc934d9f-75ce-42bc-9b48-2b27a35ef471",
   "metadata": {},
   "outputs": [],
   "source": []
  }
 ],
 "metadata": {
  "kernelspec": {
   "display_name": "Python 3 (ipykernel)",
   "language": "python",
   "name": "python3"
  },
  "language_info": {
   "codemirror_mode": {
    "name": "ipython",
    "version": 3
   },
   "file_extension": ".py",
   "mimetype": "text/x-python",
   "name": "python",
   "nbconvert_exporter": "python",
   "pygments_lexer": "ipython3",
   "version": "3.11.4"
  }
 },
 "nbformat": 4,
 "nbformat_minor": 5
}
