{
 "cells": [
  {
   "cell_type": "code",
   "execution_count": 1,
   "id": "d5a38578-a23d-40d1-8fa2-6aebedd5535b",
   "metadata": {
    "editable": true,
    "slideshow": {
     "slide_type": ""
    },
    "tags": []
   },
   "outputs": [
    {
     "name": "stdout",
     "output_type": "stream",
     "text": [
      "langchain                0.0.263\n",
      "langchainplus-sdk        0.0.17\n",
      "langsmith                0.0.22\n"
     ]
    }
   ],
   "source": [
    "!pip list | grep lang"
   ]
  },
  {
   "cell_type": "code",
   "execution_count": 2,
   "id": "8086ab46-0c02-4174-b0f9-d78b705d5d45",
   "metadata": {
    "editable": true,
    "slideshow": {
     "slide_type": ""
    },
    "tags": []
   },
   "outputs": [
    {
     "name": "stdout",
     "output_type": "stream",
     "text": [
      "openai                   0.27.8\n"
     ]
    }
   ],
   "source": [
    "!pip list | grep openai"
   ]
  },
  {
   "cell_type": "markdown",
   "id": "2cdaf46d-e6d7-4857-a42b-85bb6427abf3",
   "metadata": {},
   "source": [
    "### LangChain Expression Language\n",
    "In this notebook we will have a try on the latest feature released by langchain, using pipeline to link model, prompt and any function or parser you want.\n",
    "\n",
    "\n",
    "#### 1. Toy example\n",
    "We will first take a look at a simplest example to link a LLM and a prompt. Before we take a look at Langchain expression language, let's take a look at pipe package which support pipe operation in python"
   ]
  },
  {
   "cell_type": "code",
   "execution_count": 3,
   "id": "b4f7eddc-21e2-4e45-aaa2-83a50385a1ef",
   "metadata": {},
   "outputs": [
    {
     "data": {
      "text/plain": [
       "[6, 12]"
      ]
     },
     "execution_count": 3,
     "metadata": {},
     "output_type": "execute_result"
    }
   ],
   "source": [
    "from pipe import select, where\n",
    "\n",
    "numbers = [1, 2, 3, 4, 5]\n",
    "# find even numbers and multiple by 3\n",
    "results = list(numbers |  where(lambda x: x % 2 == 0) | select(lambda x: x * 3))\n",
    "\n",
    "results"
   ]
  },
  {
   "cell_type": "code",
   "execution_count": 4,
   "id": "e67be7fd-1029-4c2c-8818-19ccbebd607f",
   "metadata": {
    "editable": true,
    "slideshow": {
     "slide_type": ""
    },
    "tags": []
   },
   "outputs": [
    {
     "data": {
      "text/plain": [
       "True"
      ]
     },
     "execution_count": 4,
     "metadata": {},
     "output_type": "execute_result"
    }
   ],
   "source": [
    "from langchain.prompts import ChatPromptTemplate\n",
    "from langchain.chat_models import AzureChatOpenAI\n",
    "from langchain.schema.output_parser import StrOutputParser\n",
    "from dotenv import load_dotenv\n",
    "\n",
    "# load env for llm service\n",
    "load_dotenv()"
   ]
  },
  {
   "cell_type": "code",
   "execution_count": 5,
   "id": "e733ccd8-bfbc-449a-9fc9-f88f5d99afcd",
   "metadata": {
    "editable": true,
    "slideshow": {
     "slide_type": ""
    },
    "tags": []
   },
   "outputs": [
    {
     "data": {
      "text/plain": [
       "RunnableSequence(first=ChatPromptTemplate(input_variables=['company_name'], output_parser=None, partial_variables={}, messages=[HumanMessagePromptTemplate(prompt=PromptTemplate(input_variables=['company_name'], output_parser=None, partial_variables={}, template='Show me description for company {company_name} in 100 words.', template_format='f-string', validate_template=True), additional_kwargs={})]), middle=[], last=AzureChatOpenAI(cache=None, verbose=False, callbacks=None, callback_manager=None, tags=None, metadata=None, client=<class 'openai.api_resources.chat_completion.ChatCompletion'>, model_name='gpt-35-turbo', temperature=0.7, model_kwargs={}, openai_api_key='d2d65893138c46d39ffe1d69f52eda88', openai_api_base='https://qucy-openai-test.openai.azure.com/', openai_organization='', openai_proxy='', request_timeout=None, max_retries=6, streaming=False, n=1, max_tokens=None, tiktoken_model_name=None, deployment_name='chatGPTAzure', model_version='', openai_api_type='azure', openai_api_version='2023-03-15-preview'))"
      ]
     },
     "execution_count": 5,
     "metadata": {},
     "output_type": "execute_result"
    }
   ],
   "source": [
    "# create llm\n",
    "llm = AzureChatOpenAI(deployment_name='chatGPTAzure', model='gpt-35-turbo')\n",
    "\n",
    "# create prompt template\n",
    "prompt = ChatPromptTemplate.from_template(\"Show me description for company {company_name} in 100 words.\")\n",
    "\n",
    "# chain model and prompt\n",
    "chain = prompt | llm\n",
    "\n",
    "chain"
   ]
  },
  {
   "cell_type": "code",
   "execution_count": 6,
   "id": "46abfede-fc16-4bd6-aa21-b4facb797302",
   "metadata": {
    "editable": true,
    "slideshow": {
     "slide_type": ""
    },
    "tags": []
   },
   "outputs": [
    {
     "data": {
      "text/plain": [
       "AIMessage(content=\"HSBC Holdings plc is a British multinational investment bank and financial services holding company. It was founded in 1865 and has since grown to become one of the world's largest banking and financial services organizations with operations in over 60 countries. HSBC provides a range of financial products and services such as personal and business banking, wealth management, corporate and investment banking, and global markets. The company is committed to sustainability and aims to help its customers and communities to thrive, while also managing its operations in a responsible and sustainable way. HSBC is headquartered in London, UK.\", additional_kwargs={}, example=False)"
      ]
     },
     "execution_count": 6,
     "metadata": {},
     "output_type": "execute_result"
    }
   ],
   "source": [
    "chain.invoke({\"company_name\": \"HSBC\"})"
   ]
  },
  {
   "cell_type": "code",
   "execution_count": 7,
   "id": "83148b9e-db97-4bbe-9515-8cc5e36afc6c",
   "metadata": {},
   "outputs": [
    {
     "data": {
      "text/plain": [
       "RunnableSequence(first=ChatPromptTemplate(input_variables=['company_name'], output_parser=None, partial_variables={}, messages=[HumanMessagePromptTemplate(prompt=PromptTemplate(input_variables=['company_name'], output_parser=None, partial_variables={}, template='Show me description for company {company_name} in 100 words.', template_format='f-string', validate_template=True), additional_kwargs={})]), middle=[AzureChatOpenAI(cache=None, verbose=False, callbacks=None, callback_manager=None, tags=None, metadata=None, client=<class 'openai.api_resources.chat_completion.ChatCompletion'>, model_name='gpt-35-turbo', temperature=0.7, model_kwargs={}, openai_api_key='d2d65893138c46d39ffe1d69f52eda88', openai_api_base='https://qucy-openai-test.openai.azure.com/', openai_organization='', openai_proxy='', request_timeout=None, max_retries=6, streaming=False, n=1, max_tokens=None, tiktoken_model_name=None, deployment_name='chatGPTAzure', model_version='', openai_api_type='azure', openai_api_version='2023-03-15-preview')], last=StrOutputParser())"
      ]
     },
     "execution_count": 7,
     "metadata": {},
     "output_type": "execute_result"
    }
   ],
   "source": [
    "# a chain with a string output parser\n",
    "chain_with_output_parser = prompt | llm | StrOutputParser()\n",
    "chain_with_output_parser"
   ]
  },
  {
   "cell_type": "code",
   "execution_count": 8,
   "id": "4a88a592-2541-4ece-be3e-35b347bd425a",
   "metadata": {},
   "outputs": [
    {
     "data": {
      "text/plain": [
       "\"HSBC is a multinational banking and financial services company headquartered in London, United Kingdom. With a history dating back to 1865, HSBC is one of the world's largest banks, operating in over 65 countries with a network of over 3,900 branches. The company provides a range of financial services to individuals, businesses, and institutions, including commercial banking, retail banking, wealth management, and investment banking. HSBC is committed to sustainable finance and is a leader in environmental, social, and governance (ESG) investing. The company also supports a range of community initiatives and charitable organizations around the world.\""
      ]
     },
     "execution_count": 8,
     "metadata": {},
     "output_type": "execute_result"
    }
   ],
   "source": [
    "chain_with_output_parser.invoke({\"company_name\": \"HSBC\"})"
   ]
  },
  {
   "cell_type": "markdown",
   "id": "f6feb3b5-e62a-4a58-b0c9-34eca6e5ed77",
   "metadata": {},
   "source": [
    "#### 2. Attaching Function Call information\n",
    "\n",
    "We are not call the function acctually here, we are just using the function specification and let LLM to figure out the input parameter for the function"
   ]
  },
  {
   "cell_type": "code",
   "execution_count": 32,
   "id": "4ddd2a76-be90-4431-9a77-f940a281d910",
   "metadata": {},
   "outputs": [],
   "source": [
    "from langchain.output_parsers.openai_functions import JsonOutputFunctionsParser\n",
    "\n",
    "# functions = [\n",
    "#     {\n",
    "#       \"name\": \"save_description\",\n",
    "#       \"description\": \"save the description for the a company\",\n",
    "#       \"parameters\": {\n",
    "#         \"type\": \"object\",\n",
    "#         \"properties\": {\n",
    "#           \"company_name\": {\n",
    "#             \"type\": \"string\",\n",
    "#             \"description\": \"The name of the company\"\n",
    "#           },\n",
    "#           \"description\": {\n",
    "#             \"type\": \"string\",\n",
    "#             \"description\": \"The description of the company\"\n",
    "#           }\n",
    "#         },\n",
    "#         \"required\": [\"company_name\", \"description\"]\n",
    "#       }\n",
    "#     }\n",
    "#   ]\n",
    "\n",
    "\n",
    "# chain = (\n",
    "#     prompt \n",
    "#     | llm.bind(function_call= {\"name\": \"save_description\"}, functions= functions) \n",
    "#     | JsonOutputFunctionsParser()\n",
    "# )\n",
    "\n",
    "# chain.invoke({\"company_name\": \"HSBC\"})"
   ]
  },
  {
   "cell_type": "markdown",
   "id": "9fb5550b-b588-4fc8-b9c8-a7722a5a24f9",
   "metadata": {},
   "source": [
    "The output should be look like, bue since our OPENAI model at Azure is still the old GPT 3.5 which does not support functional call and it will encounter an error.\n",
    "\n",
    "{ \n",
    "  'company_name' : 'HSBC',\n",
    "  'description' : 'HSBC Holdings plc is a multinational banking and financial services company headquartered in London, United Kingdom. It is one of the largest banking organizations in the world, with a presence in 64 countries and territories, serving more than 40 million customers. HSBC offers a wide range of......'\n",
    "}"
   ]
  },
  {
   "cell_type": "markdown",
   "id": "f2ea1687-60fe-436e-8550-c630ebc937bc",
   "metadata": {},
   "source": [
    "### 3. Runnable in Langchain\n",
    "\n",
    "LangChain Expression Language (LEL) provides a convenient and straightforward approach for writing components in a declarative manner and effortlessly combining them. To gain a better understanding of its functionality, let's examine its runnable interface.\n",
    "\n",
    "LangChain introduces a runnable interface that serves as a blueprint for implementing various components. Subclasses of this interface are required to implement the following functions:\n",
    "- stream: handles streaming output\n",
    "- invoke: processes single input\n",
    "- batch: handles batch input\n",
    "- astream: handles asynchronous streaming\n",
    "- ainvoke: performs asynchronous invocation\n",
    "- abatch: handles asynchronous batch processing"
   ]
  },
  {
   "cell_type": "code",
   "execution_count": 9,
   "id": "1c71f8da-6207-4184-93ca-4d8d7cffea99",
   "metadata": {},
   "outputs": [
    {
     "name": "stdout",
     "output_type": "stream",
     "text": [
      "True\n"
     ]
    }
   ],
   "source": [
    "from langchain.schema.runnable import Runnable\n",
    "\n",
    "# the ChatPromptTemplate implemented Runnable as well\n",
    "print(isinstance(prompt, Runnable))"
   ]
  },
  {
   "cell_type": "code",
   "execution_count": 10,
   "id": "7b45a34a-efb9-404f-beec-0a31edead1a3",
   "metadata": {
    "editable": true,
    "slideshow": {
     "slide_type": ""
    },
    "tags": []
   },
   "outputs": [
    {
     "name": "stdout",
     "output_type": "stream",
     "text": [
      "I recevied input ->  {'company_name': 'HSBC'} \n"
     ]
    },
    {
     "data": {
      "text/plain": [
       "{'company_name': 'HSBC'}"
      ]
     },
     "execution_count": 10,
     "metadata": {},
     "output_type": "execute_result"
    }
   ],
   "source": [
    "# let's write our own component\n",
    "\n",
    "from langchain.load.serializable import Serializable\n",
    "from langchain.schema.runnable import RunnableConfig, RunnablePassthrough\n",
    "from langchain.schema.runnable.base import Input, Runnable, Optional\n",
    "\n",
    "\n",
    "class StdOutputRunnable(Serializable, Runnable[Input, Input]):\n",
    "\n",
    "    @property\n",
    "    def lc_serializable(self) -> bool:\n",
    "        return True\n",
    "\n",
    "    def invoke(self, input: Input, config: Optional[RunnableConfig] = None) -> Input:\n",
    "        print(f\"I recevied input ->  {input} \")\n",
    "        return self._call_with_config(lambda x: x, input, config)\n",
    "\n",
    "\n",
    "runnable_chain =  RunnablePassthrough() | StdOutputRunnable()\n",
    "\n",
    "runnable_chain.invoke({'company_name':'HSBC'})"
   ]
  },
  {
   "cell_type": "code",
   "execution_count": 11,
   "id": "5fe71a39-a042-4004-86d6-7d14ce9fcbc3",
   "metadata": {},
   "outputs": [
    {
     "name": "stdout",
     "output_type": "stream",
     "text": [
      "I recevied input ->  messages=[HumanMessage(content='Show me description for company Alibaba in 100 words.', additional_kwargs={}, example=False)] \n"
     ]
    },
    {
     "data": {
      "text/plain": [
       "AIMessage(content=\"Alibaba Group Holding Limited is a Chinese multinational technology company that specializes in e-commerce, retail, internet, and technology. Founded in 1999 by Jack Ma, Alibaba has grown to become one of the largest companies in the world, with operations in over 200 countries and regions. The company's platforms include Taobao, Tmall, AliExpress, and Alibaba.com, which offer a range of services, including online marketplaces, payment systems, cloud computing, and digital media. Alibaba's mission is to make it easy for businesses to do business anywhere, and it has played a significant role in driving the growth of e-commerce in China and beyond.\", additional_kwargs={}, example=False)"
      ]
     },
     "execution_count": 11,
     "metadata": {},
     "output_type": "execute_result"
    }
   ],
   "source": [
    "chain = prompt | StdOutputRunnable() | llm\n",
    "\n",
    "chain.invoke({'company_name': 'Alibaba'})"
   ]
  },
  {
   "cell_type": "markdown",
   "id": "f2c817ac-b77a-444f-8221-830e903620c5",
   "metadata": {},
   "source": [
    "#### 4. Retriever"
   ]
  },
  {
   "cell_type": "code",
   "execution_count": 13,
   "id": "c7f15e6d-06f5-44f2-a4c5-b84fa444c2a5",
   "metadata": {
    "editable": true,
    "slideshow": {
     "slide_type": ""
    },
    "tags": []
   },
   "outputs": [],
   "source": [
    "from langchain.vectorstores import Chroma\n",
    "from langchain.embeddings import OpenAIEmbeddings\n",
    "from langchain.schema.runnable import RunnablePassthrough\n",
    "\n",
    "# create embedding model\n",
    "embeddings = OpenAIEmbeddings(\n",
    "    deployment=\"text-embedding-ada-002\",\n",
    "    model=\"text-embedding-ada-002\"\n",
    ")\n",
    "\n",
    "# Create the retriever\n",
    "vectorstore = Chroma.from_texts([\"harrison worked at kensho\"], embedding=embeddings)\n",
    "retriever = vectorstore.as_retriever()\n",
    "\n",
    "template = \"\"\"Answer the question based only on the following context:\n",
    "{context}\n",
    "\n",
    "Question: {question}\n",
    "\"\"\"\n",
    "prompt = ChatPromptTemplate.from_template(template)\n",
    "\n",
    "chain = (\n",
    "    {\"context\": retriever, \"question\": RunnablePassthrough()} \n",
    "    | prompt \n",
    "    | llm \n",
    "    | StrOutputParser()\n",
    ")"
   ]
  },
  {
   "cell_type": "code",
   "execution_count": 14,
   "id": "01dcda21-ca1e-4db0-be82-df5c6d902adf",
   "metadata": {},
   "outputs": [
    {
     "name": "stderr",
     "output_type": "stream",
     "text": [
      "Number of requested results 4 is greater than number of elements in index 2, updating n_results = 2\n"
     ]
    },
    {
     "data": {
      "text/plain": [
       "'Harrison worked at Kensho.'"
      ]
     },
     "execution_count": 14,
     "metadata": {},
     "output_type": "execute_result"
    }
   ],
   "source": [
    "chain.invoke(\"where did harrison work?\")"
   ]
  },
  {
   "cell_type": "code",
   "execution_count": null,
   "id": "cc934d9f-75ce-42bc-9b48-2b27a35ef471",
   "metadata": {},
   "outputs": [],
   "source": []
  }
 ],
 "metadata": {
  "kernelspec": {
   "display_name": "Python 3 (ipykernel)",
   "language": "python",
   "name": "python3"
  },
  "language_info": {
   "codemirror_mode": {
    "name": "ipython",
    "version": 3
   },
   "file_extension": ".py",
   "mimetype": "text/x-python",
   "name": "python",
   "nbconvert_exporter": "python",
   "pygments_lexer": "ipython3",
   "version": "3.11.4"
  }
 },
 "nbformat": 4,
 "nbformat_minor": 5
}
