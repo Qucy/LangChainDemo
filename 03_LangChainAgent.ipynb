{
 "cells": [
  {
   "cell_type": "code",
   "execution_count": 1,
   "id": "df8eacac-da36-4dd0-b6b5-ef73b0c9eae6",
   "metadata": {},
   "outputs": [],
   "source": [
    "import os\n",
    "import requests\n",
    "import json\n",
    "from langchain.llms import AzureOpenAI\n",
    "from langchain.prompts import PromptTemplate\n",
    "from langchain.chains import LLMChain\n",
    "from langchain.agents import load_tools, initialize_agent, create_sql_agent, AgentType\n",
    "from langchain.agents.agent_toolkits import SQLDatabaseToolkit\n",
    "from langchain.memory import ConversationBufferWindowMemory\n",
    "from langchain.sql_database import SQLDatabase\n",
    "\n",
    "os.environ['OPENAI_API_KEY'] = os.getenv('OPENAI_API_KEY')\n",
    "os.environ[\"OPENAI_API_BASE\"] = \"https://qucy-openai-test.openai.azure.com/\"\n",
    "os.environ[\"OPENAI_API_TYPE\"] = \"azure\"\n",
    "os.environ[\"OPENAI_API_VERSION\"] = \"2023-03-15-preview\"\n",
    "os.environ[\"SERPAPI_API_KEY\"] = os.getenv('SERPAPI_API_KEY')\n",
    "\n",
    "\n",
    "# create large language model service\n",
    "llm = AzureOpenAI(deployment_name=\"text-davinci-003\", model_name=\"text-davinci-003\")"
   ]
  },
  {
   "cell_type": "code",
   "execution_count": 2,
   "id": "443180f0-b3ca-411c-9413-670b9b6ff24e",
   "metadata": {},
   "outputs": [
    {
     "data": {
      "text/plain": [
       "' \\n\\nHey there! Not much, just chillin. How about you?'"
      ]
     },
     "execution_count": 2,
     "metadata": {},
     "output_type": "execute_result"
    }
   ],
   "source": [
    "llm(\"Hey what's up ?\")"
   ]
  },
  {
   "cell_type": "markdown",
   "id": "b9143a85-4c11-40d2-89df-bc89f7bbcc32",
   "metadata": {},
   "source": [
    "## 1. Use GPT+ Agent to query customer data (transaction data)\n",
    "\n",
    "### Given below transaction table, we can use natural language to query below table\n",
    "\n",
    "<img src=\"./credit_card_transaction_table.png\" alt=\"Credit Card Transaction Table\" width=\"1800\"/>"
   ]
  },
  {
   "cell_type": "code",
   "execution_count": 10,
   "id": "e4112ee7-ecc9-4a2e-a868-8c8b103a2f7a",
   "metadata": {},
   "outputs": [
    {
     "name": "stdout",
     "output_type": "stream",
     "text": [
      "\n",
      "\n",
      "\u001b[1m> Entering new AgentExecutor chain...\u001b[0m\n",
      "\u001b[32;1m\u001b[1;3mAction: list_tables_sql_db\n",
      "Action Input: \u001b[0m\n",
      "Observation: \u001b[38;5;200m\u001b[1;3msqlite_sequence, credit_card_transactions, stocks\u001b[0m\n",
      "Thought:\u001b[32;1m\u001b[1;3m I should check the schema of the credit_card_transactions table to see what columns it has.\n",
      "Action: schema_sql_db\n",
      "Action Input: credit_card_transactions\u001b[0m\n",
      "Observation: \u001b[33;1m\u001b[1;3m\n",
      "CREATE TABLE credit_card_transactions (\n",
      "\tid INTEGER, \n",
      "\ttransaction_date DATE NOT NULL, \n",
      "\tcategory VARCHAR(255) NOT NULL, \n",
      "\tdescription VARCHAR(255), \n",
      "\tamount FLOAT NOT NULL, \n",
      "\ttransaction_type VARCHAR(255) NOT NULL, \n",
      "\tcard_number VARCHAR(16) NOT NULL, \n",
      "\tcredit_limit FLOAT NOT NULL, \n",
      "\tavailable_credit FLOAT NOT NULL, \n",
      "\tdue_date DATE NOT NULL, \n",
      "\trewards_points INTEGER NOT NULL, \n",
      "\tinterest_rate FLOAT NOT NULL, \n",
      "\tfee FLOAT NOT NULL, \n",
      "\tPRIMARY KEY (id)\n",
      ")\n",
      "\n",
      "/*\n",
      "3 rows from credit_card_transactions table:\n",
      "id\ttransaction_date\tcategory\tdescription\tamount\ttransaction_type\tcard_number\tcredit_limit\tavailable_credit\tdue_date\trewards_points\tinterest_rate\tfee\n",
      "1\t2023-04-01\tgroceries\tGrocery Store\t50.0000000000\tpurchase\t1234567890123456\t1000.0000000000\t950.0000000000\t2023-05-01\t25\t0E-10\t0E-10\n",
      "2\t2023-04-05\tgas\tGas Station\t30.0000000000\tpurchase\t1234567890123456\t1000.0000000000\t920.0000000000\t2023-05-01\t15\t0E-10\t0E-10\n",
      "3\t2023-04-10\tdining out\tRestaurant\t20.0000000000\tpurchase\t1234567890123456\t1000.0000000000\t900.0000000000\t2023-05-01\t10\t0E-10\t0E-10\n",
      "*/\u001b[0m\n",
      "Thought:\u001b[32;1m\u001b[1;3m I should query the credit_card_transactions table for the most recent available credit limit.\n",
      "Action: query_sql_db\n",
      "Action Input: SELECT available_credit FROM credit_card_transactions ORDER BY transaction_date DESC LIMIT 1\u001b[0m\n",
      "Observation: \u001b[36;1m\u001b[1;3m[(1150.0,)]\u001b[0m\n",
      "Thought:\u001b[32;1m\u001b[1;3m I now know the final answer\n",
      "Final Answer: Your latest available credit limit is 1150.0.\u001b[0m\n",
      "\n",
      "\u001b[1m> Finished chain.\u001b[0m\n"
     ]
    },
    {
     "data": {
      "text/plain": [
       "'Your latest available credit limit is 1150.0.'"
      ]
     },
     "execution_count": 10,
     "metadata": {},
     "output_type": "execute_result"
    }
   ],
   "source": [
    "db = SQLDatabase.from_uri(\"sqlite:////mnt/disk1/python-projects/LangChainDemo/demo.db\")\n",
    "toolkit = SQLDatabaseToolkit(db=db, llm=llm)\n",
    "\n",
    "# create agent\n",
    "database_agent = create_sql_agent(llm=llm, toolkit=toolkit, verbose=True)\n",
    "\n",
    "# run agent\n",
    "database_agent.run(\"What is my latest available credit limit ?\")"
   ]
  },
  {
   "cell_type": "code",
   "execution_count": 11,
   "id": "7558d820-5eba-40fa-845a-2157e76fcad5",
   "metadata": {},
   "outputs": [
    {
     "name": "stdout",
     "output_type": "stream",
     "text": [
      "\n",
      "\n",
      "\u001b[1m> Entering new AgentExecutor chain...\u001b[0m\n",
      "\u001b[32;1m\u001b[1;3mAction: list_tables_sql_db\n",
      "Action Input: \"\"\u001b[0m\n",
      "Observation: \u001b[38;5;200m\u001b[1;3msqlite_sequence, credit_card_transactions, stocks\u001b[0m\n",
      "Thought:\u001b[32;1m\u001b[1;3m I need to look at the credit_card_transactions table.\n",
      "Action: schema_sql_db\n",
      "Action Input: \"credit_card_transactions\"\u001b[0m\n",
      "Observation: \u001b[33;1m\u001b[1;3m\n",
      "CREATE TABLE credit_card_transactions (\n",
      "\tid INTEGER, \n",
      "\ttransaction_date DATE NOT NULL, \n",
      "\tcategory VARCHAR(255) NOT NULL, \n",
      "\tdescription VARCHAR(255), \n",
      "\tamount FLOAT NOT NULL, \n",
      "\ttransaction_type VARCHAR(255) NOT NULL, \n",
      "\tcard_number VARCHAR(16) NOT NULL, \n",
      "\tcredit_limit FLOAT NOT NULL, \n",
      "\tavailable_credit FLOAT NOT NULL, \n",
      "\tdue_date DATE NOT NULL, \n",
      "\trewards_points INTEGER NOT NULL, \n",
      "\tinterest_rate FLOAT NOT NULL, \n",
      "\tfee FLOAT NOT NULL, \n",
      "\tPRIMARY KEY (id)\n",
      ")\n",
      "\n",
      "/*\n",
      "3 rows from credit_card_transactions table:\n",
      "id\ttransaction_date\tcategory\tdescription\tamount\ttransaction_type\tcard_number\tcredit_limit\tavailable_credit\tdue_date\trewards_points\tinterest_rate\tfee\n",
      "1\t2023-04-01\tgroceries\tGrocery Store\t50.0000000000\tpurchase\t1234567890123456\t1000.0000000000\t950.0000000000\t2023-05-01\t25\t0E-10\t0E-10\n",
      "2\t2023-04-05\tgas\tGas Station\t30.0000000000\tpurchase\t1234567890123456\t1000.0000000000\t920.0000000000\t2023-05-01\t15\t0E-10\t0E-10\n",
      "3\t2023-04-10\tdining out\tRestaurant\t20.0000000000\tpurchase\t1234567890123456\t1000.0000000000\t900.0000000000\t2023-05-01\t10\t0E-10\t0E-10\n",
      "*/\u001b[0m\n",
      "Thought:\u001b[32;1m\u001b[1;3m I can query for the total spending in April 2023.\n",
      "Action: query_sql_db\n",
      "Action Input: SELECT SUM(amount) FROM credit_card_transactions WHERE transaction_date BETWEEN '2023-04-01' AND '2023-04-30';\u001b[0m\n",
      "Observation: \u001b[36;1m\u001b[1;3m[(550.0,)]\u001b[0m\n",
      "Thought:\u001b[32;1m\u001b[1;3m I now know the final answer.\n",
      "Final Answer: Your total spending in April 2023 was 550.0.\u001b[0m\n",
      "\n",
      "\u001b[1m> Finished chain.\u001b[0m\n"
     ]
    },
    {
     "data": {
      "text/plain": [
       "'Your total spending in April 2023 was 550.0.'"
      ]
     },
     "execution_count": 11,
     "metadata": {},
     "output_type": "execute_result"
    }
   ],
   "source": [
    "database_agent.run(\"What was my total spending in 2023 April ?\")"
   ]
  },
  {
   "cell_type": "code",
   "execution_count": 12,
   "id": "df4bd124-e28a-4cfa-b0d4-8d80ce46f219",
   "metadata": {},
   "outputs": [
    {
     "name": "stdout",
     "output_type": "stream",
     "text": [
      "\n",
      "\n",
      "\u001b[1m> Entering new AgentExecutor chain...\u001b[0m\n",
      "\u001b[32;1m\u001b[1;3mAction: list_tables_sql_db\n",
      "Action Input: \"\"\u001b[0m\n",
      "Observation: \u001b[38;5;200m\u001b[1;3msqlite_sequence, credit_card_transactions, stocks\u001b[0m\n",
      "Thought:\u001b[32;1m\u001b[1;3m I need to look at the schema of the credit_card_transactions table to see what columns I can use in my query\n",
      "Action: schema_sql_db\n",
      "Action Input: \"credit_card_transactions\"\u001b[0m\n",
      "Observation: \u001b[33;1m\u001b[1;3m\n",
      "CREATE TABLE credit_card_transactions (\n",
      "\tid INTEGER, \n",
      "\ttransaction_date DATE NOT NULL, \n",
      "\tcategory VARCHAR(255) NOT NULL, \n",
      "\tdescription VARCHAR(255), \n",
      "\tamount FLOAT NOT NULL, \n",
      "\ttransaction_type VARCHAR(255) NOT NULL, \n",
      "\tcard_number VARCHAR(16) NOT NULL, \n",
      "\tcredit_limit FLOAT NOT NULL, \n",
      "\tavailable_credit FLOAT NOT NULL, \n",
      "\tdue_date DATE NOT NULL, \n",
      "\trewards_points INTEGER NOT NULL, \n",
      "\tinterest_rate FLOAT NOT NULL, \n",
      "\tfee FLOAT NOT NULL, \n",
      "\tPRIMARY KEY (id)\n",
      ")\n",
      "\n",
      "/*\n",
      "3 rows from credit_card_transactions table:\n",
      "id\ttransaction_date\tcategory\tdescription\tamount\ttransaction_type\tcard_number\tcredit_limit\tavailable_credit\tdue_date\trewards_points\tinterest_rate\tfee\n",
      "1\t2023-04-01\tgroceries\tGrocery Store\t50.0000000000\tpurchase\t1234567890123456\t1000.0000000000\t950.0000000000\t2023-05-01\t25\t0E-10\t0E-10\n",
      "2\t2023-04-05\tgas\tGas Station\t30.0000000000\tpurchase\t1234567890123456\t1000.0000000000\t920.0000000000\t2023-05-01\t15\t0E-10\t0E-10\n",
      "3\t2023-04-10\tdining out\tRestaurant\t20.0000000000\tpurchase\t1234567890123456\t1000.0000000000\t900.0000000000\t2023-05-01\t10\t0E-10\t0E-10\n",
      "*/\u001b[0m\n",
      "Thought:\u001b[32;1m\u001b[1;3m I can use the category column in my query to group the transactions by category\n",
      "Action: query_sql_db\n",
      "Action Input: SELECT category, SUM(amount) FROM credit_card_transactions GROUP BY category ORDER BY SUM(amount) DESC LIMIT 10;\u001b[0m\n",
      "Observation: \u001b[36;1m\u001b[1;3m[('payment', 200.0), ('disputed charge', 150.0), ('suspicious activity', 100.0), ('groceries', 50.0), ('gas', 30.0), ('dining out', 20.0), ('rewards', 0.0), ('interest', 0.0)]\u001b[0m\n",
      "Thought:\u001b[32;1m\u001b[1;3m I now know the final answer\n",
      "Final Answer: The breakdown of your credit card by category is: payment (200.0), disputed charge (150.0), suspicious activity (100.0), groceries (50.0), gas (30.0), dining out (20.0), rewards (0.0) and interest (0.0).\u001b[0m\n",
      "\n",
      "\u001b[1m> Finished chain.\u001b[0m\n"
     ]
    },
    {
     "data": {
      "text/plain": [
       "'The breakdown of your credit card by category is: payment (200.0), disputed charge (150.0), suspicious activity (100.0), groceries (50.0), gas (30.0), dining out (20.0), rewards (0.0) and interest (0.0).'"
      ]
     },
     "execution_count": 12,
     "metadata": {},
     "output_type": "execute_result"
    }
   ],
   "source": [
    "database_agent.run(\"Can you show me a breakdown of my credit card by category ?\")"
   ]
  },
  {
   "cell_type": "code",
   "execution_count": 13,
   "id": "bd4770c3-76d1-4fe5-bf1e-4e93eabd6c39",
   "metadata": {},
   "outputs": [
    {
     "name": "stdout",
     "output_type": "stream",
     "text": [
      "\n",
      "\n",
      "\u001b[1m> Entering new AgentExecutor chain...\u001b[0m\n",
      "\u001b[32;1m\u001b[1;3mAction: list_tables_sql_db\n",
      "Action Input: \"\"\u001b[0m\n",
      "Observation: \u001b[38;5;200m\u001b[1;3msqlite_sequence, credit_card_transactions, stocks\u001b[0m\n",
      "Thought:\u001b[32;1m\u001b[1;3m I need to see the schema of the credit_card_transactions table to know what I can query for\n",
      "Action: schema_sql_db\n",
      "Action Input: \"credit_card_transactions\"\u001b[0m\n",
      "Observation: \u001b[33;1m\u001b[1;3m\n",
      "CREATE TABLE credit_card_transactions (\n",
      "\tid INTEGER, \n",
      "\ttransaction_date DATE NOT NULL, \n",
      "\tcategory VARCHAR(255) NOT NULL, \n",
      "\tdescription VARCHAR(255), \n",
      "\tamount FLOAT NOT NULL, \n",
      "\ttransaction_type VARCHAR(255) NOT NULL, \n",
      "\tcard_number VARCHAR(16) NOT NULL, \n",
      "\tcredit_limit FLOAT NOT NULL, \n",
      "\tavailable_credit FLOAT NOT NULL, \n",
      "\tdue_date DATE NOT NULL, \n",
      "\trewards_points INTEGER NOT NULL, \n",
      "\tinterest_rate FLOAT NOT NULL, \n",
      "\tfee FLOAT NOT NULL, \n",
      "\tPRIMARY KEY (id)\n",
      ")\n",
      "\n",
      "/*\n",
      "3 rows from credit_card_transactions table:\n",
      "id\ttransaction_date\tcategory\tdescription\tamount\ttransaction_type\tcard_number\tcredit_limit\tavailable_credit\tdue_date\trewards_points\tinterest_rate\tfee\n",
      "1\t2023-04-01\tgroceries\tGrocery Store\t50.0000000000\tpurchase\t1234567890123456\t1000.0000000000\t950.0000000000\t2023-05-01\t25\t0E-10\t0E-10\n",
      "2\t2023-04-05\tgas\tGas Station\t30.0000000000\tpurchase\t1234567890123456\t1000.0000000000\t920.0000000000\t2023-05-01\t15\t0E-10\t0E-10\n",
      "3\t2023-04-10\tdining out\tRestaurant\t20.0000000000\tpurchase\t1234567890123456\t1000.0000000000\t900.0000000000\t2023-05-01\t10\t0E-10\t0E-10\n",
      "*/\u001b[0m\n",
      "Thought:\u001b[32;1m\u001b[1;3m I can now query the credit_card_transactions table to find the fees or interest charged on my credit card on 2023 April\n",
      "Action: query_sql_db\n",
      "Action Input: SELECT transaction_date, fee, interest_rate FROM credit_card_transactions WHERE transaction_date LIKE '2023-04-%' LIMIT 10\u001b[0m\n",
      "Observation: \u001b[36;1m\u001b[1;3m[('2023-04-01', 0.0, 0.0), ('2023-04-05', 0.0, 0.0), ('2023-04-10', 0.0, 0.0), ('2023-04-15', 0.0, 18.0), ('2023-04-20', 0.0, 0.0), ('2023-04-25', 0.0, 0.0), ('2023-04-30', 0.0, 0.0)]\u001b[0m\n",
      "Thought:\u001b[32;1m\u001b[1;3m I now know the final answer\n",
      "Final Answer: On 2023 April, the fees or interest charged on my credit card were 0.0 for the majority of the month, with the exception of the 15th, when the interest rate was 18.0.\u001b[0m\n",
      "\n",
      "\u001b[1m> Finished chain.\u001b[0m\n"
     ]
    },
    {
     "data": {
      "text/plain": [
       "'On 2023 April, the fees or interest charged on my credit card were 0.0 for the majority of the month, with the exception of the 15th, when the interest rate was 18.0.'"
      ]
     },
     "execution_count": 13,
     "metadata": {},
     "output_type": "execute_result"
    }
   ],
   "source": [
    "database_agent.run(\"What were the fees or interest charged on my credit card on 2023 April ?\")"
   ]
  },
  {
   "cell_type": "markdown",
   "id": "56acc547-dcab-40e5-b76c-13020f9b04c3",
   "metadata": {},
   "source": [
    "## 2. Use GPT+Agent to query latest financial market data (public stock price /other foreign exchange info in real-time)"
   ]
  },
  {
   "cell_type": "code",
   "execution_count": 58,
   "id": "7ba7cad6-3f23-4eb2-b155-c42828e9f3a9",
   "metadata": {},
   "outputs": [],
   "source": [
    "tools = load_tools([\"serpapi\"], llm=llm)\n",
    "\n",
    "search_agent = initialize_agent(tools, llm, agent=AgentType.ZERO_SHOT_REACT_DESCRIPTION, verbose=True, max_iterations=3)"
   ]
  },
  {
   "cell_type": "code",
   "execution_count": 56,
   "id": "ed2c78c7-5ca5-413b-9847-032c9625b5e5",
   "metadata": {},
   "outputs": [
    {
     "name": "stdout",
     "output_type": "stream",
     "text": [
      "\n",
      "\n",
      "\u001b[1m> Entering new AgentExecutor chain...\u001b[0m\n",
      "\u001b[32;1m\u001b[1;3m I need to find out the current stock price of Apple Inc\n",
      "Action: Search\n",
      "Action Input: \"Apple Inc stock price today\"\u001b[0m\n",
      "Observation: \u001b[36;1m\u001b[1;3mApple Inc. is an American multinational technology company headquartered in Cupertino, California. Apple is the world's largest technology company by revenue, with US$394.3 billion in 2022 revenue. As of March 2023, Apple is the world's biggest company by market capitalization.\u001b[0m\n",
      "Thought:\u001b[32;1m\u001b[1;3m I can find the current stock price of Apple Inc on a financial website\n",
      "Action: Search\n",
      "Action Input: \"Apple Inc stock price today\" financial website\u001b[0m\n",
      "Observation: \u001b[36;1m\u001b[1;3mStock Quote: NASDAQ: AAPL ; Day's Open173.16 ; Closing Price172.07 ; Volume37.2 ; Intraday High173.21 ; Intraday Low171.47.\u001b[0m\n",
      "Thought:\u001b[32;1m\u001b[1;3m I now know the final answer\n",
      "Final Answer: As of March 2023, Apple Inc's stock price is 172.07.\u001b[0m\n",
      "\n",
      "\u001b[1m> Finished chain.\u001b[0m\n"
     ]
    },
    {
     "data": {
      "text/plain": [
       "\"As of March 2023, Apple Inc's stock price is 172.07.\""
      ]
     },
     "execution_count": 56,
     "metadata": {},
     "output_type": "execute_result"
    }
   ],
   "source": [
    "search_agent.run(\"Apple Inc today's stock price ?\")"
   ]
  },
  {
   "cell_type": "code",
   "execution_count": 57,
   "id": "26c08ddd-678f-47fa-b6ed-9e0186739357",
   "metadata": {},
   "outputs": [
    {
     "name": "stdout",
     "output_type": "stream",
     "text": [
      "\n",
      "\n",
      "\u001b[1m> Entering new AgentExecutor chain...\u001b[0m\n",
      "\u001b[32;1m\u001b[1;3m I need to find out what the exchange rate is between HKD and USD\n",
      "Action: Search\n",
      "Action Input: HKD & USD exchange rate\u001b[0m\n",
      "Observation: \u001b[36;1m\u001b[1;3mConvert Hong Kong Dollar to US Dollar ; 1 HKD, 0.127607 USD ; 5 HKD, 0.638034 USD ; 10 HKD, 1.27607 USD ; 25 HKD, 3.19017 USD.\u001b[0m\n",
      "Thought:\u001b[32;1m\u001b[1;3m I now know the exchange rate between HKD and USD\n",
      "Final Answer: 1 HKD = 0.127607 USD.\u001b[0m\n",
      "\n",
      "\u001b[1m> Finished chain.\u001b[0m\n"
     ]
    },
    {
     "data": {
      "text/plain": [
       "'1 HKD = 0.127607 USD.'"
      ]
     },
     "execution_count": 57,
     "metadata": {},
     "output_type": "execute_result"
    }
   ],
   "source": [
    "search_agent.run(\"HKD & USD exchange rate\")"
   ]
  },
  {
   "cell_type": "markdown",
   "id": "910ab4cc-f82c-4f99-9542-0a629a3ccc89",
   "metadata": {},
   "source": [
    "## 3. Use GPT + Agent to query financial news"
   ]
  },
  {
   "cell_type": "markdown",
   "id": "950aca07-84c1-48c0-9c47-7e8fe6d54768",
   "metadata": {},
   "source": [
    "### 3-1 create customized news retrieval tool"
   ]
  },
  {
   "cell_type": "code",
   "execution_count": 33,
   "id": "e5f2e51d-afc6-4d76-b5bc-41678c174f58",
   "metadata": {},
   "outputs": [],
   "source": [
    "from langchain.tools import BaseTool\n",
    "\n",
    "class NewsRetrievalTool(BaseTool):\n",
    "    \n",
    "    # set the proxy server address\n",
    "    proxy_address = 'http://127.0.0.1:7890'\n",
    "\n",
    "    # set the environment variables\n",
    "    os.environ['http_proxy'] = proxy_address\n",
    "    os.environ['https_proxy'] = proxy_address\n",
    "    \n",
    "    name = \"News Retrieval Tool\"\n",
    "    description = \"useful when you need to retrieve latest news\"\n",
    "    \n",
    "    def _run(self, query:str):\n",
    "        url = (\n",
    "        'https://newsapi.org/v2/everything?'\n",
    "        f'q={query}&'\n",
    "       'from=2023-05-16&'\n",
    "       'pageSize=3&'\n",
    "       'sortBy=popularity&'\n",
    "       'apiKey=')\n",
    "        r = requests.get(url)\n",
    "        json_obj = json.loads(json.dumps(r.json()))\n",
    "        return str(json_obj['articles'])\n",
    "    \n",
    "    def _arun(self, query: str):\n",
    "        raise NotImplementedError(\"Async operation not supported yet.\")\n",
    "        \n",
    "        \n",
    "tools = [NewsRetrievalTool()]"
   ]
  },
  {
   "cell_type": "markdown",
   "id": "4bbe8da0-a4a6-4230-a50b-7b6bab21a400",
   "metadata": {},
   "source": [
    "### 3-2 Create chat-conversational-react-description agent"
   ]
  },
  {
   "cell_type": "code",
   "execution_count": 50,
   "id": "51d3b5c6-0545-4100-8a88-87700cec069c",
   "metadata": {},
   "outputs": [],
   "source": [
    "agent = initialize_agent(\n",
    "    agent='chat-conversational-react-description',\n",
    "    tools=tools,\n",
    "    llm=llm,\n",
    "    verbose=True,\n",
    "    max_iterations=3,\n",
    "    early_stopping_method='generate',\n",
    "    memory=ConversationBufferWindowMemory(\n",
    "        memory_key='chat_history',\n",
    "        k=5,\n",
    "        return_messages=True\n",
    "    )\n",
    ")"
   ]
  },
  {
   "cell_type": "code",
   "execution_count": 51,
   "id": "5f8cef89-6467-46e8-8ddd-9be824c2fc14",
   "metadata": {},
   "outputs": [
    {
     "name": "stdout",
     "output_type": "stream",
     "text": [
      "\n",
      "\n",
      "\u001b[1m> Entering new AgentExecutor chain...\u001b[0m\n",
      "\u001b[32;1m\u001b[1;3m\n",
      "\n",
      "RESPONSE\n",
      "--------------------\n",
      "```json\n",
      "{\n",
      "    \"action\": \"News Retrieval Tool\",\n",
      "    \"action_input\": \"Financial News\"\n",
      "}\n",
      "```\u001b[0m\n",
      "Observation: \u001b[36;1m\u001b[1;3m[{'source': {'id': 'the-washington-post', 'name': 'The Washington Post'}, 'author': None, 'title': \"Officials say social media is hurting teens. Scientists say it's complicated...\", 'description': \"Officials say social media is hurting teens. Scientists say it's complicated...\\r\\n\\n \\n \\n \\n (Third column, 9th story, link)\\r\\n\\n \\r\\n\\n \\r\\n\\n \\n \\n Drudge Report Feed needs your support!\\xa0\\xa0 Become a Patron\", 'url': 'https://www.washingtonpost.com/politics/2023/05/10/officials-say-social-media-is-hurting-teens-scientists-say-its-complicated/', 'urlToImage': 'https://img-s-msn-com.akamaized.net/tenant/amp/entityid/AA1b0cY2.img?h=630&w=1200&m=6&q=60&o=t&l=f&f=jpg&x=474&y=115', 'publishedAt': '2023-05-16T01:10:38Z', 'content': \"Happy Wednesday! I still can't get over this story on the price of the modern car. Send news and vehicular tips to: cristiano.lima@washpost.com.\\r\\nBreaking this morning:Sam Altman, CEO of ChatGPT make… [+12303 chars]\"}, {'source': {'id': None, 'name': 'Motley Fool'}, 'author': 'newsfeedback@fool.com (The Daily Upside)', 'title': 'A Summer Home in the Hamptons is Cheap...er', 'description': \"You won't be hearing the pitter-patter of little Chad's $100 Sperrys. Topher is going to have to settle for an imitation crustacean in his...\", 'url': 'https://www.fool.com/investing/2023/05/15/a-summer-home-in-the-hamptons-is-cheaper/', 'urlToImage': 'https://g.foolcdn.com/editorial/images/732645/featured-daily-upside-image.jpeg', 'publishedAt': '2023-05-16T01:00:24Z', 'content': \"For more crisp and insightful business and economic news, subscribe to\\r\\nThe Daily Upside newsletter.\\r\\nIt's completely free and we guarantee you'll learn something new every day.\\r\\nYou won't be hearing… [+2252 chars]\"}, {'source': {'id': None, 'name': 'Motley Fool'}, 'author': 'newsfeedback@fool.com (The Daily Upside)', 'title': 'TPG Grows Credit Business with $2.7 Billion Angelo Gordon Acquisition', 'description': 'Credit TPG, the private equity giant, for following the money. On Monday, the Texas-based firm known for leveraged buyouts and growth capital made...', 'url': 'https://www.fool.com/investing/2023/05/15/tpg-grows-credit-business-with-27-billion-angelo-g/', 'urlToImage': 'https://g.foolcdn.com/editorial/images/732647/featured-daily-upside-image.jpg', 'publishedAt': '2023-05-16T01:00:28Z', 'content': \"For more crisp and insightful business and economic news, subscribe to\\r\\nThe Daily Upside newsletter.\\r\\nIt's completely free and we guarantee you'll learn something new every day.\\r\\nCredit TPG, the priv… [+3037 chars]\"}]\u001b[0m\n",
      "Thought:\u001b[32;1m\u001b[1;3m\n",
      "\n",
      "AI:\n",
      "```json\n",
      "{\n",
      "    \"action\": \"Final Answer\",\n",
      "    \"action_input\": \"Based on the news retrieval tool, the latest financial news is that TPG has grown its credit business with a $2.7 billion acquisition from Angelo Gordon.\"\n",
      "}\n",
      "```\u001b[0m\n",
      "\n",
      "\u001b[1m> Finished chain.\u001b[0m\n"
     ]
    },
    {
     "data": {
      "text/plain": [
       "{'input': 'Can you show me recent financial news ?',\n",
       " 'chat_history': [],\n",
       " 'output': 'Based on the news retrieval tool, the latest financial news is that TPG has grown its credit business with a $2.7 billion acquisition from Angelo Gordon.'}"
      ]
     },
     "execution_count": 51,
     "metadata": {},
     "output_type": "execute_result"
    }
   ],
   "source": [
    "agent(\"Can you show me recent financial news ?\")"
   ]
  },
  {
   "cell_type": "code",
   "execution_count": 52,
   "id": "39acb62d-aef6-4f9e-af41-44e77cb79541",
   "metadata": {},
   "outputs": [
    {
     "name": "stdout",
     "output_type": "stream",
     "text": [
      "\n",
      "\n",
      "\u001b[1m> Entering new AgentExecutor chain...\u001b[0m\n",
      "\u001b[32;1m\u001b[1;3m\n",
      "\n",
      "RESPONSE\n",
      "--------------------\n",
      "```json\n",
      "{\n",
      "    \"action\": \"News Retrieval Tool\",\n",
      "    \"action_input\": \"Sports\"\n",
      "}\n",
      "```\u001b[0m\n",
      "Observation: \u001b[36;1m\u001b[1;3m[{'source': {'id': None, 'name': 'Osxdaily.com'}, 'author': 'Jamie Cuevas', 'title': 'Second Release Candidate of iOS 16.5, iPadOS 16.5, MacOS Ventura 13.4 Available for Download', 'description': 'A second Release Candidate build of iOS 16.5, iPadOS 16.5, and MacOS Ventura 13.4 has been released by Apple to users participating in the public beta and developer beta programs for Apple system software. Apple had previously stated that final versions of iO…', 'url': 'https://osxdaily.com/2023/05/15/second-release-candidate-of-ios-16-5-ipados-16-5-macos-ventura-13-4-available-for-download/', 'urlToImage': 'https://cdn.osxdaily.com/wp-content/uploads/2022/07/public-beta-macos-ventura-ios-16-ipados-16.jpg', 'publishedAt': '2023-05-16T00:34:38Z', 'content': 'A second Release Candidate build of iOS 16.5, iPadOS 16.5, and MacOS Ventura 13.4 has been released by Apple to users participating in the public beta and developer beta programs for Apple system sof… [+2994 chars]'}, {'source': {'id': None, 'name': 'Forbes'}, 'author': 'David Bloom, Senior Contributor, \\n David Bloom, Senior Contributor\\n https://www.forbes.com/sites/dbloom/', 'title': 'Pluto Co-Founder’s Telly Startup Giving Away 500,000 Dual-Screen TVs', 'description': \"Startup Telly has a killer pitch: trade information on your preferences and interests and you'll get a free TV, with two screens, a built-in soundbar and lots of other capabilities. It's the latest ad-supported venture Pluto co-founder Ilya Pozin.\", 'url': 'https://www.forbes.com/sites/dbloom/2023/05/15/pluto-co-founders-telly-startup-giving-away-500000-dual-screen-tvs/', 'urlToImage': 'https://imageio.forbes.com/specials-images/imageserve/645ec167092971bc8d58762b/0x0.jpg?format=jpg&width=1200', 'publishedAt': '2023-05-16T00:08:11Z', 'content': '(image courtesy of Telly)\\r\\nIlya Pozin, who co-founded free streaming service Pluto, has a new ad-supported venture with a killer pitch: sign up for Tellys unique two-screen television/soundbar, answe… [+5345 chars]'}, {'source': {'id': 'google-news', 'name': 'Google News'}, 'author': None, 'title': 'Body of missing 4-year-old boy found on Massachusetts shoreline - Eyewitness News 3', 'description': '<ol><li>Body of missing 4-year-old boy found on Massachusetts shoreline\\xa0\\xa0Eyewitness News 3\\r\\n</li><li>Missing 4-year-old Mohamed Fofana found dead on Spectacle Island shore off South Boston\\xa0\\xa0CBS Boston\\r\\n</li><li>‘Please help’: Search continues for missing 4-ye…', 'url': 'https://consent.google.com/ml?continue=https://news.google.com/rss/articles/CBMiWmh0dHBzOi8vd3d3Lndmc2IuY29tLzIwMjMvMDUvMTYvYm9keS1taXNzaW5nLTQteWVhci1vbGQtYm95LWZvdW5kLW1hc3NhY2h1c2V0dHMtc2hvcmVsaW5lL9IBaWh0dHBzOi8vd3d3Lndmc2IuY29tLzIwMjMvMDUvMTYvYm9keS1taXNzaW5nLTQteWVhci1vbGQtYm95LWZvdW5kLW1hc3NhY2h1c2V0dHMtc2hvcmVsaW5lLz9vdXRwdXRUeXBlPWFtcA?oc%3D5&gl=FR&hl=en-US&cm=2&pc=n&src=1', 'urlToImage': None, 'publishedAt': '2023-05-16T00:23:00Z', 'content': 'We use cookies and data to<ul><li>Deliver and maintain Google services</li><li>Track outages and protect against spam, fraud, and abuse</li><li>Measure audience engagement and site statistics to unde… [+1131 chars]'}]\u001b[0m\n",
      "Thought:\u001b[32;1m\u001b[1;3m\n",
      "\n",
      "AI:\n",
      "```json\n",
      "{\n",
      "    \"action\": \"Final Answer\",\n",
      "    \"action_input\": \"The latest news related to sports is that Telly, a startup co-founded by Pluto co-founder Ilya Pozin, is offering 500,000 dual-screen TVs to those who sign up and provide information on their preferences and interests. Additionally, a second Release Candidate build of iOS 16.5, iPadOS 16.5, and MacOS Ventura 13.4 has been released by Apple to users participating in the public beta and developer beta programs for Apple system software. Lastly, a body of a missing 4-year-old boy has been found on a shoreline in Massachusetts.\"\n",
      "}\n",
      "```\u001b[0m\n",
      "\n",
      "\u001b[1m> Finished chain.\u001b[0m\n"
     ]
    },
    {
     "data": {
      "text/plain": [
       "{'input': 'Can you show me recent sports news ?',\n",
       " 'chat_history': [HumanMessage(content='Can you show me recent financial news ?', additional_kwargs={}, example=False),\n",
       "  AIMessage(content='Based on the news retrieval tool, the latest financial news is that TPG has grown its credit business with a $2.7 billion acquisition from Angelo Gordon.', additional_kwargs={}, example=False)],\n",
       " 'output': 'The latest news related to sports is that Telly, a startup co-founded by Pluto co-founder Ilya Pozin, is offering 500,000 dual-screen TVs to those who sign up and provide information on their preferences and interests. Additionally, a second Release Candidate build of iOS 16.5, iPadOS 16.5, and MacOS Ventura 13.4 has been released by Apple to users participating in the public beta and developer beta programs for Apple system software. Lastly, a body of a missing 4-year-old boy has been found on a shoreline in Massachusetts.'}"
      ]
     },
     "execution_count": 52,
     "metadata": {},
     "output_type": "execute_result"
    }
   ],
   "source": [
    "agent(\"Can you show me recent sports news ?\")"
   ]
  },
  {
   "cell_type": "code",
   "execution_count": null,
   "id": "9687fc05-7908-47de-a428-9434b01999d0",
   "metadata": {},
   "outputs": [],
   "source": []
  }
 ],
 "metadata": {
  "kernelspec": {
   "display_name": "Python 3 (ipykernel)",
   "language": "python",
   "name": "python3"
  },
  "language_info": {
   "codemirror_mode": {
    "name": "ipython",
    "version": 3
   },
   "file_extension": ".py",
   "mimetype": "text/x-python",
   "name": "python",
   "nbconvert_exporter": "python",
   "pygments_lexer": "ipython3",
   "version": "3.9.16"
  }
 },
 "nbformat": 4,
 "nbformat_minor": 5
}
