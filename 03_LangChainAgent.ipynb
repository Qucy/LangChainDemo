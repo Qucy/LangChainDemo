{
 "cells": [
  {
   "cell_type": "code",
   "execution_count": 4,
   "id": "df8eacac-da36-4dd0-b6b5-ef73b0c9eae6",
   "metadata": {},
   "outputs": [],
   "source": [
    "import os\n",
    "from langchain.llms import AzureOpenAI\n",
    "from langchain.prompts import PromptTemplate\n",
    "from langchain.chains import LLMChain\n",
    "from langchain.agents import load_tools, initialize_agent, create_sql_agent, AgentType\n",
    "from langchain.agents.agent_toolkits import SQLDatabaseToolkit\n",
    "from langchain.memory import ConversationBufferWindowMemory\n",
    "from langchain.sql_database import SQLDatabase\n",
    "\n",
    "os.environ['OPENAI_API_KEY'] = os.getenv('OPENAI_API_KEY')\n",
    "os.environ[\"OPENAI_API_BASE\"] = \"https://qucy-openai-test.openai.azure.com/\"\n",
    "os.environ[\"OPENAI_API_TYPE\"] = \"azure\"\n",
    "os.environ[\"OPENAI_API_VERSION\"] = \"2023-03-15-preview\"\n",
    "os.environ[\"SERPAPI_API_KEY\"] = os.getenv('SERPAPI_API_KEY')\n",
    "\n",
    "\n",
    "# create large language model service\n",
    "llm = AzureOpenAI(deployment_name=\"text-davinci-003\", model_name=\"text-davinci-003\")\n",
    "\n",
    "# f0c89ec0b7a44a0b978a9c832dd2c85c\n",
    "# news_api_key"
   ]
  },
  {
   "cell_type": "code",
   "execution_count": 5,
   "id": "443180f0-b3ca-411c-9413-670b9b6ff24e",
   "metadata": {},
   "outputs": [
    {
     "data": {
      "text/plain": [
       "'\\n\\nNot much, just hanging out. How about you?'"
      ]
     },
     "execution_count": 5,
     "metadata": {},
     "output_type": "execute_result"
    }
   ],
   "source": [
    "llm(\"Hey what's up ?\")"
   ]
  },
  {
   "cell_type": "markdown",
   "id": "b9143a85-4c11-40d2-89df-bc89f7bbcc32",
   "metadata": {},
   "source": [
    "## 1. Use GPT+ Agent to query customer data (transaction data)\n",
    "\n",
    "### Given below transaction table, we can use natural language to query below table\n",
    "\n",
    "<img src=\"./credit_card_transaction_table.png\" alt=\"Credit Card Transaction Table\" width=\"1800\"/>"
   ]
  },
  {
   "cell_type": "code",
   "execution_count": 10,
   "id": "e4112ee7-ecc9-4a2e-a868-8c8b103a2f7a",
   "metadata": {},
   "outputs": [
    {
     "name": "stdout",
     "output_type": "stream",
     "text": [
      "\n",
      "\n",
      "\u001b[1m> Entering new AgentExecutor chain...\u001b[0m\n",
      "\u001b[32;1m\u001b[1;3mAction: list_tables_sql_db\n",
      "Action Input: \u001b[0m\n",
      "Observation: \u001b[38;5;200m\u001b[1;3msqlite_sequence, credit_card_transactions, stocks\u001b[0m\n",
      "Thought:\u001b[32;1m\u001b[1;3m I should check the schema of the credit_card_transactions table to see what columns it has.\n",
      "Action: schema_sql_db\n",
      "Action Input: credit_card_transactions\u001b[0m\n",
      "Observation: \u001b[33;1m\u001b[1;3m\n",
      "CREATE TABLE credit_card_transactions (\n",
      "\tid INTEGER, \n",
      "\ttransaction_date DATE NOT NULL, \n",
      "\tcategory VARCHAR(255) NOT NULL, \n",
      "\tdescription VARCHAR(255), \n",
      "\tamount FLOAT NOT NULL, \n",
      "\ttransaction_type VARCHAR(255) NOT NULL, \n",
      "\tcard_number VARCHAR(16) NOT NULL, \n",
      "\tcredit_limit FLOAT NOT NULL, \n",
      "\tavailable_credit FLOAT NOT NULL, \n",
      "\tdue_date DATE NOT NULL, \n",
      "\trewards_points INTEGER NOT NULL, \n",
      "\tinterest_rate FLOAT NOT NULL, \n",
      "\tfee FLOAT NOT NULL, \n",
      "\tPRIMARY KEY (id)\n",
      ")\n",
      "\n",
      "/*\n",
      "3 rows from credit_card_transactions table:\n",
      "id\ttransaction_date\tcategory\tdescription\tamount\ttransaction_type\tcard_number\tcredit_limit\tavailable_credit\tdue_date\trewards_points\tinterest_rate\tfee\n",
      "1\t2023-04-01\tgroceries\tGrocery Store\t50.0000000000\tpurchase\t1234567890123456\t1000.0000000000\t950.0000000000\t2023-05-01\t25\t0E-10\t0E-10\n",
      "2\t2023-04-05\tgas\tGas Station\t30.0000000000\tpurchase\t1234567890123456\t1000.0000000000\t920.0000000000\t2023-05-01\t15\t0E-10\t0E-10\n",
      "3\t2023-04-10\tdining out\tRestaurant\t20.0000000000\tpurchase\t1234567890123456\t1000.0000000000\t900.0000000000\t2023-05-01\t10\t0E-10\t0E-10\n",
      "*/\u001b[0m\n",
      "Thought:\u001b[32;1m\u001b[1;3m I should query the credit_card_transactions table for the most recent available credit limit.\n",
      "Action: query_sql_db\n",
      "Action Input: SELECT available_credit FROM credit_card_transactions ORDER BY transaction_date DESC LIMIT 1\u001b[0m\n",
      "Observation: \u001b[36;1m\u001b[1;3m[(1150.0,)]\u001b[0m\n",
      "Thought:\u001b[32;1m\u001b[1;3m I now know the final answer\n",
      "Final Answer: Your latest available credit limit is 1150.0.\u001b[0m\n",
      "\n",
      "\u001b[1m> Finished chain.\u001b[0m\n"
     ]
    },
    {
     "data": {
      "text/plain": [
       "'Your latest available credit limit is 1150.0.'"
      ]
     },
     "execution_count": 10,
     "metadata": {},
     "output_type": "execute_result"
    }
   ],
   "source": [
    "db = SQLDatabase.from_uri(\"sqlite:////mnt/disk1/python-projects/LangChainDemo/demo.db\")\n",
    "toolkit = SQLDatabaseToolkit(db=db, llm=llm)\n",
    "\n",
    "# create agent\n",
    "database_agent = create_sql_agent(llm=llm, toolkit=toolkit, verbose=True)\n",
    "\n",
    "# run agent\n",
    "database_agent.run(\"What is my latest available credit limit ?\")"
   ]
  },
  {
   "cell_type": "code",
   "execution_count": 11,
   "id": "7558d820-5eba-40fa-845a-2157e76fcad5",
   "metadata": {},
   "outputs": [
    {
     "name": "stdout",
     "output_type": "stream",
     "text": [
      "\n",
      "\n",
      "\u001b[1m> Entering new AgentExecutor chain...\u001b[0m\n",
      "\u001b[32;1m\u001b[1;3mAction: list_tables_sql_db\n",
      "Action Input: \"\"\u001b[0m\n",
      "Observation: \u001b[38;5;200m\u001b[1;3msqlite_sequence, credit_card_transactions, stocks\u001b[0m\n",
      "Thought:\u001b[32;1m\u001b[1;3m I need to look at the credit_card_transactions table.\n",
      "Action: schema_sql_db\n",
      "Action Input: \"credit_card_transactions\"\u001b[0m\n",
      "Observation: \u001b[33;1m\u001b[1;3m\n",
      "CREATE TABLE credit_card_transactions (\n",
      "\tid INTEGER, \n",
      "\ttransaction_date DATE NOT NULL, \n",
      "\tcategory VARCHAR(255) NOT NULL, \n",
      "\tdescription VARCHAR(255), \n",
      "\tamount FLOAT NOT NULL, \n",
      "\ttransaction_type VARCHAR(255) NOT NULL, \n",
      "\tcard_number VARCHAR(16) NOT NULL, \n",
      "\tcredit_limit FLOAT NOT NULL, \n",
      "\tavailable_credit FLOAT NOT NULL, \n",
      "\tdue_date DATE NOT NULL, \n",
      "\trewards_points INTEGER NOT NULL, \n",
      "\tinterest_rate FLOAT NOT NULL, \n",
      "\tfee FLOAT NOT NULL, \n",
      "\tPRIMARY KEY (id)\n",
      ")\n",
      "\n",
      "/*\n",
      "3 rows from credit_card_transactions table:\n",
      "id\ttransaction_date\tcategory\tdescription\tamount\ttransaction_type\tcard_number\tcredit_limit\tavailable_credit\tdue_date\trewards_points\tinterest_rate\tfee\n",
      "1\t2023-04-01\tgroceries\tGrocery Store\t50.0000000000\tpurchase\t1234567890123456\t1000.0000000000\t950.0000000000\t2023-05-01\t25\t0E-10\t0E-10\n",
      "2\t2023-04-05\tgas\tGas Station\t30.0000000000\tpurchase\t1234567890123456\t1000.0000000000\t920.0000000000\t2023-05-01\t15\t0E-10\t0E-10\n",
      "3\t2023-04-10\tdining out\tRestaurant\t20.0000000000\tpurchase\t1234567890123456\t1000.0000000000\t900.0000000000\t2023-05-01\t10\t0E-10\t0E-10\n",
      "*/\u001b[0m\n",
      "Thought:\u001b[32;1m\u001b[1;3m I can query for the total spending in April 2023.\n",
      "Action: query_sql_db\n",
      "Action Input: SELECT SUM(amount) FROM credit_card_transactions WHERE transaction_date BETWEEN '2023-04-01' AND '2023-04-30';\u001b[0m\n",
      "Observation: \u001b[36;1m\u001b[1;3m[(550.0,)]\u001b[0m\n",
      "Thought:\u001b[32;1m\u001b[1;3m I now know the final answer.\n",
      "Final Answer: Your total spending in April 2023 was 550.0.\u001b[0m\n",
      "\n",
      "\u001b[1m> Finished chain.\u001b[0m\n"
     ]
    },
    {
     "data": {
      "text/plain": [
       "'Your total spending in April 2023 was 550.0.'"
      ]
     },
     "execution_count": 11,
     "metadata": {},
     "output_type": "execute_result"
    }
   ],
   "source": [
    "database_agent.run(\"What was my total spending in 2023 April ?\")"
   ]
  },
  {
   "cell_type": "code",
   "execution_count": 12,
   "id": "df4bd124-e28a-4cfa-b0d4-8d80ce46f219",
   "metadata": {},
   "outputs": [
    {
     "name": "stdout",
     "output_type": "stream",
     "text": [
      "\n",
      "\n",
      "\u001b[1m> Entering new AgentExecutor chain...\u001b[0m\n",
      "\u001b[32;1m\u001b[1;3mAction: list_tables_sql_db\n",
      "Action Input: \"\"\u001b[0m\n",
      "Observation: \u001b[38;5;200m\u001b[1;3msqlite_sequence, credit_card_transactions, stocks\u001b[0m\n",
      "Thought:\u001b[32;1m\u001b[1;3m I need to look at the schema of the credit_card_transactions table to see what columns I can use in my query\n",
      "Action: schema_sql_db\n",
      "Action Input: \"credit_card_transactions\"\u001b[0m\n",
      "Observation: \u001b[33;1m\u001b[1;3m\n",
      "CREATE TABLE credit_card_transactions (\n",
      "\tid INTEGER, \n",
      "\ttransaction_date DATE NOT NULL, \n",
      "\tcategory VARCHAR(255) NOT NULL, \n",
      "\tdescription VARCHAR(255), \n",
      "\tamount FLOAT NOT NULL, \n",
      "\ttransaction_type VARCHAR(255) NOT NULL, \n",
      "\tcard_number VARCHAR(16) NOT NULL, \n",
      "\tcredit_limit FLOAT NOT NULL, \n",
      "\tavailable_credit FLOAT NOT NULL, \n",
      "\tdue_date DATE NOT NULL, \n",
      "\trewards_points INTEGER NOT NULL, \n",
      "\tinterest_rate FLOAT NOT NULL, \n",
      "\tfee FLOAT NOT NULL, \n",
      "\tPRIMARY KEY (id)\n",
      ")\n",
      "\n",
      "/*\n",
      "3 rows from credit_card_transactions table:\n",
      "id\ttransaction_date\tcategory\tdescription\tamount\ttransaction_type\tcard_number\tcredit_limit\tavailable_credit\tdue_date\trewards_points\tinterest_rate\tfee\n",
      "1\t2023-04-01\tgroceries\tGrocery Store\t50.0000000000\tpurchase\t1234567890123456\t1000.0000000000\t950.0000000000\t2023-05-01\t25\t0E-10\t0E-10\n",
      "2\t2023-04-05\tgas\tGas Station\t30.0000000000\tpurchase\t1234567890123456\t1000.0000000000\t920.0000000000\t2023-05-01\t15\t0E-10\t0E-10\n",
      "3\t2023-04-10\tdining out\tRestaurant\t20.0000000000\tpurchase\t1234567890123456\t1000.0000000000\t900.0000000000\t2023-05-01\t10\t0E-10\t0E-10\n",
      "*/\u001b[0m\n",
      "Thought:\u001b[32;1m\u001b[1;3m I can use the category column in my query to group the transactions by category\n",
      "Action: query_sql_db\n",
      "Action Input: SELECT category, SUM(amount) FROM credit_card_transactions GROUP BY category ORDER BY SUM(amount) DESC LIMIT 10;\u001b[0m\n",
      "Observation: \u001b[36;1m\u001b[1;3m[('payment', 200.0), ('disputed charge', 150.0), ('suspicious activity', 100.0), ('groceries', 50.0), ('gas', 30.0), ('dining out', 20.0), ('rewards', 0.0), ('interest', 0.0)]\u001b[0m\n",
      "Thought:\u001b[32;1m\u001b[1;3m I now know the final answer\n",
      "Final Answer: The breakdown of your credit card by category is: payment (200.0), disputed charge (150.0), suspicious activity (100.0), groceries (50.0), gas (30.0), dining out (20.0), rewards (0.0) and interest (0.0).\u001b[0m\n",
      "\n",
      "\u001b[1m> Finished chain.\u001b[0m\n"
     ]
    },
    {
     "data": {
      "text/plain": [
       "'The breakdown of your credit card by category is: payment (200.0), disputed charge (150.0), suspicious activity (100.0), groceries (50.0), gas (30.0), dining out (20.0), rewards (0.0) and interest (0.0).'"
      ]
     },
     "execution_count": 12,
     "metadata": {},
     "output_type": "execute_result"
    }
   ],
   "source": [
    "database_agent.run(\"Can you show me a breakdown of my credit card by category ?\")"
   ]
  },
  {
   "cell_type": "code",
   "execution_count": 13,
   "id": "bd4770c3-76d1-4fe5-bf1e-4e93eabd6c39",
   "metadata": {},
   "outputs": [
    {
     "name": "stdout",
     "output_type": "stream",
     "text": [
      "\n",
      "\n",
      "\u001b[1m> Entering new AgentExecutor chain...\u001b[0m\n",
      "\u001b[32;1m\u001b[1;3mAction: list_tables_sql_db\n",
      "Action Input: \"\"\u001b[0m\n",
      "Observation: \u001b[38;5;200m\u001b[1;3msqlite_sequence, credit_card_transactions, stocks\u001b[0m\n",
      "Thought:\u001b[32;1m\u001b[1;3m I need to see the schema of the credit_card_transactions table to know what I can query for\n",
      "Action: schema_sql_db\n",
      "Action Input: \"credit_card_transactions\"\u001b[0m\n",
      "Observation: \u001b[33;1m\u001b[1;3m\n",
      "CREATE TABLE credit_card_transactions (\n",
      "\tid INTEGER, \n",
      "\ttransaction_date DATE NOT NULL, \n",
      "\tcategory VARCHAR(255) NOT NULL, \n",
      "\tdescription VARCHAR(255), \n",
      "\tamount FLOAT NOT NULL, \n",
      "\ttransaction_type VARCHAR(255) NOT NULL, \n",
      "\tcard_number VARCHAR(16) NOT NULL, \n",
      "\tcredit_limit FLOAT NOT NULL, \n",
      "\tavailable_credit FLOAT NOT NULL, \n",
      "\tdue_date DATE NOT NULL, \n",
      "\trewards_points INTEGER NOT NULL, \n",
      "\tinterest_rate FLOAT NOT NULL, \n",
      "\tfee FLOAT NOT NULL, \n",
      "\tPRIMARY KEY (id)\n",
      ")\n",
      "\n",
      "/*\n",
      "3 rows from credit_card_transactions table:\n",
      "id\ttransaction_date\tcategory\tdescription\tamount\ttransaction_type\tcard_number\tcredit_limit\tavailable_credit\tdue_date\trewards_points\tinterest_rate\tfee\n",
      "1\t2023-04-01\tgroceries\tGrocery Store\t50.0000000000\tpurchase\t1234567890123456\t1000.0000000000\t950.0000000000\t2023-05-01\t25\t0E-10\t0E-10\n",
      "2\t2023-04-05\tgas\tGas Station\t30.0000000000\tpurchase\t1234567890123456\t1000.0000000000\t920.0000000000\t2023-05-01\t15\t0E-10\t0E-10\n",
      "3\t2023-04-10\tdining out\tRestaurant\t20.0000000000\tpurchase\t1234567890123456\t1000.0000000000\t900.0000000000\t2023-05-01\t10\t0E-10\t0E-10\n",
      "*/\u001b[0m\n",
      "Thought:\u001b[32;1m\u001b[1;3m I can now query the credit_card_transactions table to find the fees or interest charged on my credit card on 2023 April\n",
      "Action: query_sql_db\n",
      "Action Input: SELECT transaction_date, fee, interest_rate FROM credit_card_transactions WHERE transaction_date LIKE '2023-04-%' LIMIT 10\u001b[0m\n",
      "Observation: \u001b[36;1m\u001b[1;3m[('2023-04-01', 0.0, 0.0), ('2023-04-05', 0.0, 0.0), ('2023-04-10', 0.0, 0.0), ('2023-04-15', 0.0, 18.0), ('2023-04-20', 0.0, 0.0), ('2023-04-25', 0.0, 0.0), ('2023-04-30', 0.0, 0.0)]\u001b[0m\n",
      "Thought:\u001b[32;1m\u001b[1;3m I now know the final answer\n",
      "Final Answer: On 2023 April, the fees or interest charged on my credit card were 0.0 for the majority of the month, with the exception of the 15th, when the interest rate was 18.0.\u001b[0m\n",
      "\n",
      "\u001b[1m> Finished chain.\u001b[0m\n"
     ]
    },
    {
     "data": {
      "text/plain": [
       "'On 2023 April, the fees or interest charged on my credit card were 0.0 for the majority of the month, with the exception of the 15th, when the interest rate was 18.0.'"
      ]
     },
     "execution_count": 13,
     "metadata": {},
     "output_type": "execute_result"
    }
   ],
   "source": [
    "database_agent.run(\"What were the fees or interest charged on my credit card on 2023 April ?\")"
   ]
  },
  {
   "cell_type": "markdown",
   "id": "56acc547-dcab-40e5-b76c-13020f9b04c3",
   "metadata": {},
   "source": [
    "## 2. Use GPT+Agent to query latest financial market data (public stock price /other foreign exchange info in real-time)"
   ]
  },
  {
   "cell_type": "code",
   "execution_count": null,
   "id": "7ba7cad6-3f23-4eb2-b155-c42828e9f3a9",
   "metadata": {},
   "outputs": [],
   "source": []
  },
  {
   "cell_type": "code",
   "execution_count": null,
   "id": "c6eadcd2-5651-422c-874f-da674177f553",
   "metadata": {},
   "outputs": [],
   "source": []
  },
  {
   "cell_type": "markdown",
   "id": "910ab4cc-f82c-4f99-9542-0a629a3ccc89",
   "metadata": {},
   "source": [
    "## 3. Use GPT + Agent to query financial news"
   ]
  },
  {
   "cell_type": "code",
   "execution_count": null,
   "id": "aa91ca5c-d109-4f45-a32a-c86c39dc31c9",
   "metadata": {},
   "outputs": [],
   "source": []
  },
  {
   "cell_type": "code",
   "execution_count": null,
   "id": "8cfe276e-d6fc-477e-80f3-4c072b746a51",
   "metadata": {},
   "outputs": [],
   "source": []
  },
  {
   "cell_type": "code",
   "execution_count": null,
   "id": "66343b6e-0409-4438-945f-2125898e54b4",
   "metadata": {},
   "outputs": [],
   "source": []
  },
  {
   "cell_type": "code",
   "execution_count": null,
   "id": "51d3b5c6-0545-4100-8a88-87700cec069c",
   "metadata": {},
   "outputs": [],
   "source": []
  },
  {
   "cell_type": "code",
   "execution_count": null,
   "id": "5f8cef89-6467-46e8-8ddd-9be824c2fc14",
   "metadata": {},
   "outputs": [],
   "source": []
  },
  {
   "cell_type": "code",
   "execution_count": null,
   "id": "3bdcab69-1834-4c96-b995-8101c523676a",
   "metadata": {},
   "outputs": [],
   "source": []
  }
 ],
 "metadata": {
  "kernelspec": {
   "display_name": "Python 3 (ipykernel)",
   "language": "python",
   "name": "python3"
  },
  "language_info": {
   "codemirror_mode": {
    "name": "ipython",
    "version": 3
   },
   "file_extension": ".py",
   "mimetype": "text/x-python",
   "name": "python",
   "nbconvert_exporter": "python",
   "pygments_lexer": "ipython3",
   "version": "3.9.16"
  }
 },
 "nbformat": 4,
 "nbformat_minor": 5
}
