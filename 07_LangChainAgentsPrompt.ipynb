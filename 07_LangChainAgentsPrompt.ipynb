{
 "cells": [
  {
   "cell_type": "markdown",
   "id": "98f0d333-a68f-4c9b-a9e7-a32ae06e8f04",
   "metadata": {},
   "source": [
    "### This is a notebook to explore build a chatbot via LangChain Liberary\n",
    "\n",
    "- Use AzureOpenAI's API\n",
    "- Create prompt template to set the role for AI\n",
    "- Use memory component to remember the chat context\n",
    "- Include an agents to support differnt tasks"
   ]
  },
  {
   "cell_type": "code",
   "execution_count": 3,
   "id": "938a48a5-7ec4-47ef-8f6a-aa7367303ba8",
   "metadata": {
    "editable": true,
    "slideshow": {
     "slide_type": ""
    },
    "tags": []
   },
   "outputs": [
    {
     "data": {
      "text/plain": [
       "True"
      ]
     },
     "execution_count": 3,
     "metadata": {},
     "output_type": "execute_result"
    }
   ],
   "source": [
    "import os\n",
    "import re\n",
    "from langchain.chat_models import AzureChatOpenAI\n",
    "from langchain import LLMChain\n",
    "from langchain.llms import AzureOpenAI\n",
    "from langchain.agents import load_tools, initialize_agent, AgentType, Tool, AgentExecutor, LLMSingleActionAgent, AgentOutputParser\n",
    "from langchain.memory import ConversationBufferWindowMemory, ConversationBufferMemory\n",
    "from langchain.prompts import BaseChatPromptTemplate\n",
    "from typing import List, Union\n",
    "from langchain.schema import AgentAction, AgentFinish, HumanMessage\n",
    "from dotenv import load_dotenv\n",
    "\n",
    "# load env for llm service\n",
    "load_dotenv()"
   ]
  },
  {
   "cell_type": "code",
   "execution_count": 4,
   "id": "9b3e6441-2ef4-40e2-b7cf-5ca05010ff58",
   "metadata": {
    "editable": true,
    "slideshow": {
     "slide_type": ""
    },
    "tags": []
   },
   "outputs": [
    {
     "data": {
      "text/plain": [
       "(AzureOpenAI(cache=None, verbose=False, callbacks=None, callback_manager=None, tags=None, client=<class 'openai.api_resources.completion.Completion'>, model_name='gpt-35-turbo', temperature=0.7, max_tokens=256, top_p=1, frequency_penalty=0, presence_penalty=0, n=1, best_of=1, model_kwargs={}, openai_api_key='d2d65893138c46d39ffe1d69f52eda88', openai_api_base='https://qucy-openai-test.openai.azure.com/', openai_organization='', openai_proxy='', batch_size=20, request_timeout=None, logit_bias={}, max_retries=6, streaming=False, allowed_special=set(), disallowed_special='all', tiktoken_model_name=None, deployment_name='chatGPTAzure', openai_api_type='azure', openai_api_version='2023-03-15-preview'),\n",
       " AzureChatOpenAI(cache=None, verbose=False, callbacks=None, callback_manager=None, tags=None, client=<class 'openai.api_resources.chat_completion.ChatCompletion'>, model_name='gpt-35-turbo', temperature=0.7, model_kwargs={}, openai_api_key='d2d65893138c46d39ffe1d69f52eda88', openai_api_base='https://qucy-openai-test.openai.azure.com/', openai_organization='', openai_proxy='', request_timeout=None, max_retries=6, streaming=False, n=1, max_tokens=None, tiktoken_model_name=None, deployment_name='chatGPTAzure', openai_api_type='azure', openai_api_version='2023-03-15-preview'))"
      ]
     },
     "execution_count": 4,
     "metadata": {},
     "output_type": "execute_result"
    }
   ],
   "source": [
    "# create LLM chat model\n",
    "llm_normal = AzureOpenAI(deployment_name='chatGPTAzure', model='gpt-35-turbo')\n",
    "llm_chat = AzureChatOpenAI(deployment_name='chatGPTAzure', model='gpt-35-turbo')\n",
    "\n",
    "llm_normal, llm_chat"
   ]
  },
  {
   "cell_type": "code",
   "execution_count": 5,
   "id": "ddc2f9e1-e8c2-48b9-b938-0d44bfa97f25",
   "metadata": {},
   "outputs": [],
   "source": [
    "def hsbc_knowledge_tool(input: str) -> str:\n",
    "    return \"\"\"\n",
    "        Need to open a bank account with HSBC HK? You can apply with us if you:\n",
    "        - are at least 18 years old\n",
    "        - meet additional criteria depending on where you live\n",
    "        - have proof of ID, proof of address\n",
    "\n",
    "    If customer wants to apply online via mobile app:\n",
    "        - They need to download the HSBC HK App to open an account online.\n",
    "        - holding an eligible Hong Kong ID or an overseas passport\n",
    "        - new to HSBC\n",
    "    \"\"\"\n",
    "\n",
    "def news_query_tool(input: str) -> str:\n",
    "    return \"\"\"\n",
    "        Here are the latest news:\n",
    "        - 2021-11-01: HSBC Holdings plc 3Q 2021 Earnings Release\n",
    "        - 2021-10-29: HSBC Holdings plc 3Q 2021 Earnings Release\n",
    "        - 2021-10-29: HSBC Holdings plc 3Q 2021 Earnings Release\n",
    "    \"\"\"\n",
    "\n",
    "def reject_tool(input: str) -> str:\n",
    "    return \"\"\"\n",
    "    I'm sorry, but as a customer service chatbot for HSBC Hongkong, I am only able to assist with questions related to HSBC Hongkong products and services. \n",
    "    Is there anything else related to HSBC Hongkong that I can help you with?\n",
    "    \"\"\""
   ]
  },
  {
   "cell_type": "code",
   "execution_count": 6,
   "id": "790827ec-58b7-45f6-b2ba-8d9eb8ecc27b",
   "metadata": {},
   "outputs": [],
   "source": [
    "# Define which tools the agent can use to answer user queries\n",
    "tools = [\n",
    "    Tool(\n",
    "        name = \"hsbc_knowledge_tool\",\n",
    "        func=hsbc_knowledge_tool,\n",
    "        description=\"useful for when you need to answer questions about hsbc related knowledge\"\n",
    "    ),\n",
    "    Tool(\n",
    "        name = \"news_query_tool\",\n",
    "        func=news_query_tool,\n",
    "        description=\"useful for when you need to answer questions about news\"\n",
    "    ),\n",
    "    Tool(\n",
    "        name = \"reject_tool\",\n",
    "        func=reject_tool,\n",
    "        description=\"useful for when you need to answer questions not related to HSBC\"\n",
    "    )\n",
    "]"
   ]
  },
  {
   "cell_type": "code",
   "execution_count": 15,
   "id": "d59f57a3-5f82-4061-9038-ba297073c16a",
   "metadata": {},
   "outputs": [],
   "source": [
    "# use annotation\n",
    "from langchain.tools import tool\n",
    "\n",
    "@tool(\"hsbc knowledge search tool\")\n",
    "def hsbc_knowledge_tool(input: str) -> str:\n",
    "    \"\"\"useful for when you need to answer questions about hsbc related knowledge\"\"\"\n",
    "    return \"\"\"\n",
    "        Need to open a bank account with HSBC HK? You can apply with us if you:\n",
    "        - are at least 18 years old\n",
    "        - meet additional criteria depending on where you live\n",
    "        - have proof of ID, proof of address\n",
    "\n",
    "    If customer wants to apply online via mobile app:\n",
    "        - They need to download the HSBC HK App to open an account online.\n",
    "        - holding an eligible Hong Kong ID or an overseas passport\n",
    "        - new to HSBC\n",
    "    \"\"\"\n",
    "\n",
    "@tool(\"reject tool\", return_direct=True)\n",
    "def reject_tool(input: str) -> str:\n",
    "    \"\"\" useful for when you need to answer questions not related to HSBC \"\"\"\n",
    "    return \"\"\"\n",
    "    I'm sorry, but as a customer service chatbot for HSBC Hongkong, I am only able to assist with questions related to HSBC Hongkong products and services. \n",
    "    Is there anything else related to HSBC Hongkong that I can help you with?\n",
    "    \"\"\"\n",
    "\n",
    "# construct tools array\n",
    "tools = [\n",
    "   hsbc_knowledge_tool,\n",
    "    Tool(\n",
    "        name = \"news_query_tool\",\n",
    "        func=news_query_tool,\n",
    "        description=\"useful for when you need to answer questions about news\"\n",
    "    )\n",
    "]"
   ]
  },
  {
   "cell_type": "code",
   "execution_count": 16,
   "id": "940ed123-d0bb-4f75-9614-ce8a4f71768b",
   "metadata": {},
   "outputs": [],
   "source": [
    "# Set up the base template\n",
    "template = \"\"\"Complete the objective as best you can. You have access to the following tools:\n",
    "\n",
    "{tools}\n",
    "\n",
    "Use the following format:\n",
    "\n",
    "Question: the input question you must answer\n",
    "Thought: you should always think about what to do\n",
    "Action: the action to take, should be one of [{tool_names}]\n",
    "Action Input: the input to the action\n",
    "Observation: the result of the action\n",
    "... (this Thought/Action/Action Input/Observation can repeat N times)\n",
    "Thought: I now know the final answer\n",
    "Final Answer: the final answer to the original input question\n",
    "\n",
    "These were previous tasks you completed:\n",
    "\n",
    "Begin!\n",
    "\n",
    "Question: {input}\n",
    "{agent_scratchpad}\"\"\""
   ]
  },
  {
   "cell_type": "code",
   "execution_count": 17,
   "id": "efb833a9-d54a-42d1-9c58-5607ee8ee8c5",
   "metadata": {},
   "outputs": [],
   "source": [
    "# Set up a prompt template\n",
    "class CustomPromptTemplate(BaseChatPromptTemplate):\n",
    "    # The template to use\n",
    "    template: str\n",
    "    # The list of tools available\n",
    "    tools: List[Tool]\n",
    "    \n",
    "    def format_messages(self, **kwargs) -> str:\n",
    "        # Get the intermediate steps (AgentAction, Observation tuples)\n",
    "        # Format them in a particular way\n",
    "        intermediate_steps = kwargs.pop(\"intermediate_steps\")\n",
    "        thoughts = \"\"\n",
    "        for action, observation in intermediate_steps:\n",
    "            thoughts += action.log\n",
    "            thoughts += f\"\\nObservation: {observation}\\nThought: \"\n",
    "        # Set the agent_scratchpad variable to that value\n",
    "        kwargs[\"agent_scratchpad\"] = thoughts\n",
    "        # Create a tools variable from the list of tools provided\n",
    "        kwargs[\"tools\"] = \"\\n\".join([f\"{tool.name}: {tool.description}\" for tool in self.tools])\n",
    "        # Create a list of tool names for the tools provided\n",
    "        kwargs[\"tool_names\"] = \", \".join([tool.name for tool in self.tools])\n",
    "        formatted = self.template.format(**kwargs)\n",
    "        return [HumanMessage(content=formatted)]\n",
    "    \n",
    "class CustomOutputParser(AgentOutputParser):\n",
    "    \n",
    "    def parse(self, llm_output: str) -> Union[AgentAction, AgentFinish]:\n",
    "        # Check if agent should finish\n",
    "        if \"Final Answer:\" in llm_output:\n",
    "            return AgentFinish(\n",
    "                # Return values is generally always a dictionary with a single `output` key\n",
    "                # It is not recommended to try anything else at the moment :)\n",
    "                return_values={\"output\": llm_output.split(\"Final Answer:\")[-1].strip()},\n",
    "                log=llm_output,\n",
    "            )\n",
    "        # Parse out the action and action input\n",
    "        regex = r\"Action\\s*\\d*\\s*:(.*?)\\nAction\\s*\\d*\\s*Input\\s*\\d*\\s*:[\\s]*(.*)\"\n",
    "        match = re.search(regex, llm_output, re.DOTALL)\n",
    "        if not match:\n",
    "            raise ValueError(f\"Could not parse LLM output: `{llm_output}`\")\n",
    "        action = match.group(1).strip()\n",
    "        action_input = match.group(2)\n",
    "        # Return the action and action input\n",
    "        return AgentAction(tool=action, tool_input=action_input.strip(\" \").strip('\"'), log=llm_output)"
   ]
  },
  {
   "cell_type": "code",
   "execution_count": 18,
   "id": "984ca736-a726-4384-bad8-682a0248cf13",
   "metadata": {},
   "outputs": [],
   "source": [
    "prompt = CustomPromptTemplate(\n",
    "    template=template,\n",
    "    tools=tools,\n",
    "    input_variables=[\"input\", \"intermediate_steps\"]\n",
    ")\n",
    "\n",
    "output_parser = CustomOutputParser()\n",
    "\n",
    "memory = ConversationBufferWindowMemory(k=10)\n",
    "\n",
    "llm_chain = LLMChain(llm=llm_chat, prompt=prompt, output_parser=output_parser, memory=memory)\n",
    "\n",
    "tool_names = [tool.name for tool in tools]\n",
    "agent = LLMSingleActionAgent(\n",
    "    llm_chain=llm_chain, \n",
    "    output_parser=output_parser,\n",
    "    stop=[\"\\nObservation:\"], \n",
    "    allowed_tools=tool_names\n",
    ")\n",
    "agent_executor = AgentExecutor.from_agent_and_tools(agent=agent, tools=tools, verbose=True)"
   ]
  },
  {
   "cell_type": "code",
   "execution_count": 19,
   "id": "6eb8d7fb-4605-4d6b-9d29-e6489af67447",
   "metadata": {},
   "outputs": [],
   "source": [
    "# this is the example proivded by Langchain offically (https://python.langchain.com/docs/modules/agents/how_to/custom_llm_chat_agent) \n",
    "# but it will ounter errors and should figure out another way to achevice the same goal\n",
    "# agent_executor.run(\"How can I open an account with HSBC HK?\")\n",
    "\n",
    "## =============== Error\n",
    "#      19 prompt_input_keys = list(set(inputs).difference(memory_variables + [\"stop\"]))\n",
    "#      20 if len(prompt_input_keys) != 1:\n",
    "# ---> 21     raise ValueError(f\"One input key expected got {prompt_input_keys}\")\n",
    "#      22 return prompt_input_keys[0]\n",
    "\n",
    "# ValueError: One input key expected got ['intermediate_steps', 'input']"
   ]
  },
  {
   "cell_type": "code",
   "execution_count": 20,
   "id": "cb24804e-7ed8-4fbb-b9c0-aedc704dd5e8",
   "metadata": {},
   "outputs": [],
   "source": [
    "# We can add prefix for the agent but only works the zero shot react discription type of agent\n",
    "# for chat conversational react type of agent is not working at all\n",
    "PREFIX = \"\"\"\n",
    "You are a customer service AI for HSBC Hongkong, your primary focus would be to assist customers with questions and issues related to HSBC Hongkong products and services. \n",
    "If a customer asks a question that is not related to HSBC Hongkong, politely inform them that I am only able to assist with HSBC Hongkong related questions.\n",
    "You have access to the following tools:\n",
    "\"\"\"\n",
    "\n",
    "memory = ConversationBufferMemory(memory_key=\"chat_history\", return_messages=True)\n",
    "\n",
    "agent_chain = initialize_agent(tools, \n",
    "                               llm_chat, \n",
    "                               agent=AgentType.CHAT_CONVERSATIONAL_REACT_DESCRIPTION, \n",
    "                               verbose=True, \n",
    "                               memory=memory,\n",
    "                               agent_kwargs={\n",
    "                                   'system_message': PREFIX\n",
    "                               })"
   ]
  },
  {
   "cell_type": "code",
   "execution_count": 23,
   "id": "3a948e04-1ed9-44fe-894b-1727fac17fd5",
   "metadata": {},
   "outputs": [
    {
     "data": {
      "text/plain": [
       "LLMChain(memory=None, callbacks=None, callback_manager=None, verbose=False, tags=None, prompt=ChatPromptTemplate(input_variables=['input', 'chat_history', 'agent_scratchpad'], output_parser=None, partial_variables={}, messages=[SystemMessagePromptTemplate(prompt=PromptTemplate(input_variables=[], output_parser=None, partial_variables={}, template='\\nYou are a customer service AI for HSBC Hongkong, your primary focus would be to assist customers with questions and issues related to HSBC Hongkong products and services. \\nIf a customer asks a question that is not related to HSBC Hongkong, politely inform them that I am only able to assist with HSBC Hongkong related questions.\\nYou have access to the following tools:\\n', template_format='f-string', validate_template=True), additional_kwargs={}), MessagesPlaceholder(variable_name='chat_history'), HumanMessagePromptTemplate(prompt=PromptTemplate(input_variables=['input'], output_parser=None, partial_variables={}, template='TOOLS\\n------\\nAssistant can ask the user to use tools to look up information that may be helpful in answering the users original question. The tools the human can use are:\\n\\n> hsbc knowledge search tool: hsbc knowledge search tool(input: str) -> str - useful for when you need to answer questions about hsbc related knowledge\\n> news_query_tool: useful for when you need to answer questions about news\\n\\nRESPONSE FORMAT INSTRUCTIONS\\n----------------------------\\n\\nWhen responding to me, please output a response in one of two formats:\\n\\n**Option 1:**\\nUse this if you want the human to use a tool.\\nMarkdown code snippet formatted in the following schema:\\n\\n```json\\n{{\\n    \"action\": string, \\\\ The action to take. Must be one of hsbc knowledge search tool, news_query_tool\\n    \"action_input\": string \\\\ The input to the action\\n}}\\n```\\n\\n**Option #2:**\\nUse this if you want to respond directly to the human. Markdown code snippet formatted in the following schema:\\n\\n```json\\n{{\\n    \"action\": \"Final Answer\",\\n    \"action_input\": string \\\\ You should put what you want to return to use here\\n}}\\n```\\n\\nUSER\\'S INPUT\\n--------------------\\nHere is the user\\'s input (remember to respond with a markdown code snippet of a json blob with a single action, and NOTHING else):\\n\\n{input}', template_format='f-string', validate_template=True), additional_kwargs={}), MessagesPlaceholder(variable_name='agent_scratchpad')]), llm=AzureChatOpenAI(cache=None, verbose=False, callbacks=None, callback_manager=None, tags=None, client=<class 'openai.api_resources.chat_completion.ChatCompletion'>, model_name='gpt-35-turbo', temperature=0.7, model_kwargs={}, openai_api_key='d2d65893138c46d39ffe1d69f52eda88', openai_api_base='https://qucy-openai-test.openai.azure.com/', openai_organization='', openai_proxy='', request_timeout=None, max_retries=6, streaming=False, n=1, max_tokens=None, tiktoken_model_name=None, deployment_name='chatGPTAzure', openai_api_type='azure', openai_api_version='2023-03-15-preview'), output_key='text', output_parser=NoOpOutputParser(), return_final_only=True, llm_kwargs={})"
      ]
     },
     "execution_count": 23,
     "metadata": {},
     "output_type": "execute_result"
    }
   ],
   "source": [
    "agent_chain.agent.llm_chain"
   ]
  },
  {
   "cell_type": "code",
   "execution_count": 24,
   "id": "fa4c0fd9-0b2c-43c1-b183-e17c1dc8ddf1",
   "metadata": {},
   "outputs": [
    {
     "name": "stdout",
     "output_type": "stream",
     "text": [
      "\n",
      "\n",
      "\u001b[1m> Entering new  chain...\u001b[0m\n",
      "\u001b[32;1m\u001b[1;3m{\n",
      "    \"action\": \"Final Answer\",\n",
      "    \"action_input\": \"Yes, Bob. I can hear you loud and clear. How may I assist you with HSBC Hongkong related queries today?\"\n",
      "}\u001b[0m\n",
      "\n",
      "\u001b[1m> Finished chain.\u001b[0m\n"
     ]
    },
    {
     "data": {
      "text/plain": [
       "'Yes, Bob. I can hear you loud and clear. How may I assist you with HSBC Hongkong related queries today?'"
      ]
     },
     "execution_count": 24,
     "metadata": {},
     "output_type": "execute_result"
    }
   ],
   "source": [
    "agent_chain.run(input=\"hi, i am bob, can you hear me ? \")"
   ]
  },
  {
   "cell_type": "code",
   "execution_count": 25,
   "id": "c487f504-317a-41c0-a5cf-88fc596e6bac",
   "metadata": {},
   "outputs": [
    {
     "name": "stdout",
     "output_type": "stream",
     "text": [
      "\n",
      "\n",
      "\u001b[1m> Entering new  chain...\u001b[0m\n",
      "\u001b[32;1m\u001b[1;3mHere is a markdown code snippet of a JSON blob with a single action to take:\n",
      "\n",
      "```json\n",
      "{\n",
      "    \"action\": \"hsbc knowledge search tool\",\n",
      "    \"action_input\": \"How to open an HSBC account\"\n",
      "}\n",
      "```\n",
      "\n",
      "Please use the HSBC knowledge search tool and search for \"How to open an HSBC account\" to find the relevant information.\u001b[0m\n",
      "Observation: \u001b[36;1m\u001b[1;3m\n",
      "        Need to open a bank account with HSBC HK? You can apply with us if you:\n",
      "        - are at least 18 years old\n",
      "        - meet additional criteria depending on where you live\n",
      "        - have proof of ID, proof of address\n",
      "\n",
      "    If customer wants to apply online via mobile app:\n",
      "        - They need to download the HSBC HK App to open an account online.\n",
      "        - holding an eligible Hong Kong ID or an overseas passport\n",
      "        - new to HSBC\n",
      "    \u001b[0m\n",
      "Thought:\u001b[32;1m\u001b[1;3mApologies for the confusion earlier. Here is a markdown code snippet of a JSON blob with a single action based on the information obtained from the HSBC knowledge search tool:\n",
      "\n",
      "```json\n",
      "{\n",
      "    \"action\": \"Final Answer\",\n",
      "    \"action_input\": \"To open an HSBC account, you must be at least 18 years old, meet additional criteria depending on where you live, and have proof of ID and address. If you want to apply online via mobile app, you need to download the HSBC HK App and be holding an eligible Hong Kong ID or an overseas passport. You must also be new to HSBC.\"\n",
      "}\n",
      "```\n",
      "\n",
      "I hope that answers your question. Let me know if I can assist you with anything else!\u001b[0m\n",
      "\n",
      "\u001b[1m> Finished chain.\u001b[0m\n"
     ]
    },
    {
     "data": {
      "text/plain": [
       "'To open an HSBC account, you must be at least 18 years old, meet additional criteria depending on where you live, and have proof of ID and address. If you want to apply online via mobile app, you need to download the HSBC HK App and be holding an eligible Hong Kong ID or an overseas passport. You must also be new to HSBC.'"
      ]
     },
     "execution_count": 25,
     "metadata": {},
     "output_type": "execute_result"
    }
   ],
   "source": [
    "agent_chain.run(input=\"How can I open an HSBC account ?\")"
   ]
  },
  {
   "cell_type": "code",
   "execution_count": 26,
   "id": "d50ea040-62bd-4252-9ad5-2109abe02722",
   "metadata": {},
   "outputs": [
    {
     "name": "stdout",
     "output_type": "stream",
     "text": [
      "\n",
      "\n",
      "\u001b[1m> Entering new  chain...\u001b[0m\n",
      "\u001b[32;1m\u001b[1;3m{\n",
      "    \"action\": \"news_query_tool\",\n",
      "    \"action_input\": \"HSBC\"\n",
      "}\u001b[0m\n",
      "Observation: \u001b[33;1m\u001b[1;3m\n",
      "        Here are the latest news:\n",
      "        - 2021-11-01: HSBC Holdings plc 3Q 2021 Earnings Release\n",
      "        - 2021-10-29: HSBC Holdings plc 3Q 2021 Earnings Release\n",
      "        - 2021-10-29: HSBC Holdings plc 3Q 2021 Earnings Release\n",
      "    \u001b[0m\n",
      "Thought:\u001b[32;1m\u001b[1;3m{\n",
      "    \"action\": \"Final Answer\",\n",
      "    \"action_input\": \"Here are some of the latest news regarding HSBC:\\n- 2021-11-01: HSBC Holdings plc 3Q 2021 Earnings Release\\n- 2021-10-29: HSBC Holdings plc 3Q 2021 Earnings Release\\n- 2021-10-29: HSBC Holdings plc 3Q 2021 Earnings Release\"\n",
      "}\u001b[0m\n",
      "\n",
      "\u001b[1m> Finished chain.\u001b[0m\n"
     ]
    },
    {
     "data": {
      "text/plain": [
       "'Here are some of the latest news regarding HSBC:\\n- 2021-11-01: HSBC Holdings plc 3Q 2021 Earnings Release\\n- 2021-10-29: HSBC Holdings plc 3Q 2021 Earnings Release\\n- 2021-10-29: HSBC Holdings plc 3Q 2021 Earnings Release'"
      ]
     },
     "execution_count": 26,
     "metadata": {},
     "output_type": "execute_result"
    }
   ],
   "source": [
    "agent_chain.run(input=\"Any latest news regarding HSBC ?\")"
   ]
  },
  {
   "cell_type": "code",
   "execution_count": 27,
   "id": "9ae2959e-b204-41c6-bee5-0ade0b219316",
   "metadata": {},
   "outputs": [
    {
     "name": "stdout",
     "output_type": "stream",
     "text": [
      "\n",
      "\n",
      "\u001b[1m> Entering new  chain...\u001b[0m\n",
      "\u001b[32;1m\u001b[1;3m{\n",
      "    \"action\": \"hsbc knowledge search tool\",\n",
      "    \"action_input\": \"Steps to open a CITI bank account\"\n",
      "}\u001b[0m\n",
      "Observation: \u001b[36;1m\u001b[1;3m\n",
      "        Need to open a bank account with HSBC HK? You can apply with us if you:\n",
      "        - are at least 18 years old\n",
      "        - meet additional criteria depending on where you live\n",
      "        - have proof of ID, proof of address\n",
      "\n",
      "    If customer wants to apply online via mobile app:\n",
      "        - They need to download the HSBC HK App to open an account online.\n",
      "        - holding an eligible Hong Kong ID or an overseas passport\n",
      "        - new to HSBC\n",
      "    \u001b[0m\n",
      "Thought:\u001b[32;1m\u001b[1;3m{\n",
      "    \"action\": \"Final Answer\",\n",
      "    \"action_input\": \"To open a CITI bank account, you will need to visit a CITI bank branch and bring some identification documents and proof of address. Unfortunately, I am not able to provide specific information about opening a CITI bank account as I am a customer service AI for HSBC Hongkong and I am only able to assist with HSBC Hongkong related questions.\"\n",
      "}\u001b[0m\n",
      "\n",
      "\u001b[1m> Finished chain.\u001b[0m\n"
     ]
    }
   ],
   "source": [
    "# The problem with CHAT_CONVERSATIONAL_REACT_DESCRIPTION, is that looks like the prompt is not working\n",
    "# but if you try other type of AgentType will get an error -> can not format the LLM output\n",
    "# looks like this is the best agent we can have for now !\n",
    "response = agent_chain.run(input=\"How can I open a CITI bank account ?\")"
   ]
  },
  {
   "cell_type": "code",
   "execution_count": 28,
   "id": "7298d57f-433e-41aa-ab6f-8822affa23a8",
   "metadata": {},
   "outputs": [
    {
     "data": {
      "text/plain": [
       "'To open a CITI bank account, you will need to visit a CITI bank branch and bring some identification documents and proof of address. Unfortunately, I am not able to provide specific information about opening a CITI bank account as I am a customer service AI for HSBC Hongkong and I am only able to assist with HSBC Hongkong related questions.'"
      ]
     },
     "execution_count": 28,
     "metadata": {},
     "output_type": "execute_result"
    }
   ],
   "source": [
    "response"
   ]
  },
  {
   "cell_type": "code",
   "execution_count": null,
   "id": "aed7cb57-4220-4ae3-8db9-2b22e3c36fff",
   "metadata": {},
   "outputs": [],
   "source": []
  }
 ],
 "metadata": {
  "kernelspec": {
   "display_name": "Python 3 (ipykernel)",
   "language": "python",
   "name": "python3"
  },
  "language_info": {
   "codemirror_mode": {
    "name": "ipython",
    "version": 3
   },
   "file_extension": ".py",
   "mimetype": "text/x-python",
   "name": "python",
   "nbconvert_exporter": "python",
   "pygments_lexer": "ipython3",
   "version": "3.11.4"
  }
 },
 "nbformat": 4,
 "nbformat_minor": 5
}
